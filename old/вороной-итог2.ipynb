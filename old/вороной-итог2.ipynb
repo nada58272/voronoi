{
 "cells": [
  {
   "cell_type": "markdown",
   "id": "34a20266",
   "metadata": {},
   "source": [
    "Алгоритм:\n",
    "\n",
    "- строим решетку (grid) и соответствующее ей разбиение Вороного (vor4)\n",
    "- Ищем все многогранники центрального региона и его диаметр\n",
    "- составляем список граней центрального многогранника (list_faces)\n",
    "- перебираю различные подрешетки, для каждой из которых:\n",
    "- Ищем точку s (середина расстояния между точкой (0, 0, 0, 0) и центром ближайшего многогранника\n",
    "- Нахожу расстояние от точки s до центрального многоранника\n",
    "- Умножаю это расстояние на 2 и получаю расстояние между многранниками (центральным и ближайшим к нему многогранником из подрешетки)\n",
    "- Нахожу такие подрешетки, чтобы расстояние было больше 1 и при этом определитель подрешетки был минимальным (определитель=хроматическому числу пространства) \n",
    "- составляем словари, ключами которых являются координаты точек s, а значениями - минимальное хроматическое число (dict_det), максимальное запрещенное расстоянием (dict_dist), список матриц (dict_s), соответствующих данной точке s, хроматическому числу и запрещенному расстоянию\n",
    "- составляем датафрейм (df), обьединяя все эти словари\n",
    "- составляем список матриц для каждого подходящего хроматического числа (если запрещенное расстояние больше 1)"
   ]
  },
  {
   "cell_type": "code",
   "execution_count": null,
   "id": "e6b6500f",
   "metadata": {},
   "outputs": [],
   "source": [
    "import numpy as np\n",
    "from scipy.spatial import Voronoi\n",
    "from scipy.spatial import distance\n",
    "from sympy import symbols, Eq, solve\n",
    "import math\n",
    "import itertools\n",
    "import copy\n",
    "from scipy.spatial import Delaunay\n",
    "import pandas as pd\n",
    "from itertools import *"
   ]
  },
  {
   "cell_type": "code",
   "execution_count": null,
   "id": "563c1607",
   "metadata": {},
   "outputs": [],
   "source": [
    "grid = np.array([\n",
    "    [2, 0, 0, 0],\n",
    "    [1, 1, 0, 0],\n",
    "    [1, 0, 1, 0],\n",
    "    [1, 0, 0, 1]\n",
    "], dtype = float)"
   ]
  },
  {
   "cell_type": "code",
   "execution_count": null,
   "id": "d27e05ab",
   "metadata": {},
   "outputs": [],
   "source": [
    "points_count = 8\n",
    "\n",
    "coords4 = []\n",
    "digits = range(- (points_count // 4), points_count - (points_count // 4))\n",
    "\n",
    "for var in itertools.product(digits, repeat=4):\n",
    "    coords4.append((grid.T).dot(var).tolist())\n",
    "    \n",
    "#coords4 # координаты центров"
   ]
  },
  {
   "cell_type": "code",
   "execution_count": null,
   "id": "5e4afa80",
   "metadata": {},
   "outputs": [],
   "source": [
    "# строим диаграмму Вороного\n",
    "\n",
    "vor4 = Voronoi(coords4)"
   ]
  },
  {
   "cell_type": "code",
   "execution_count": null,
   "id": "2840c1e3",
   "metadata": {},
   "outputs": [],
   "source": [
    "# вершины диаграммы Вороного\n",
    "\n",
    "vor4.vertices"
   ]
  },
  {
   "cell_type": "code",
   "execution_count": null,
   "id": "dc9732c7",
   "metadata": {},
   "outputs": [],
   "source": [
    "# регионы\n",
    "\n",
    "vor4.regions"
   ]
  },
  {
   "cell_type": "code",
   "execution_count": null,
   "id": "6ebd9bbb",
   "metadata": {},
   "outputs": [],
   "source": [
    "# список конечных областей Вороного (-1 в координатах означает, что область бесконечна)\n",
    "\n",
    "count = 0\n",
    "vor4.regions_finite = []\n",
    "for i in vor4.regions:\n",
    "    if -1 not in i:\n",
    "        vor4.regions_finite.append(i)\n",
    "        count += 1\n",
    "        \n",
    "print(count)"
   ]
  },
  {
   "cell_type": "code",
   "execution_count": null,
   "id": "69f64feb",
   "metadata": {},
   "outputs": [],
   "source": [
    "# максимальный размер региона (по числу вершин)\n",
    "\n",
    "len_r_max = 0 # размер максимального региона\n",
    "count_r = 0 # количество таких регионов\n",
    "\n",
    "for i in range(len(vor4.regions)):\n",
    "    len_r = len(vor4.regions[i])\n",
    "    \n",
    "    if len_r >= len_r_max:\n",
    "        len_r_max = len_r\n",
    "        count_r += 1 # считаем количество таких регионов\n",
    "        \n",
    "print('количество вершин =', len_r_max, 'количество =', count_r)"
   ]
  },
  {
   "cell_type": "code",
   "execution_count": null,
   "id": "4993e035",
   "metadata": {},
   "outputs": [],
   "source": [
    "# находим суммарные расстояния от вершин многогранников до (0, 0, 0, 0) (sum_dist), затем находим минимальное \n",
    "# значение. Таким образом находим ближайший центральный многогранник\n",
    "\n",
    "sum_dist_min = 1000\n",
    "\n",
    "for i in range(1, len(vor4.regions)):\n",
    "    len_r = len(vor4.regions[i])\n",
    "\n",
    "    if -1 not in vor4.regions[i]: # регион должен быть конечным\n",
    "        l = 0\n",
    "        \n",
    "        # для i региона перебираем все его вершины и для каждой ищем расстояние до [0.0, 0.0, 0.0, 0.0]\n",
    "        for j in range(len_r):\n",
    "            l += distance.euclidean(vor4.vertices[vor4.regions[i][j]], [0.0, 0.0, 0.0, 0.0])\n",
    "\n",
    "        if l < sum_dist_min:\n",
    "            sum_dist_min = l\n",
    "            v_min = i\n",
    "\n",
    "        \n",
    "print ('суммарное расстояние =', sum_dist_min, 'индекс центрального региона =', v_min)"
   ]
  },
  {
   "cell_type": "code",
   "execution_count": null,
   "id": "18bcb203",
   "metadata": {},
   "outputs": [],
   "source": [
    "# центральный регион\n",
    "\n",
    "central = vor4.vertices[vor4.regions[v_min]]\n",
    "central"
   ]
  },
  {
   "cell_type": "code",
   "execution_count": null,
   "id": "26b71478",
   "metadata": {},
   "outputs": [],
   "source": [
    "# нахожу длину ребра центрального политопа\n",
    "d_edge_min = 100\n",
    "count = 0\n",
    "for i in range(0, len(central)-1):\n",
    "    for j in range(i + 1, len(central)):\n",
    "        d_edge = distance.euclidean(central[i], central[j])\n",
    "        if d_edge_min >= d_edge:\n",
    "            d_edge_min = d_edge\n",
    "            count += 1\n",
    "            \n",
    "d_edge_min, count\n",
    "                           "
   ]
  },
  {
   "cell_type": "code",
   "execution_count": null,
   "id": "d0fd89b5",
   "metadata": {},
   "outputs": [],
   "source": [
    "# индексы вершин центрального региона\n",
    "\n",
    "vor4.regions[v_min]"
   ]
  },
  {
   "cell_type": "code",
   "execution_count": null,
   "id": "9336b47a",
   "metadata": {},
   "outputs": [],
   "source": [
    "# список многоугольников\n",
    "\n",
    "vor4.ridge_vertices"
   ]
  },
  {
   "cell_type": "code",
   "execution_count": null,
   "id": "802b0e60",
   "metadata": {},
   "outputs": [],
   "source": [
    "\n",
    "vor4.ridge_vertices[1]"
   ]
  },
  {
   "cell_type": "code",
   "execution_count": null,
   "id": "59c28505",
   "metadata": {},
   "outputs": [],
   "source": [
    "# трехмерные ячейки \n",
    "edge_central = []\n",
    "for i in range(len(vor4.ridge_vertices)):\n",
    "    count = 0\n",
    "\n",
    "    for j in range(len(vor4.ridge_vertices[i])):\n",
    "        if vor4.ridge_vertices[i][j] in vor4.regions[v_min]:\n",
    "            count += 1 \n",
    "\n",
    "    if count == len(vor4.ridge_vertices[i]):\n",
    "        edge_central.append(vor4.ridge_vertices[i])\n",
    "        \n",
    "# перевожу индексы вершин в координаты\n",
    "edge_central_coords = []\n",
    "for i in range(len(edge_central)):\n",
    "    r = []\n",
    "    for j in range(len(edge_central[i])):\n",
    "        r.append(vor4.vertices[edge_central[i][j]])\n",
    "    edge_central_coords.append(np.array(r))\n",
    "    \n",
    "edge_central_coords"
   ]
  },
  {
   "cell_type": "code",
   "execution_count": null,
   "id": "8e7fdba5",
   "metadata": {},
   "outputs": [],
   "source": [
    "#количество трехмерных ячеек\n",
    "len(edge_central_coords)"
   ]
  },
  {
   "cell_type": "code",
   "execution_count": null,
   "id": "e88e941b",
   "metadata": {},
   "outputs": [],
   "source": [
    "# составляем список граней многогранника\n",
    "\n",
    "list_faces = []\n",
    "\n",
    "# берем каждый 3х мерный многогранник\n",
    "for m in edge_central_coords:\n",
    "    \n",
    "    # составляем список ребер (расстояние между вершинами, соединенными ребрами = 1)\n",
    "    list_edges = []\n",
    "    for i in range(len(m)-1):\n",
    "        for j in range(i+1, len(m)):\n",
    "            k = []\n",
    "            d = distance.euclidean(m[i], m[j])\n",
    "            if d == 1:\n",
    "                k.append(i)\n",
    "                k.append(j)\n",
    "                list_edges.append(k)\n",
    "    # перебираем все комбинации ребер и ищем грани (если количество задействованных вершин в комбинации из 3х\n",
    "    #  ребер = 3, то это грань)                       \n",
    "    digits = list_edges\n",
    "    list_faces_one = []  \n",
    "    for var in itertools.combinations(digits, r=3):\n",
    "        set_vet = set(var[0] + var[1] + var[2])\n",
    "        set_vet_coord = []\n",
    "        if len(set_vet) == 3:\n",
    "            for i in range(len(set_vet)):\n",
    "                set_vet_coord.append(m[list(set_vet)[i]])\n",
    "            list_faces_one.append(set_vet_coord)\n",
    "               \n",
    "    list_faces.append(list_faces_one)\n",
    "    \n",
    "print('количество граней в одном зх мерном многограннике =', len(list_faces[1]))"
   ]
  },
  {
   "cell_type": "code",
   "execution_count": null,
   "id": "8f42c85d",
   "metadata": {},
   "outputs": [],
   "source": [
    "# диаметр многогранника (ищем максимальное расстояние между вершинами)\n",
    "\n",
    "max_len = 0\n",
    "\n",
    "for i in range(len(central) - 1):\n",
    "    for j in range(i+1, len(central)):\n",
    "        len_v = distance.euclidean(central[i], central[j])\n",
    "        if len_v > max_len:\n",
    "            max_len = len_v\n",
    "            u1 = i\n",
    "            u2 = j\n",
    "               \n",
    "print('диаметр =', max_len, 'индексы вершин:', u1, ',',  u2) \n",
    "# u1, u2 - индексы вершин, расстояние между которыми максимально"
   ]
  },
  {
   "cell_type": "code",
   "execution_count": null,
   "id": "4406e10d",
   "metadata": {},
   "outputs": [],
   "source": [
    "# координаты проекции\n",
    "\n",
    "# coord1, coord2, coord3 - координаты 3 точек, d - точка, проекцию которой надо найти\n",
    "\n",
    "def coords_proj(coord1, coord2, coord3, d):\n",
    "    \n",
    "    M = []        \n",
    "    M.append(coord1)\n",
    "    \n",
    "    l1 = []\n",
    "    l2 = []\n",
    "    \n",
    "    for i in range(4):\n",
    "        l1.append(coord2[i] - coord1[i])\n",
    "        l2.append(coord3[i] - coord1[i])\n",
    "        \n",
    "    M.append(l1)\n",
    "    M.append(l2)\n",
    "    H1 = (np.array(M[1])).dot((np.array(M).T))\n",
    "    K1 = np.array(l1).dot(d)\n",
    "    H2 = (np.array(M[2])).dot((np.array(M).T))\n",
    "    K2 = np.array(l2).dot(d)\n",
    "\n",
    "    # Определение переменных\n",
    "    x1, x2 = symbols('x1 x2')\n",
    "\n",
    "    # Определение системы уравнений\n",
    "    equations = [\n",
    "        Eq(H1[0] + H1[1]*x1 + H1[2]*x2, K1),\n",
    "        Eq(H2[0] + H2[1]*x1 + H2[2]*x2, K2)\n",
    "    ]\n",
    "\n",
    "    # Решение системы\n",
    "    symbolic_solution = solve(equations, (x1, x2))\n",
    "\n",
    "    # Вывод решения\n",
    "    symbolic_solution\n",
    "    \n",
    "    coords = [1]\n",
    "    coords.append(symbolic_solution[x1])\n",
    "    coords.append(symbolic_solution[x2])\n",
    "    \n",
    "    \n",
    "    return np.array(M).T.dot(coords)"
   ]
  },
  {
   "cell_type": "code",
   "execution_count": null,
   "id": "10d874fd",
   "metadata": {},
   "outputs": [],
   "source": [
    "# расстояние от точки до отрезка\n",
    "\n",
    "import math\n",
    "\n",
    "def distance_point_to_edge(p, a, b):\n",
    "    \n",
    "    # скалярное умножение 2х векторов\n",
    "    def dot_product(v, w):\n",
    "        sum_coord = 0\n",
    "        for i in range(len(v)):\n",
    "            sum_coord += v[i]*w[i]\n",
    "        return sum_coord\n",
    "    \n",
    "    # разность 2х векторов\n",
    "    def vector(v, w):\n",
    "        list_dif = []\n",
    "        for i in range(len(v)):\n",
    "            k = w[i] - v[i]\n",
    "            list_dif.append(k)\n",
    "        return list_dif\n",
    "    \n",
    "    # длина вектора\n",
    "    def magnitude(v):\n",
    "        sum_sqr = 0\n",
    "        for i in range(len(v)):\n",
    "            sum_sqr += v[i]*v[i]\n",
    "        return math.sqrt(sum_sqr)\n",
    "    \n",
    "    # умножение вектора на константу\n",
    "    def scale(v, const):\n",
    "        list_const = []\n",
    "        for i in range(len(v)):\n",
    "            list_const.append(v[i]*const)\n",
    "        return list_const\n",
    "\n",
    "    # сумма 2х векторов\n",
    "    def add(v, w):\n",
    "        sum_add = []\n",
    "        for i in range(len(v)):\n",
    "            sum_add.append(v[i]+w[i])\n",
    "        return sum_add\n",
    "\n",
    "    ab = vector(a, b)\n",
    "    ap = vector(a, p)\n",
    "\n",
    "    ab_magnitude = magnitude(ab)\n",
    "    ap_dot_ab = dot_product(ap, ab)\n",
    "\n",
    "    if ap_dot_ab <= 0:\n",
    "        \n",
    "        # Проекция точки на отрезок находится вне отрезка и ближе к точке a\n",
    "        return magnitude(ap)\n",
    "    \n",
    "    if ap_dot_ab >= ab_magnitude*ab_magnitude:\n",
    "        \n",
    "        # Проекция точки на отрезок находится вне отрезка и ближе к точке b\n",
    "        dist_b = 0\n",
    "        for i in range(len(b)):\n",
    "            dist_b += ((p[i] - b[i])**2)\n",
    "        return math.sqrt(dist_b)\n",
    "\n",
    "    # Проекция точки на отрезок находится внутри отрезка\n",
    "    projection = add(a, scale(ab, ap_dot_ab/ab_magnitude**2))\n",
    "    return magnitude(vector(p, projection))"
   ]
  },
  {
   "cell_type": "code",
   "execution_count": null,
   "id": "e5a6617b",
   "metadata": {},
   "outputs": [],
   "source": [
    "# строим триангуляцию Делоне, используя ее, будем определять находится ли проекция внутри многогранника\n",
    "\n",
    "delaunay = Delaunay(central)"
   ]
  },
  {
   "cell_type": "code",
   "execution_count": null,
   "id": "3a39b764",
   "metadata": {
    "scrolled": true
   },
   "outputs": [],
   "source": [
    "# решетка в обычном базисе\n",
    "\n",
    "# ищет для подрешетки точку s\n",
    "#def s_point(grid, sub_grid):#sub_grid_0):\n",
    "    \n",
    "    # ищет для подрешетки точку s\n",
    "def s_point(grid, sub_grid):\n",
    "\n",
    "    coords4_1 = []\n",
    "    digits = range(- 2, 3)\n",
    "    \n",
    "    # проверяю, что расстояния между точками подрешетки более 2 диаметров политопов\n",
    "    for var in itertools.product(digits, repeat=4):\n",
    "        coords4_1.append((sub_grid.T).dot(var).tolist())\n",
    "    \n",
    "    min_dist = 100\n",
    "    for i in range(len(coords4_1) - 1):\n",
    "        for j in range(i + 1, len(coords4_1)):\n",
    "            d_xy = distance.euclidean(coords4_1[i], coords4_1[j])\n",
    "            if d_xy < min_dist:\n",
    "                min_dist = d_xy\n",
    "    if ((min_dist - max_len) / max_len) > 1:\n",
    "\n",
    "        # ищем координаты, которые есть в решетке и подрешетке   \n",
    "        common_coord = []\n",
    "        for i in coords4:\n",
    "            if i in coords4_1:\n",
    "                common_coord.append(i)\n",
    "\n",
    "        # расчитывам расстояние от [0.0, 0.0, 0.0, 0.0] до остальных точек и ищем минимальное расстояние\n",
    "        min_dist = float('inf')\n",
    "        for i in range(len(common_coord)):\n",
    "            dist_centr = distance.euclidean(common_coord[i], [0.0, 0.0, 0.0, 0.0])\n",
    "\n",
    "            if common_coord[i] != [0, 0] and dist_centr < min_dist:\n",
    "\n",
    "                min_dist = dist_centr \n",
    "                min_dist_i = i #расстояние от [0.0, 0.0, 0.0, 0.0] до ближайшего другого центра\n",
    "\n",
    "        # находим точку s (середину между центрами многограников)\n",
    "        s = np.array(common_coord[min_dist_i], float) * 0.5\n",
    "\n",
    "        return s \n",
    "    return [0.5, 0.5, 0.5, 0.5] #если расстояние меньше, то возвращаю одну из точек центрального политопа\n",
    "\n"
   ]
  },
  {
   "cell_type": "code",
   "execution_count": null,
   "id": "45230e19",
   "metadata": {},
   "outputs": [],
   "source": [
    "# ищет для подрешетки запрещенное расстояние\n",
    "\n",
    "def dist(s):\n",
    "    min_dist_s = float('inf') #минимальное расстояние до точки s \n",
    "     \n",
    "    # перебирем все грани\n",
    "    for i in range(len(list_faces)):\n",
    "\n",
    "        for j in range(len(list_faces[i])):\n",
    "\n",
    "            # находим координаты проекции на грань и расстояние от точки до проекции\n",
    "            f_coords = coords_proj(list_faces[i][j][0], list_faces[i][j][1], list_faces[i][j][2], s)\n",
    "            f = distance.euclidean(s, np.array(f_coords, dtype = 'float'))\n",
    "\n",
    "            # если расстояние меньше, то проверяем находится ли точка проекции в триангуляции\n",
    "            # если да, то приравниваем минимальное расстояние к расстоянию между точкой и ее проекцией\n",
    "            if f < min_dist_s:            \n",
    "                simplex = delaunay.find_simplex(f_coords)\n",
    "                \n",
    "                if simplex != -1:                    \n",
    "                    min_dist_s = f\n",
    "              \n",
    "                \n",
    "    # ищем расстояние до каждого ребра через функцию distance_point_to_edge \n",
    "    for i in range(len(edge_central_coords)):\n",
    "        digits = edge_central_coords[i]\n",
    "        for var in itertools.combinations(digits, r=2):\n",
    "            dist_point = distance_point_to_edge(s, var[0], var[1])\n",
    "\n",
    "            # если полученное расстояние меньше минимального, то меняем значение минимального расстояния\n",
    "            if dist_point < min_dist_s:\n",
    "                min_dist_s = dist_point\n",
    "\n",
    "                \n",
    "    return (min_dist_s * 2)/ max_len\n"
   ]
  },
  {
   "cell_type": "code",
   "execution_count": null,
   "id": "bc7dfb30",
   "metadata": {
    "scrolled": true
   },
   "outputs": [],
   "source": [
    "# перебираем матрицы и, если определитель подходящий, то считаем точку s(середина отрезка, соединяющая\n",
    "# центральный многогранник и ближайший к нему)\n",
    "\n",
    "list_mat_s = dict() # ключ - точка s, значение - списоок матриц\n",
    "list_val = [-4, -3, -2, -1, 0, 1, 2, 3, 4]\n",
    "\n",
    "\n",
    "mat = np.array([[0, 0, 0, 0], [0, 1, -2, 1], [0, -1, -1, 2], [0, 2, 3, 1]])\n",
    "\n",
    "\n",
    "for i1 in list_val:\n",
    "    mat[3][0] = i1\n",
    "    print(i1)\n",
    "    for i2 in list_val:\n",
    "        mat[2][0] = i2\n",
    "        for i3 in list_val:\n",
    "            mat[1][0] = i3\n",
    "            for i4 in list_val:\n",
    "                mat[0][0] = i4\n",
    "                for i5 in list_val:\n",
    "                    mat[0][1] = i5\n",
    "                    for i6 in list_val:\n",
    "                        mat[0][2] = i6\n",
    "                        for i7 in list_val:\n",
    "                            mat[0][3] = i7\n",
    "                            \n",
    "                            det_mat = round(abs(float(np.linalg.det(mat))), 0)\n",
    "\n",
    "                            if det_mat > 31:# ставлю условие на определитель (тк меньшее число цветов невозможно)\n",
    "\n",
    "                                sub_grid = ((mat).dot(grid))\n",
    "                                s1 = s_point(grid, sub_grid)\n",
    "                        \n",
    "                                if tuple(s1) in list_mat_s:\n",
    "                                    list_mat_s[tuple(s1)].append([copy.deepcopy(mat)])\n",
    "\n",
    "                                else:\n",
    "                                    list_mat_s[tuple(s1)] = [copy.deepcopy(mat)]\n"
   ]
  },
  {
   "cell_type": "code",
   "execution_count": null,
   "id": "67a80996",
   "metadata": {},
   "outputs": [],
   "source": []
  },
  {
   "cell_type": "code",
   "execution_count": null,
   "id": "1fa424be",
   "metadata": {},
   "outputs": [],
   "source": []
  },
  {
   "cell_type": "markdown",
   "id": "7d7119ec",
   "metadata": {},
   "source": [
    "## пробую сократить количество матриц (следующие 3 ячейки дублируют последнюю)"
   ]
  },
  {
   "cell_type": "code",
   "execution_count": 2,
   "id": "206613af",
   "metadata": {},
   "outputs": [],
   "source": [
    "from itertools import *"
   ]
  },
  {
   "cell_type": "code",
   "execution_count": 3,
   "id": "0070112c",
   "metadata": {},
   "outputs": [
    {
     "name": "stdout",
     "output_type": "stream",
     "text": [
      "3280\n"
     ]
    }
   ],
   "source": [
    "# генерирую все возможные вектора\n",
    "\n",
    "list_vec_s = dict() # ключ - точка s, значение - списоок матриц\n",
    "list_vec = []\n",
    "list_val = [-4, -3, -2, -1, 0, 1, 2, 3, 4]\n",
    "\n",
    "for i in product(list_val, repeat=4):\n",
    "    \n",
    "    k = tuple(j * (-1) for j in i)\n",
    "\n",
    "    if i not in list_vec and k not in list_vec:\n",
    "        list_vec.append(i)\n",
    "        \n",
    "list_vec.remove((0, 0, 0, 0))\n",
    "\n",
    "print(len(list_vec))"
   ]
  },
  {
   "cell_type": "code",
   "execution_count": null,
   "id": "4a779054",
   "metadata": {},
   "outputs": [],
   "source": [
    "\n",
    "list_mat = []\n",
    "\n",
    "for mat in combinations(list_vec, 4):\n",
    "    mat = np.array(mat)\n",
    "    det = round(abs(float(np.linalg.det(mat))), 0)\n",
    "    if det > 31:\n",
    "\n",
    "# ищем расстояния между базисными векторами - они болжны быть (d_min - max_len) / max_len > 1 \n",
    "        sub_grid = ((mat).dot(grid))\n",
    "        \n",
    "        s1 = s_point(grid, sub_grid)\n",
    "\n",
    "        if tuple(s1) in list_mat_s:\n",
    "            list_mat_s[tuple(s1)].append([copy.deepcopy(mat)])\n",
    "\n",
    "        else:\n",
    "            list_mat_s[tuple(s1)] = [copy.deepcopy(mat)]\n"
   ]
  },
  {
   "cell_type": "markdown",
   "id": "a6492861",
   "metadata": {},
   "source": [
    "Если перебирать все матрицы, то получается 9^16 (16 позиций и значения от -4 до 4 включительно). Если ограничить как в 3 ячейках выше, то получается около 8 813 815 млн матриц, что составляет 0.26% от общего числа, но все равно слишком много, чтобы посчиталось за разумное время. \n",
    "Для сравнения в 3 мерном пространстве, если так отфтльтровать матрицы, получатся меньше 1 млн матриц.\n",
    "\n",
    "На самом деле после введения дополнительной проверки в функции s_point(grid, sub_grid) время работы алгоритма значительно увеличилось и теперь даже с фиксированными элементами считает очень долго - несколько дней точно. Пока ни разу не досчитал, тк возникают проблемы у ноутбука. И приходилось запускать заново. \n"
   ]
  },
  {
   "cell_type": "code",
   "execution_count": null,
   "id": "41c30c98",
   "metadata": {},
   "outputs": [],
   "source": []
  },
  {
   "cell_type": "code",
   "execution_count": null,
   "id": "074f1624",
   "metadata": {},
   "outputs": [],
   "source": [
    "list_mat_s"
   ]
  },
  {
   "cell_type": "code",
   "execution_count": null,
   "id": "726d922a",
   "metadata": {},
   "outputs": [],
   "source": [
    "# находим минимальный определитель для каждой точки s и матрицы, соответствующие данному хроматическому \n",
    "# числу для каждой точки s\n",
    "\n",
    "dict_det = {} # ключ - точка s, значение - минимальное хроматическое число среди всех матриц\n",
    "dict_s = {} # ключ - точка s, значение - матрицы, соответствующие минимальному хроматическому числу\n",
    "\n",
    "\n",
    "# перебираем все точки s и для каждой считаем определитель, находим минимальный и сооветствующие матрицы\n",
    "for j in list_mat_s:\n",
    "    best_mat = []\n",
    "    min_det = float('inf')\n",
    "    \n",
    "    for i in list_mat_s[j]:\n",
    "\n",
    "        det = round(int(abs(np.linalg.det(i))), 0)\n",
    "\n",
    "        # если находим меньший подходящий определитель, то очищаем список матриц и записываем новое з\n",
    "        # начение минимального определителя\n",
    "        if det == min_det:\n",
    "            best_mat.append(i)\n",
    "        if det > 31 and det < min_det:\n",
    "\n",
    "            best_mat.clear()\n",
    "            best_mat.append(i)\n",
    "            min_det = det\n",
    "\n",
    "    \n",
    "    # если определитель меньше бесконечности, то добавляем полученные значения в словари\n",
    "    if min_det < 81:\n",
    "        dict_s[j] = best_mat\n",
    "        dict_det[j] = min_det\n",
    "\n",
    "\n",
    "print(len(dict_s), dict_s)"
   ]
  },
  {
   "cell_type": "code",
   "execution_count": null,
   "id": "a70fad86",
   "metadata": {},
   "outputs": [],
   "source": [
    "# ищем расстояние для каждой точки s\n",
    "\n",
    "dict_dist = {}\n",
    "for key in dict_s:\n",
    "    d = dist(key)\n",
    "        \n",
    "    dict_dist[key] = d\n"
   ]
  },
  {
   "cell_type": "code",
   "execution_count": null,
   "id": "08f6cd44",
   "metadata": {},
   "outputs": [],
   "source": [
    "# меняем тип данных в словаре с хроматичекими числами\n",
    "\n",
    "dict_det = {k: int(v) for k, v in dict_det.items()}\n",
    "dict_det"
   ]
  },
  {
   "cell_type": "code",
   "execution_count": null,
   "id": "dc288aa0",
   "metadata": {},
   "outputs": [],
   "source": [
    "# создаю датафрейм с колонками: 's' - координаты точки s, 'ch_n' - минимальное хроматическое число, \n",
    "# 'dist' - максимальное запрещенное расстояние, 'mats' - список соответствующих матриц\n",
    "\n",
    "df = pd.DataFrame(list(dict_det.items()), columns=['s', 'ch_n'])\n",
    "df['dist'] = df['s'].map(dict_dist)\n",
    "df['mats'] = df['s'].map(dict_s)\n",
    "df"
   ]
  },
  {
   "cell_type": "code",
   "execution_count": null,
   "id": "65577e99",
   "metadata": {
    "scrolled": false
   },
   "outputs": [],
   "source": [
    "df.loc[(df['dist'] > 1)]\n"
   ]
  },
  {
   "cell_type": "code",
   "execution_count": null,
   "id": "c8ab6b58",
   "metadata": {},
   "outputs": [],
   "source": []
  },
  {
   "cell_type": "code",
   "execution_count": null,
   "id": "2c1e9eae",
   "metadata": {
    "scrolled": true
   },
   "outputs": [],
   "source": [
    "# составляем список матриц, соответствующих хроматическому числу = 27\n",
    "\n",
    "list_mats_27 = (df.loc[(df['dist'] > 1) & (df['ch_n'] == 27)].iloc[0]['mats'] + \\\n",
    "             df.loc[(df['dist'] > 1) & (df['ch_n'] == 27)].iloc[1]['mats'] + \\\n",
    "             df.loc[(df['dist'] > 1) & (df['ch_n'] == 27)].iloc[2]['mats'])\n",
    "list_mats_27"
   ]
  },
  {
   "cell_type": "code",
   "execution_count": null,
   "id": "6fe18c6a",
   "metadata": {},
   "outputs": [],
   "source": [
    "# составляем список матриц, соответствующих хроматическому числу = 72\n",
    "\n",
    "list_mats_72 = (df.loc[(df['dist'] > 1) & (df['ch_n'] == 72)].iloc[0]['mats'] + \\\n",
    "             df.loc[(df['dist'] > 1) & (df['ch_n'] == 72)].iloc[1]['mats'] + \\\n",
    "             df.loc[(df['dist'] > 1) & (df['ch_n'] == 72)].iloc[2]['mats'] + \\\n",
    "               df.loc[(df['dist'] > 1) & (df['ch_n'] == 72)].iloc[3]['mats'] + \\\n",
    "             df.loc[(df['dist'] > 1) & (df['ch_n'] == 72)].iloc[4]['mats'])\n",
    "list_mats_72"
   ]
  },
  {
   "cell_type": "code",
   "execution_count": null,
   "id": "6e8489c6",
   "metadata": {},
   "outputs": [],
   "source": []
  }
 ],
 "metadata": {
  "kernelspec": {
   "display_name": "Python 3 (ipykernel)",
   "language": "python",
   "name": "python3"
  },
  "language_info": {
   "codemirror_mode": {
    "name": "ipython",
    "version": 3
   },
   "file_extension": ".py",
   "mimetype": "text/x-python",
   "name": "python",
   "nbconvert_exporter": "python",
   "pygments_lexer": "ipython3",
   "version": "3.9.18"
  }
 },
 "nbformat": 4,
 "nbformat_minor": 5
}
