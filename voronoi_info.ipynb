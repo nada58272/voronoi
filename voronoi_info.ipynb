{
 "cells": [
  {
   "cell_type": "markdown",
   "id": "04ac9f5f",
   "metadata": {},
   "source": [
    "# Хроматическое число R^4"
   ]
  },
  {
   "cell_type": "markdown",
   "id": "1ae352d6",
   "metadata": {},
   "source": [
    "### Описание алгоритма"
   ]
  },
  {
   "cell_type": "markdown",
   "id": "34a20266",
   "metadata": {},
   "source": [
    "Алгоритм:\n",
    "\n",
    "- строим решетку (grid) и соответствующее ей разбиение Вороного (vor4)\n",
    "- Ищем все многогранники центрального региона и его диаметр\n",
    "- составляем список граней центрального многогранника (list_faces)\n",
    "- перебираю различные подрешетки для каждой ищу приведенный базис, нахожу длину минимального вектора и минимальное расстояние между векторами и их комбинациями:\n",
    "- Ищем точку s (середина расстояния между точкой (0, 0, 0, 0) и центром ближайшего многогранника\n",
    "- Нахожу расстояние от точки s до центрального многоранника\n",
    "- Умножаю это расстояние на 2 и получаю расстояние между многранниками (центральным и ближайшим к нему многогранником из подрешетки)\n",
    "- составляем словари, ключами которых являются координаты точек s, а значениями - минимальное хроматическое число (dict_det), максимальное запрещенное расстоянием (dict_dist), список матриц (dict_s), соответствующих данной точке s, хроматическому числу и запрещенному расстоянию\n",
    "- составляем датафрейм (df), обьединяя все эти словари\n",
    "- составляем список матриц для каждого подходящего хроматического числа (если запрещенное расстояние больше 1)"
   ]
  },
  {
   "cell_type": "markdown",
   "id": "0db6f35f",
   "metadata": {},
   "source": [
    "- central - список вершин центрального многогранника\n",
    "- coords4 - список координат центров многогранников Вороного\n",
    "\n",
    "- vor4.vertices - список координат вершин разбиенния Вороного\n",
    "- vor4.regions - список индексов координат вершин многогранников разбиения Вороного (vor4.vertices)\n",
    "- vor4.ridge_vertices - координаты вершин 3-мерных граней разбиенния Вороного через их индексы в vor4.vertices\n",
    "- vor4.ridge_points - список пар центров многогранников Вороного между которыми есть ребро 2х многогранников через индексы в coords4 (по сути - соседние многогранники)\n",
    "\n",
    "- edge_central_coords - список списков вершин каждой 3-мерной грани центрального многогранника\n",
    "- edge_central - список индексов (в vor4.vertices)  координат каждой 3-мерной грани \n",
    "- list_faces - список 3х мерных граней центрального многогранника с разбивкой каждой 3х мерной грани на 2-мерные\n",
    "- list_pairs - список центров многогранников Вороного, соседних с центральным (индексы в coords4)\n",
    "\n",
    "- list_neigh_points - список координат центров многогранников, граничащих с центральным (по сути - вектора нормали к 3-мерным граням центрального многогранника)\n",
    "- dict_point_edge - словарь: ключ - координаты соседней точки, значение - 3х мерная грань между соседней точкой и (0,0,0,0)\n",
    "- index_point_edge - индекс грани в списке граней центрального многогранника (edge_central_coords)\n",
    "- list_ridge_edge - список граней, в том же порядке, что и соседние точки (list_neigh_points) или что и соответствующие вектора нормали к данным граням\n",
    "- v_norm - список нормированных векторов нормали (в том же порядке, что и изначальные точки(вектора) нормали)\n",
    "- point_face_norm - точки, принадлежащие грани и лежащие на векторе нормали (середина вектора, соединяющего центры)"
   ]
  },
  {
   "cell_type": "markdown",
   "id": "6dd7bccd",
   "metadata": {},
   "source": [
    "### Построение многогранника Вороного"
   ]
  },
  {
   "cell_type": "code",
   "execution_count": null,
   "id": "d27e05ab",
   "metadata": {
    "scrolled": true
   },
   "outputs": [],
   "source": [
    "import copy\n",
    "from itertools import *\n",
    "from copy import deepcopy\n",
    "\n",
    "from Polyhedra import *\n",
    "\n",
    "grid = np.array([\n",
    "    [2, 0, 0, 0],\n",
    "    [1, 1, 0, 0],\n",
    "    [1, 0, 1, 0],\n",
    "    [1, 0, 0, 1]\n",
    "], dtype = float)\n",
    "\n",
    "vor4 = VoronoiPolyhedra(grid)\n",
    "vor4.build()"
   ]
  },
  {
   "cell_type": "code",
   "execution_count": null,
   "id": "2840c1e3",
   "metadata": {
    "scrolled": true
   },
   "outputs": [],
   "source": [
    "# вершины диаграммы Вороного\n",
    "vor4.vertices"
   ]
  },
  {
   "cell_type": "code",
   "execution_count": null,
   "id": "dc9732c7",
   "metadata": {
    "scrolled": false
   },
   "outputs": [],
   "source": [
    "# регионы\n",
    "\n",
    "vor4.regions[1]"
   ]
  },
  {
   "cell_type": "code",
   "execution_count": null,
   "id": "6ebd9bbb",
   "metadata": {
    "scrolled": true
   },
   "outputs": [],
   "source": [
    "# список конечных областей Вороного (-1 в координатах означает, что область бесконечна)\n",
    "\n",
    "count = 0\n",
    "vor4.regions_finite = []\n",
    "for i in vor4.regions:\n",
    "    if -1 not in i:\n",
    "        vor4.regions_finite.append(i)\n",
    "        count += 1\n",
    "        \n",
    "print(count)"
   ]
  },
  {
   "cell_type": "code",
   "execution_count": null,
   "id": "69f64feb",
   "metadata": {
    "scrolled": true
   },
   "outputs": [],
   "source": [
    "# максимальный размер региона (по числу вершин)\n",
    "\n",
    "len_r_max = 0 # размер максимального региона\n",
    "count_r = 0 # количество таких регионов\n",
    "\n",
    "for i in range(len(vor4.regions)):\n",
    "    len_r = len(vor4.regions[i])\n",
    "    \n",
    "    if len_r >= len_r_max:\n",
    "        len_r_max = len_r\n",
    "        count_r += 1 # считаем количество таких регионов\n",
    "        \n",
    "print('количество вершин =', len_r_max, 'количество =', count_r)"
   ]
  },
  {
   "cell_type": "code",
   "execution_count": null,
   "id": "4993e035",
   "metadata": {
    "scrolled": true
   },
   "outputs": [],
   "source": [
    "# находим суммарные расстояния от вершин многогранников до (0, 0, 0, 0) (sum_dist), затем находим минимальное \n",
    "# значение. Таким образом находим ближайший центральный многогранник central\n",
    "\n",
    "sum_dist_min = 1000\n",
    "\n",
    "for i in range(1, len(vor4.regions)):\n",
    "    len_r = len(vor4.regions[i])\n",
    "\n",
    "    if -1 in vor4.regions[i]: continue # регион неограничен\n",
    "        \n",
    "    l = 0\n",
    "    \n",
    "    # для i региона перебираем все его вершины и для каждой ищем расстояние до [0.0, 0.0, 0.0, 0.0]\n",
    "    for j in range(len_r):\n",
    "        l += distance.euclidean(vor4.vertices[vor4.regions[i][j]], [0.0, 0.0, 0.0, 0.0])\n",
    "\n",
    "    if l < sum_dist_min:\n",
    "        sum_dist_min = l\n",
    "        v_min = i\n",
    "\n",
    "        \n",
    "print ('суммарное расстояние =', sum_dist_min, 'индекс центрального региона =', v_min)\n",
    "\n",
    "central = vor4.vertices[vor4.regions[v_min]]"
   ]
  },
  {
   "cell_type": "code",
   "execution_count": null,
   "id": "d0fd89b5",
   "metadata": {
    "scrolled": true
   },
   "outputs": [],
   "source": [
    "# индексы вершин центрального региона (координаты vor4.vertices)\n",
    "\n",
    "vor4.regions[v_min]"
   ]
  },
  {
   "cell_type": "code",
   "execution_count": null,
   "id": "31c46254",
   "metadata": {},
   "outputs": [],
   "source": [
    "# проверка на ортогональность\n",
    "\n",
    "for i in range(len(list_ridge_edge[10]) - 1):\n",
    "    for j in range (1, len(list_ridge_edge[10])):\n",
    "        print(np.array(list_neigh_points[10]).dot(np.array(list_ridge_edge[10][i] - list_ridge_edge[10][j])))\n",
    "         "
   ]
  },
  {
   "cell_type": "code",
   "execution_count": null,
   "id": "5dc1de18",
   "metadata": {
    "scrolled": true
   },
   "outputs": [],
   "source": [
    "def gram_schmidt(v):\n",
    "\n",
    "    w_1 = copy.deepcopy(v[0])\n",
    "    w_n = copy.deepcopy(w_1)\n",
    "    w_array = [deepcopy(w_n)]\n",
    "    \n",
    "    for n in range(1, len(v)):\n",
    "        v_n = copy.deepcopy(v[n])\n",
    "        w_n = copy.deepcopy(v_n)\n",
    "\n",
    "        for j in range(n):\n",
    "            w_j = deepcopy(w_array[j])\n",
    "            if not any(w_j):\n",
    "                continue\n",
    "            w_n -= np.dot(v_n, w_j) / np.dot(w_j, w_j) * w_j\n",
    "        \n",
    "        w_array += [w_n]\n",
    "          \n",
    "    return w_array"
   ]
  },
  {
   "cell_type": "code",
   "execution_count": null,
   "id": "a96cbe54",
   "metadata": {
    "scrolled": true
   },
   "outputs": [],
   "source": [
    "d = 0.75\n",
    "\n",
    "def mu(b_i, b_j):\n",
    "    return np.dot(b_i, b_j) / np.dot(b_j, b_j) if np.dot(b_j, b_j) != 0 else 0\n",
    "\n",
    "\n",
    "def LLL(l_basis):\n",
    "\n",
    "    ortho = gram_schmidt(l_basis)\n",
    "\n",
    "    k = 1\n",
    "    n = len(ortho)\n",
    "\n",
    "    while k < n:\n",
    "        for j in range(k - 1, -1, -1):\n",
    "            proj = mu(l_basis[k], ortho[j])\n",
    "            if abs(proj) > 1/2:\n",
    "                l_basis[k] -= l_basis[j] * round(proj)\n",
    "                ortho = copy.deepcopy(gram_schmidt(l_basis))\n",
    "            #print(l_basis, 111)\n",
    "\n",
    "        if np.dot(ortho[k], ortho[k]) >= (d - (mu(l_basis[k], ortho[k-1]))**2) * (np.dot(ortho[k-1], ortho[k-1])):\n",
    "            #print(l_basis, 222)\n",
    "            k += 1\n",
    "\n",
    "        else:\n",
    "            s = copy.deepcopy(l_basis[k-1])\n",
    "            l_basis[k-1] = copy.deepcopy(l_basis[k])\n",
    "            l_basis[k] = copy.deepcopy(s)\n",
    "            ortho = gram_schmidt(l_basis)\n",
    "            k = max(k-1, 1)\n",
    "            #print(l_basis, 333)\n",
    "\n",
    "    return l_basis"
   ]
  },
  {
   "cell_type": "code",
   "execution_count": null,
   "id": "ab4069e5",
   "metadata": {},
   "outputs": [],
   "source": [
    "def pad_lists_with_ones(list_of_lists):\n",
    "    # Проходим по каждому списку в основном списке\n",
    "    for i in range(len(list_of_lists)):\n",
    "        # Если длина списка меньше 4\n",
    "        if len(list_of_lists[i]) < 4:\n",
    "            # Добавляем в начало столько единиц, сколько не хватает до 4\n",
    "            list_of_lists[i] = [1] * (4 - len(list_of_lists[i])) + list_of_lists[i]\n",
    "    return list_of_lists\n"
   ]
  }
 ],
 "metadata": {
  "celltoolbar": "Tags",
  "kernelspec": {
   "display_name": "Python 3",
   "language": "python",
   "name": "python3"
  },
  "language_info": {
   "codemirror_mode": {
    "name": "ipython",
    "version": 3
   },
   "file_extension": ".py",
   "mimetype": "text/x-python",
   "name": "python",
   "nbconvert_exporter": "python",
   "pygments_lexer": "ipython3",
   "version": "3.13.3"
  }
 },
 "nbformat": 4,
 "nbformat_minor": 5
}
