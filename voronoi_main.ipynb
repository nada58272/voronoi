{
 "cells": [
  {
   "cell_type": "code",
   "execution_count": null,
   "id": "d27e05ab",
   "metadata": {
    "scrolled": true
   },
   "outputs": [],
   "source": [
    "import numpy as np\n",
    "\n",
    "from Polyhedra import *\n",
    "from Distances import *\n",
    "from Algorithm import *\n",
    "from LLL import *\n",
    "\n",
    "import GridFloatIterator\n",
    "\n",
    "grid = np.array([\n",
    "    [2, 0, 0, 0],\n",
    "    [1, 1, 0, 0],\n",
    "    [1, 0, 1, 0],\n",
    "    [1, 0, 0, 1]\n",
    "], dtype = float)\n",
    "\n",
    "grid_ = np.array([\n",
    "    [2.15, 0, 0, 0],\n",
    "    [1, 1, 0, 0],\n",
    "    [1, 0, 1, 0],\n",
    "    [1, 0, 0, 1]\n",
    "], dtype = float)\n",
    "\n",
    "grid1 = np.array([\n",
    "    [1, 0, 0, 0],\n",
    "    [0, 1, 0, 0],\n",
    "    [0, 0, 1, 0],\n",
    "    [0, 0, 0, 1]\n",
    "], dtype = float)\n",
    "\n",
    "grid2 = np.array([\n",
    "    [1, -1, 0, 0],\n",
    "    [0, 1, -1, 0],\n",
    "    [0, 0, 1, -1],\n",
    "    [0.5, 0.5, 0.5, 0.5]\n",
    "], dtype = float)\n",
    "\n",
    "grid3 = np.array([\n",
    "    [1, 1, 0, 0],\n",
    "    [1, -1, 0, 0],\n",
    "    [0, 1, -1, 0],\n",
    "    [0, 0, 1, -1]\n",
    "], dtype = float)\n",
    "\n",
    "grid4 = np.array([\n",
    "    [1, 0, 0, 0],\n",
    "    [0, 1, 0, 0],\n",
    "    [0, 0, 1, 0],\n",
    "    [0.5, 0.5, 0.5, 0.5]\n",
    "], dtype = float)\n",
    "\n",
    "grid5 = np.array([\n",
    "    [2 ** 0.5, 0., 0., 0.],\n",
    "    [-1/(2 ** 0.5), 6**0.5/3, 0., 0.],\n",
    "    [0., -(2/3)**0.5, 2/((3**0.5)*10), 0.],\n",
    "    [0., 0., -(3**0.5)/2, (5**0.5)/20]\n",
    "], dtype = float)"
   ]
  },
  {
   "cell_type": "code",
   "execution_count": null,
   "id": "0a10e90f",
   "metadata": {},
   "outputs": [],
   "source": [
    "grid = grid_\n",
    "\n",
    "print(grid)\n",
    "\n",
    "grid = LLL(grid, 0.75)\n",
    "#print(\"after lll:\\n\", grid)\n",
    "\n",
    "vor4 = VoronoiPolyhedra(grid)\n",
    "vor4.build()\n",
    "\n",
    "det_dist, det_center, det_mat = find_optimal(range(49, 50), 2, grid, vor4, vor4.max_len)\n",
    "print(det_dist, det_center, det_mat)"
   ]
  },
  {
   "cell_type": "code",
   "execution_count": null,
   "id": "779525f3",
   "metadata": {},
   "outputs": [],
   "source": [
    "list_grids = GridFloatIterator.generateGrids(norm_limit = 2.0, norm_factor = 1.01, cos_limit = 0.001, det_limit = 3.0)\n",
    "minDet, maxDet = GridFloatIterator.calculateMinMaxDet(list_grids)\n",
    "print(minDet, maxDet)"
   ]
  },
  {
   "cell_type": "code",
   "execution_count": null,
   "id": "3f05cd8e",
   "metadata": {},
   "outputs": [],
   "source": [
    "for grid in list_grids:\n",
    "    print(grid)\n",
    "    vor4 = VoronoiPolyhedra(grid)\n",
    "    vor4.build()\n",
    "\n",
    "    det_dist, det_center, det_mat = find_optimal(range(625, 626), 2, grid, vor4, vor4.max_len)\n",
    "\n",
    "    #print(det_dist, det_center, det_mat)"
   ]
  },
  {
   "cell_type": "markdown",
   "id": "14d680ae",
   "metadata": {},
   "source": [
    "Прочее"
   ]
  }
 ],
 "metadata": {
  "celltoolbar": "Tags",
  "kernelspec": {
   "display_name": "Python 3",
   "language": "python",
   "name": "python3"
  },
  "language_info": {
   "codemirror_mode": {
    "name": "ipython",
    "version": 3
   },
   "file_extension": ".py",
   "mimetype": "text/x-python",
   "name": "python",
   "nbconvert_exporter": "python",
   "pygments_lexer": "ipython3",
   "version": "3.13.3"
  }
 },
 "nbformat": 4,
 "nbformat_minor": 5
}
