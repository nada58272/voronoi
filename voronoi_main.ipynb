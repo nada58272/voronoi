{
 "cells": [
  {
   "cell_type": "code",
   "execution_count": null,
   "id": "d27e05ab",
   "metadata": {
    "scrolled": true
   },
   "outputs": [],
   "source": [
    "import numpy as np\n",
    "\n",
    "from Polyhedra import *\n",
    "from Distances import *\n",
    "from Algorithm import *\n",
    "\n",
    "grid = np.array([\n",
    "    [2, 0, 0, 0],\n",
    "    [1, 1, 0, 0],\n",
    "    [1, 0, 1, 0],\n",
    "    [1, 0, 0, 1]\n",
    "], dtype = float)\n",
    "\n",
    "grid1 = np.array([\n",
    "    [1, 0, 0, 0],\n",
    "    [0, 1, 0, 0],\n",
    "    [0, 0, 1, 0],\n",
    "    [0, 0, 0, 1]\n",
    "], dtype = float)\n",
    "\n",
    "grid2 = np.array([\n",
    "    [1, -1, 0, 0],\n",
    "    [0, 1, -1, 0],\n",
    "    [0, 0, 1, -1],\n",
    "    [0.5, 0.5, 0.5, 0.5]\n",
    "], dtype = float)\n",
    "\n",
    "grid3 = np.array([\n",
    "    [1, 1, 0, 0],\n",
    "    [1, -1, 0, 0],\n",
    "    [0, 1, -1, 0],\n",
    "    [0, 0, 1, -1]\n",
    "], dtype = float)"
   ]
  },
  {
   "cell_type": "code",
   "execution_count": null,
   "id": "2a514020",
   "metadata": {},
   "outputs": [],
   "source": [
    "grid[0][0] = 2.15\n",
    "\n",
    "vor4 = VoronoiPolyhedra(grid)\n",
    "vor4.build()\n",
    "\n",
    "det_dist, det_center, det_mat = find_optimal(range(49, 51), 2, grid, vor4)\n",
    "\n"
   ]
  }
 ],
 "metadata": {
  "celltoolbar": "Tags",
  "kernelspec": {
   "display_name": "base",
   "language": "python",
   "name": "python3"
  },
  "language_info": {
   "codemirror_mode": {
    "name": "ipython",
    "version": 3
   },
   "file_extension": ".py",
   "mimetype": "text/x-python",
   "name": "python",
   "nbconvert_exporter": "python",
   "pygments_lexer": "ipython3",
   "version": "3.11.5"
  }
 },
 "nbformat": 4,
 "nbformat_minor": 5
}
