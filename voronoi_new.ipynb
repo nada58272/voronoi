{
 "cells": [
  {
   "cell_type": "markdown",
   "id": "04ac9f5f",
   "metadata": {},
   "source": [
    "# Хроматическое число R^4"
   ]
  },
  {
   "cell_type": "markdown",
   "id": "1ae352d6",
   "metadata": {},
   "source": [
    "### 1. Описание алгоритма"
   ]
  },
  {
   "cell_type": "markdown",
   "id": "34a20266",
   "metadata": {},
   "source": [
    "Алгоритм:\n",
    "\n",
    "- строим решетку (grid) и соответствующее ей разбиение Вороного (vor4)\n",
    "- Ищем все многогранники центрального региона и его диаметр\n",
    "- составляем список граней центрального многогранника (list_faces)\n",
    "- перебираю различные подрешетки для каждой ищу приведенный базис, нахожу длину минимального вектора и минимальное расстояние между векторами и их комбинациями:\n",
    "- Ищем точку s (середина расстояния между точкой (0, 0, 0, 0) и центром ближайшего многогранника\n",
    "- Нахожу расстояние от точки s до центрального многоранника\n",
    "- Умножаю это расстояние на 2 и получаю расстояние между многранниками (центральным и ближайшим к нему многогранником из подрешетки)\n",
    "- составляем словари, ключами которых являются координаты точек s, а значениями - минимальное хроматическое число (dict_det), максимальное запрещенное расстоянием (dict_dist), список матриц (dict_s), соответствующих данной точке s, хроматическому числу и запрещенному расстоянию\n",
    "- составляем датафрейм (df), обьединяя все эти словари\n",
    "- составляем список матриц для каждого подходящего хроматического числа (если запрещенное расстояние больше 1)"
   ]
  },
  {
   "cell_type": "markdown",
   "id": "0db6f35f",
   "metadata": {},
   "source": [
    "- central - список вершин центрального многогранника\n",
    "- coords4 - список координат центров многогранников Вороного\n",
    "\n",
    "- vor4.vertices - список координат вершин разбиенния Вороного\n",
    "- vor4.regions - список индексов координат вершин многогранников разбиения Вороного (vor4.vertices)\n",
    "- vor4.ridge_vertices - координаты вершин 3-мерных граней разбиенния Вороного через их индексы в vor4.vertices\n",
    "- vor4.ridge_points - список пар центров многогранников Вороного между которыми есть ребро 2х многогранников через индексы в coords4 (по сути - соседние многогранники)\n",
    "\n",
    "- edge_central_coords - список списков вершин каждой 3-мерной грани центрального многогранника\n",
    "- edge_central - список индексов (в vor4.vertices)  координат каждой 3-мерной грани \n",
    "- list_faces - список 3х мерных граней центрального многогранника с разбивкой каждой 3х мерной грани на 2-мерные\n",
    "- list_pairs - список центров многогранников Вороного, соседних с центральным (индексы в coords4)\n",
    "\n",
    "- list_neigh_points - список координат центров многогранников, граничащих с центральным (по сути - вектора нормали к 3-мерным граням центрального многогранника)\n",
    "- dict_point_edge - словарь: ключ - координаты соседней точки, значение - 3х мерная грань между соседней точкой и (0,0,0,0)\n",
    "- index_point_edge - индекс грани в списке граней центрального многогранника (edge_central_coords)\n",
    "- list_ridge_edge - список граней, в том же порядке, что и соседние точки (list_neigh_points) или что и соответствующие вектора нормали к данным граням\n",
    "- v_norm - список нормированных векторов нормали (в том же порядке, что и изначальные точки(вектора) нормали)\n",
    "- point_face_norm - точки, принадлежащие грани и лежащие на векторе нормали (середина вектора, соединяющего центры)"
   ]
  },
  {
   "cell_type": "markdown",
   "id": "b126a005",
   "metadata": {},
   "source": [
    "### 2. Подключение библиотек"
   ]
  },
  {
   "cell_type": "code",
   "execution_count": 3,
   "id": "e6b6500f",
   "metadata": {
    "scrolled": false
   },
   "outputs": [
    {
     "name": "stderr",
     "output_type": "stream",
     "text": [
      "/Users/konstantinglushkov/anaconda3/lib/python3.11/site-packages/pandas/core/arrays/masked.py:60: UserWarning: Pandas requires version '1.3.6' or newer of 'bottleneck' (version '1.3.5' currently installed).\n",
      "  from pandas.core import (\n"
     ]
    }
   ],
   "source": [
    "import numpy as np\n",
    "from scipy.spatial import Voronoi\n",
    "from scipy.spatial import distance\n",
    "from sympy import symbols, Eq, solve\n",
    "import math\n",
    "import itertools\n",
    "import copy\n",
    "from scipy.spatial import Delaunay\n",
    "import pandas as pd\n",
    "import sys\n",
    "from numpy import linalg as la\n",
    "from itertools import *\n",
    "from copy import deepcopy\n",
    "from collections import defaultdict\n",
    "\n",
    "from itertools import combinations\n",
    "from math import prod\n",
    "from sympy import factorint"
   ]
  },
  {
   "cell_type": "markdown",
   "id": "6dd7bccd",
   "metadata": {},
   "source": [
    "### 3. Построение многогранника Вороного"
   ]
  },
  {
   "cell_type": "code",
   "execution_count": 4,
   "id": "06c5eb77",
   "metadata": {},
   "outputs": [],
   "source": [
    "class VoronoiPolyhedra:\n",
    "    def __init__(self):\n",
    "        self.grid\n",
    "        self.central\n",
    "        ...\n",
    "    \n",
    "    def build():\n",
    "        ..."
   ]
  },
  {
   "cell_type": "code",
   "execution_count": 118,
   "id": "d27e05ab",
   "metadata": {
    "scrolled": true
   },
   "outputs": [],
   "source": [
    "grid = np.array([\n",
    "    [2, 0, 0, 0],\n",
    "    [1, 1, 0, 0],\n",
    "    [1, 0, 1, 0],\n",
    "    [1, 0, 0, 1]\n",
    "], dtype = float)\n",
    "\n",
    "coords4 = [] # координаты центров\n",
    "\n",
    "for var in itertools.product(range(-3, 3), repeat=4): # меньше нельзя - тк при поиске центр региона отбрасываем незаконченные регионы\n",
    "    coords4.append((grid.T).dot(var).tolist())\n",
    "    \n",
    "# строим диаграмму Вороного\n",
    "vor4 = Voronoi(coords4)"
   ]
  },
  {
   "cell_type": "code",
   "execution_count": 96,
   "id": "2840c1e3",
   "metadata": {
    "scrolled": true
   },
   "outputs": [
    {
     "data": {
      "text/plain": [
       "array([[-11. ,  -3. ,  -3. ,  -2. ],\n",
       "       [-11. ,  -2. ,  -3. ,  -3. ],\n",
       "       [  9. ,   2. ,   2. ,   2. ],\n",
       "       ...,\n",
       "       [  1.5,   0.5,   0.5,  -1.5],\n",
       "       [  2. ,   2. ,   0. ,  -1. ],\n",
       "       [  2.5,   0.5,  -0.5,  -1.5]])"
      ]
     },
     "execution_count": 96,
     "metadata": {},
     "output_type": "execute_result"
    }
   ],
   "source": [
    "# вершины диаграммы Вороного\n",
    "\n",
    "vor4.vertices"
   ]
  },
  {
   "cell_type": "code",
   "execution_count": 97,
   "id": "dc9732c7",
   "metadata": {
    "scrolled": false
   },
   "outputs": [
    {
     "data": {
      "text/plain": [
       "[12,\n",
       " 13,\n",
       " 42,\n",
       " 97,\n",
       " 108,\n",
       " 110,\n",
       " 111,\n",
       " 114,\n",
       " 167,\n",
       " 168,\n",
       " 169,\n",
       " 170,\n",
       " 230,\n",
       " 231,\n",
       " 317,\n",
       " 367,\n",
       " 379,\n",
       " 443,\n",
       " 444,\n",
       " 445,\n",
       " 446,\n",
       " 451,\n",
       " 548,\n",
       " 798]"
      ]
     },
     "execution_count": 97,
     "metadata": {},
     "output_type": "execute_result"
    }
   ],
   "source": [
    "# регионы\n",
    "\n",
    "vor4.regions[1]"
   ]
  },
  {
   "cell_type": "code",
   "execution_count": 106,
   "id": "6ebd9bbb",
   "metadata": {
    "scrolled": true
   },
   "outputs": [
    {
     "name": "stdout",
     "output_type": "stream",
     "text": [
      "257\n"
     ]
    }
   ],
   "source": [
    "# список конечных областей Вороного (-1 в координатах означает, что область бесконечна)\n",
    "\n",
    "count = 0\n",
    "vor4.regions_finite = []\n",
    "for i in vor4.regions:\n",
    "    if -1 not in i:\n",
    "        vor4.regions_finite.append(i)\n",
    "        count += 1\n",
    "        \n",
    "print(count)"
   ]
  },
  {
   "cell_type": "markdown",
   "id": "5ed9487c",
   "metadata": {},
   "source": [
    "### 4. Построение центрального региона"
   ]
  },
  {
   "cell_type": "code",
   "execution_count": 107,
   "id": "69f64feb",
   "metadata": {
    "scrolled": true
   },
   "outputs": [
    {
     "name": "stdout",
     "output_type": "stream",
     "text": [
      "количество вершин = 24 количество = 257\n"
     ]
    }
   ],
   "source": [
    "# максимальный размер региона (по числу вершин)\n",
    "\n",
    "len_r_max = 0 # размер максимального региона\n",
    "count_r = 0 # количество таких регионов\n",
    "\n",
    "for i in range(len(vor4.regions)):\n",
    "    len_r = len(vor4.regions[i])\n",
    "    \n",
    "    if len_r >= len_r_max:\n",
    "        len_r_max = len_r\n",
    "        count_r += 1 # считаем количество таких регионов\n",
    "        \n",
    "print('количество вершин =', len_r_max, 'количество =', count_r)"
   ]
  },
  {
   "cell_type": "code",
   "execution_count": 108,
   "id": "4993e035",
   "metadata": {
    "scrolled": true
   },
   "outputs": [
    {
     "name": "stdout",
     "output_type": "stream",
     "text": [
      "суммарное расстояние = 24.0 индекс центрального региона = 393\n"
     ]
    }
   ],
   "source": [
    "# находим суммарные расстояния от вершин многогранников до (0, 0, 0, 0) (sum_dist), затем находим минимальное \n",
    "# значение. Таким образом находим ближайший центральный многогранник central\n",
    "\n",
    "sum_dist_min = 1000\n",
    "\n",
    "for i in range(1, len(vor4.regions)):\n",
    "    len_r = len(vor4.regions[i])\n",
    "\n",
    "    if -1 in vor4.regions[i]: continue # регион неограничен\n",
    "        \n",
    "    l = 0\n",
    "    \n",
    "    # для i региона перебираем все его вершины и для каждой ищем расстояние до [0.0, 0.0, 0.0, 0.0]\n",
    "    for j in range(len_r):\n",
    "        l += distance.euclidean(vor4.vertices[vor4.regions[i][j]], [0.0, 0.0, 0.0, 0.0])\n",
    "\n",
    "    if l < sum_dist_min:\n",
    "        sum_dist_min = l\n",
    "        v_min = i\n",
    "\n",
    "        \n",
    "print ('суммарное расстояние =', sum_dist_min, 'индекс центрального региона =', v_min)\n",
    "\n",
    "central = vor4.vertices[vor4.regions[v_min]]"
   ]
  },
  {
   "cell_type": "code",
   "execution_count": 111,
   "id": "26b71478",
   "metadata": {
    "scrolled": true
   },
   "outputs": [
    {
     "data": {
      "text/plain": [
       "(1.0, 96)"
      ]
     },
     "execution_count": 111,
     "metadata": {},
     "output_type": "execute_result"
    }
   ],
   "source": [
    "# нахожу длину ребра центрального политопа\n",
    "\n",
    "d_edge_min = 100\n",
    "count = 0\n",
    "for i in range(0, len(central)-1):\n",
    "    for j in range(i + 1, len(central)):\n",
    "        d_edge = distance.euclidean(central[i], central[j])\n",
    "        if d_edge_min >= d_edge:\n",
    "            d_edge_min = d_edge\n",
    "            count += 1\n",
    "            \n",
    "d_edge_min, count\n",
    "                           "
   ]
  },
  {
   "cell_type": "code",
   "execution_count": 112,
   "id": "d0fd89b5",
   "metadata": {
    "scrolled": true
   },
   "outputs": [
    {
     "data": {
      "text/plain": [
       "[1046,\n",
       " 1052,\n",
       " 1053,\n",
       " 1055,\n",
       " 1493,\n",
       " 1494,\n",
       " 1820,\n",
       " 1821,\n",
       " 1822,\n",
       " 1829,\n",
       " 2000,\n",
       " 2001,\n",
       " 2002,\n",
       " 2177,\n",
       " 2178,\n",
       " 2179,\n",
       " 2181,\n",
       " 2182,\n",
       " 2240,\n",
       " 2241,\n",
       " 2243,\n",
       " 2244,\n",
       " 2252,\n",
       " 2259]"
      ]
     },
     "execution_count": 112,
     "metadata": {},
     "output_type": "execute_result"
    }
   ],
   "source": [
    "# индексы вершин центрального региона (координаты vor4.vertices)\n",
    "\n",
    "vor4.regions[v_min]"
   ]
  },
  {
   "cell_type": "code",
   "execution_count": 113,
   "id": "9336b47a",
   "metadata": {
    "scrolled": true
   },
   "outputs": [
    {
     "data": {
      "text/plain": [
       "[108, 110, 111, 114, 367, 445]"
      ]
     },
     "execution_count": 113,
     "metadata": {},
     "output_type": "execute_result"
    }
   ],
   "source": [
    "# список 3х мерных граней 4х черных многогрнников через индексы вершин в vor4.vertices\n",
    "\n",
    "vor4.ridge_vertices[0]"
   ]
  },
  {
   "cell_type": "code",
   "execution_count": 114,
   "id": "fdf0bb2a",
   "metadata": {},
   "outputs": [
    {
     "data": {
      "text/plain": [
       "array([ 0.5, -2.5, -0.5,  1.5])"
      ]
     },
     "execution_count": 114,
     "metadata": {},
     "output_type": "execute_result"
    }
   ],
   "source": [
    "# список вершин многогранников Вороного в координатах\n",
    "\n",
    "vor4.vertices[49]"
   ]
  },
  {
   "cell_type": "code",
   "execution_count": 104,
   "id": "802b0e60",
   "metadata": {
    "scrolled": true
   },
   "outputs": [
    {
     "data": {
      "text/plain": [
       "array([259,  85], dtype=int32)"
      ]
     },
     "execution_count": 104,
     "metadata": {},
     "output_type": "execute_result"
    }
   ],
   "source": [
    "# номера координат центров многогранников Вороного (coords4) между которыми проходит грань, перпендикулярная вектору, \n",
    "# соединяющего эти центры \n",
    "\n",
    "vor4.ridge_points[1]"
   ]
  },
  {
   "cell_type": "code",
   "execution_count": 105,
   "id": "587b8dd9",
   "metadata": {},
   "outputs": [],
   "source": [
    "# нашли индекс точки(центра) центрального многогранника\n",
    "\n",
    "centr_index = coords4.index([0.0, 0.0, 0.0, 0.0])"
   ]
  },
  {
   "cell_type": "code",
   "execution_count": 89,
   "id": "2fa28027",
   "metadata": {},
   "outputs": [
    {
     "data": {
      "text/plain": [
       "[0.0, 0.0, 0.0, 0.0]"
      ]
     },
     "execution_count": 89,
     "metadata": {},
     "output_type": "execute_result"
    }
   ],
   "source": [
    "coords4[centr_index]"
   ]
  },
  {
   "cell_type": "code",
   "execution_count": 90,
   "id": "f3bb4703",
   "metadata": {},
   "outputs": [
    {
     "data": {
      "text/plain": [
       "24"
      ]
     },
     "execution_count": 90,
     "metadata": {},
     "output_type": "execute_result"
    }
   ],
   "source": [
    "# нашли все центры многогранников у которых еть грань между многогранником и центральным многогранником\n",
    "# индексы координат в coords4\n",
    "\n",
    "list_pairs = []\n",
    "\n",
    "for i in vor4.ridge_points:\n",
    "    if centr_index in i:\n",
    "        list_pairs.append(i)\n",
    "        \n",
    "len(list_pairs)"
   ]
  },
  {
   "cell_type": "code",
   "execution_count": 115,
   "id": "3b18b86a",
   "metadata": {},
   "outputs": [
    {
     "data": {
      "text/plain": [
       "[[-3.0, -1.0, 2.0, 2.0],\n",
       " [-3.0, 1.0, 0.0, 2.0],\n",
       " [-4.0, 1.0, 1.0, 0.0],\n",
       " [-5.0, 1.0, -2.0, 2.0],\n",
       " [-4.0, 1.0, 0.0, 1.0],\n",
       " [-6.0, 1.0, -2.0, 1.0],\n",
       " [-7.0, 0.0, -1.0, 0.0],\n",
       " [-8.0, 2.0, -3.0, -1.0],\n",
       " [-9.0, 2.0, -2.0, -3.0],\n",
       " [-8.0, 0.0, -1.0, -1.0],\n",
       " [-6.0, 1.0, 2.0, -3.0],\n",
       " [-7.0, 1.0, -1.0, -1.0],\n",
       " [-9.0, 0.0, -3.0, 0.0],\n",
       " [-10.0, 0.0, -3.0, -1.0],\n",
       " [-9.0, 0.0, 0.0, -3.0],\n",
       " [-6.0, 1.0, 1.0, -2.0],\n",
       " [-5.0, 2.0, -3.0, 2.0],\n",
       " [-10.0, -3.0, -1.0, -2.0],\n",
       " [-6.0, -3.0, -1.0, 2.0],\n",
       " [-12.0, -3.0, -3.0, -2.0],\n",
       " [-2.0, 1.0, 1.0, 2.0],\n",
       " [-9.0, -3.0, -1.0, -1.0],\n",
       " [-11.0, -3.0, -3.0, -1.0],\n",
       " [-1.0, 2.0, 2.0, 1.0]]"
      ]
     },
     "execution_count": 115,
     "metadata": {},
     "output_type": "execute_result"
    }
   ],
   "source": [
    "# составляем список центров многогранников, граничащих с центральным\n",
    "\n",
    "list_neigh_points = [] # список центров многогранников, граничащих с центральным\n",
    "\n",
    "for pair in list_pairs:\n",
    "    if pair[0] == centr_index:\n",
    "        list_neigh_points.append(coords4[pair[1]])\n",
    "    else:\n",
    "        list_neigh_points.append(coords4[pair[0]])\n",
    "\n",
    "\n",
    "list_neigh_points"
   ]
  },
  {
   "cell_type": "code",
   "execution_count": 116,
   "id": "521fab73",
   "metadata": {},
   "outputs": [
    {
     "data": {
      "text/plain": [
       "[1046,\n",
       " 1052,\n",
       " 1053,\n",
       " 1055,\n",
       " 1493,\n",
       " 1494,\n",
       " 1820,\n",
       " 1821,\n",
       " 1822,\n",
       " 1829,\n",
       " 2000,\n",
       " 2001,\n",
       " 2002,\n",
       " 2177,\n",
       " 2178,\n",
       " 2179,\n",
       " 2181,\n",
       " 2182,\n",
       " 2240,\n",
       " 2241,\n",
       " 2243,\n",
       " 2244,\n",
       " 2252,\n",
       " 2259]"
      ]
     },
     "execution_count": 116,
     "metadata": {},
     "output_type": "execute_result"
    }
   ],
   "source": [
    "vor4.regions[v_min]"
   ]
  },
  {
   "cell_type": "code",
   "execution_count": 117,
   "id": "59c28505",
   "metadata": {
    "scrolled": false
   },
   "outputs": [
    {
     "data": {
      "text/plain": [
       "[array([[ 0. ,  0. ,  0. ,  1. ],\n",
       "        [-0.5,  0.5,  0.5,  0.5],\n",
       "        [ 0.5,  0.5,  0.5,  0.5],\n",
       "        [ 0. ,  0. ,  1. ,  0. ],\n",
       "        [ 0.5, -0.5,  0.5,  0.5],\n",
       "        [-0.5, -0.5,  0.5,  0.5]]),\n",
       " array([[ 0. ,  0. ,  0. ,  1. ],\n",
       "        [ 0.5, -0.5, -0.5,  0.5],\n",
       "        [ 0.5,  0.5, -0.5,  0.5],\n",
       "        [ 0. ,  0. , -1. ,  0. ],\n",
       "        [-0.5, -0.5, -0.5,  0.5],\n",
       "        [-0.5,  0.5, -0.5,  0.5]]),\n",
       " array([[ 0. ,  0. ,  0. ,  1. ],\n",
       "        [-0.5,  0.5,  0.5,  0.5],\n",
       "        [ 0.5,  0.5,  0.5,  0.5],\n",
       "        [ 0. ,  1. ,  0. ,  0. ],\n",
       "        [ 0.5,  0.5, -0.5,  0.5],\n",
       "        [-0.5,  0.5, -0.5,  0.5]]),\n",
       " array([[ 0. ,  0. ,  0. ,  1. ],\n",
       "        [ 0.5,  0.5,  0.5,  0.5],\n",
       "        [ 0.5, -0.5, -0.5,  0.5],\n",
       "        [ 0.5,  0.5, -0.5,  0.5],\n",
       "        [ 0.5, -0.5,  0.5,  0.5],\n",
       "        [ 1. ,  0. ,  0. ,  0. ]]),\n",
       " array([[-1. ,  0. ,  0. ,  0. ],\n",
       "        [-0.5, -0.5,  0.5, -0.5],\n",
       "        [-0.5,  0.5,  0.5, -0.5],\n",
       "        [-0.5,  0.5, -0.5, -0.5],\n",
       "        [ 0. ,  0. ,  0. , -1. ],\n",
       "        [-0.5, -0.5, -0.5, -0.5]]),\n",
       " array([[-0.5,  0.5,  0.5,  0.5],\n",
       "        [ 0. ,  1. ,  0. ,  0. ],\n",
       "        [-0.5,  0.5, -0.5,  0.5],\n",
       "        [-1. ,  0. ,  0. ,  0. ],\n",
       "        [-0.5,  0.5,  0.5, -0.5],\n",
       "        [-0.5,  0.5, -0.5, -0.5]]),\n",
       " array([[-0.5,  0.5,  0.5,  0.5],\n",
       "        [ 0. ,  0. ,  1. ,  0. ],\n",
       "        [-0.5, -0.5,  0.5,  0.5],\n",
       "        [-1. ,  0. ,  0. ,  0. ],\n",
       "        [-0.5, -0.5,  0.5, -0.5],\n",
       "        [-0.5,  0.5,  0.5, -0.5]]),\n",
       " array([[ 0. ,  0. ,  1. ,  0. ],\n",
       "        [ 0.5, -0.5,  0.5,  0.5],\n",
       "        [-0.5, -0.5,  0.5,  0.5],\n",
       "        [ 0. , -1. ,  0. ,  0. ],\n",
       "        [ 0.5, -0.5,  0.5, -0.5],\n",
       "        [-0.5, -0.5,  0.5, -0.5]]),\n",
       " array([[ 0. ,  0. ,  0. ,  1. ],\n",
       "        [ 0.5, -0.5, -0.5,  0.5],\n",
       "        [ 0.5, -0.5,  0.5,  0.5],\n",
       "        [-0.5, -0.5,  0.5,  0.5],\n",
       "        [ 0. , -1. ,  0. ,  0. ],\n",
       "        [-0.5, -0.5, -0.5,  0.5]]),\n",
       " array([[ 0.5, -0.5, -0.5,  0.5],\n",
       "        [ 0.5, -0.5,  0.5,  0.5],\n",
       "        [ 0. , -1. ,  0. ,  0. ],\n",
       "        [ 1. ,  0. ,  0. ,  0. ],\n",
       "        [ 0.5, -0.5, -0.5, -0.5],\n",
       "        [ 0.5, -0.5,  0.5, -0.5]]),\n",
       " array([[ 0.5,  0.5,  0.5,  0.5],\n",
       "        [ 0. ,  0. ,  1. ,  0. ],\n",
       "        [ 0.5, -0.5,  0.5,  0.5],\n",
       "        [ 0.5,  0.5,  0.5, -0.5],\n",
       "        [ 1. ,  0. ,  0. ,  0. ],\n",
       "        [ 0.5, -0.5,  0.5, -0.5]]),\n",
       " array([[-0.5,  0.5,  0.5,  0.5],\n",
       "        [ 0.5,  0.5,  0.5,  0.5],\n",
       "        [ 0. ,  1. ,  0. ,  0. ],\n",
       "        [ 0. ,  0. ,  1. ,  0. ],\n",
       "        [ 0.5,  0.5,  0.5, -0.5],\n",
       "        [-0.5,  0.5,  0.5, -0.5]]),\n",
       " array([[ 0. ,  1. ,  0. ,  0. ],\n",
       "        [ 0.5,  0.5, -0.5,  0.5],\n",
       "        [ 0. ,  0. , -1. ,  0. ],\n",
       "        [-0.5,  0.5, -0.5,  0.5],\n",
       "        [ 0.5,  0.5, -0.5, -0.5],\n",
       "        [-0.5,  0.5, -0.5, -0.5]]),\n",
       " array([[ 0. ,  1. ,  0. ,  0. ],\n",
       "        [ 0.5,  0.5, -0.5, -0.5],\n",
       "        [ 0.5,  0.5,  0.5, -0.5],\n",
       "        [-0.5,  0.5,  0.5, -0.5],\n",
       "        [-0.5,  0.5, -0.5, -0.5],\n",
       "        [ 0. ,  0. ,  0. , -1. ]]),\n",
       " array([[ 0.5,  0.5,  0.5,  0.5],\n",
       "        [ 0. ,  1. ,  0. ,  0. ],\n",
       "        [ 0.5,  0.5, -0.5,  0.5],\n",
       "        [ 0.5,  0.5, -0.5, -0.5],\n",
       "        [ 0.5,  0.5,  0.5, -0.5],\n",
       "        [ 1. ,  0. ,  0. ,  0. ]]),\n",
       " array([[ 0. ,  0. ,  0. ,  1. ],\n",
       "        [-0.5,  0.5,  0.5,  0.5],\n",
       "        [-0.5, -0.5,  0.5,  0.5],\n",
       "        [-0.5, -0.5, -0.5,  0.5],\n",
       "        [-0.5,  0.5, -0.5,  0.5],\n",
       "        [-1. ,  0. ,  0. ,  0. ]]),\n",
       " array([[ 0.5, -0.5, -0.5,  0.5],\n",
       "        [ 0.5,  0.5, -0.5,  0.5],\n",
       "        [ 0. ,  0. , -1. ,  0. ],\n",
       "        [ 0.5,  0.5, -0.5, -0.5],\n",
       "        [ 1. ,  0. ,  0. ,  0. ],\n",
       "        [ 0.5, -0.5, -0.5, -0.5]]),\n",
       " array([[ 0.5, -0.5, -0.5,  0.5],\n",
       "        [ 0. , -1. ,  0. ,  0. ],\n",
       "        [ 0. ,  0. , -1. ,  0. ],\n",
       "        [-0.5, -0.5, -0.5,  0.5],\n",
       "        [ 0.5, -0.5, -0.5, -0.5],\n",
       "        [-0.5, -0.5, -0.5, -0.5]]),\n",
       " array([[-0.5, -0.5,  0.5,  0.5],\n",
       "        [ 0. , -1. ,  0. ,  0. ],\n",
       "        [-0.5, -0.5, -0.5,  0.5],\n",
       "        [-1. ,  0. ,  0. ,  0. ],\n",
       "        [-0.5, -0.5,  0.5, -0.5],\n",
       "        [-0.5, -0.5, -0.5, -0.5]]),\n",
       " array([[ 0. , -1. ,  0. ,  0. ],\n",
       "        [ 0.5, -0.5, -0.5, -0.5],\n",
       "        [ 0.5, -0.5,  0.5, -0.5],\n",
       "        [-0.5, -0.5,  0.5, -0.5],\n",
       "        [ 0. ,  0. ,  0. , -1. ],\n",
       "        [-0.5, -0.5, -0.5, -0.5]]),\n",
       " array([[ 0. ,  0. ,  1. ,  0. ],\n",
       "        [ 0.5,  0.5,  0.5, -0.5],\n",
       "        [ 0.5, -0.5,  0.5, -0.5],\n",
       "        [-0.5, -0.5,  0.5, -0.5],\n",
       "        [-0.5,  0.5,  0.5, -0.5],\n",
       "        [ 0. ,  0. ,  0. , -1. ]]),\n",
       " array([[ 0.5,  0.5, -0.5, -0.5],\n",
       "        [ 0.5,  0.5,  0.5, -0.5],\n",
       "        [ 1. ,  0. ,  0. ,  0. ],\n",
       "        [ 0.5, -0.5, -0.5, -0.5],\n",
       "        [ 0.5, -0.5,  0.5, -0.5],\n",
       "        [ 0. ,  0. ,  0. , -1. ]]),\n",
       " array([[ 0. ,  0. , -1. ,  0. ],\n",
       "        [-0.5, -0.5, -0.5,  0.5],\n",
       "        [-0.5,  0.5, -0.5,  0.5],\n",
       "        [-1. ,  0. ,  0. ,  0. ],\n",
       "        [-0.5,  0.5, -0.5, -0.5],\n",
       "        [-0.5, -0.5, -0.5, -0.5]]),\n",
       " array([[ 0. ,  0. , -1. ,  0. ],\n",
       "        [ 0.5,  0.5, -0.5, -0.5],\n",
       "        [ 0.5, -0.5, -0.5, -0.5],\n",
       "        [-0.5,  0.5, -0.5, -0.5],\n",
       "        [ 0. ,  0. ,  0. , -1. ],\n",
       "        [-0.5, -0.5, -0.5, -0.5]])]"
      ]
     },
     "execution_count": 117,
     "metadata": {},
     "output_type": "execute_result"
    }
   ],
   "source": [
    "# трехмерные ячейки \n",
    "\n",
    "edge_central = [] # индексы координат вершин 3х мерных граней \n",
    "\n",
    "\n",
    "# перебирам 3х мерные грани \n",
    "for i in range(len(vor4.ridge_vertices)):\n",
    "    count = 0\n",
    "\n",
    "    \n",
    "    # перебираем вершины каждой 3хмерной грани\n",
    "    for j in range(len(vor4.ridge_vertices[i])):\n",
    "        \n",
    "        # если координата в списке координат центрального региона, увеличиваем count на 1\n",
    "        if vor4.ridge_vertices[i][j] in vor4.regions[v_min]:\n",
    "            count += 1 \n",
    "            \n",
    "    # если count = количеству вершин в многограннике, то мы нашли \n",
    "    if count == len(vor4.ridge_vertices[i]):\n",
    "        edge_central.append(vor4.ridge_vertices[i])\n",
    "        \n",
    "# перевожу индексы вершин в координаты\n",
    "\n",
    "edge_central_coords = [] # координаты вершин 3х мерных граней\n",
    "\n",
    "for i in range(len(edge_central)):\n",
    "    r = []\n",
    "    for j in range(len(edge_central[i])):\n",
    "        r.append(vor4.vertices[edge_central[i][j]])\n",
    "    edge_central_coords.append(np.array(r))\n",
    "    \n",
    "edge_central_coords"
   ]
  },
  {
   "cell_type": "code",
   "execution_count": 79,
   "id": "d2160775",
   "metadata": {},
   "outputs": [
    {
     "ename": "IndexError",
     "evalue": "list index out of range",
     "output_type": "error",
     "traceback": [
      "\u001b[0;31m---------------------------------------------------------------------------\u001b[0m",
      "\u001b[0;31mIndexError\u001b[0m                                Traceback (most recent call last)",
      "Cell \u001b[0;32mIn[79], line 34\u001b[0m\n\u001b[1;32m     31\u001b[0m             min_dist_point_edge \u001b[38;5;241m=\u001b[39m dist_point_edge\n\u001b[1;32m     32\u001b[0m             index_point_edge \u001b[38;5;241m=\u001b[39m edge\n\u001b[0;32m---> 34\u001b[0m     dict_point_edge[\u001b[38;5;28mtuple\u001b[39m(list_neigh_points[point])] \u001b[38;5;241m=\u001b[39m edge_central_coords[index_point_edge]\n\u001b[1;32m     35\u001b[0m     list_ridge_edge\u001b[38;5;241m.\u001b[39mappend(edge_central_coords[index_point_edge])\n\u001b[1;32m     37\u001b[0m dict_point_edge\n",
      "\u001b[0;31mIndexError\u001b[0m: list index out of range"
     ]
    }
   ],
   "source": [
    "# ищем для каждого центра ближайшую трехмерную грань\n",
    "# берем каждую точку из списка соседних центральных точек и ищем расстояние от нее до каждой 3х мерной грани\n",
    "# суммируем и берем минимальное ссумарное расстояние. это и будет 3х мерная грань между точкой (0, 0, 0, 0)\n",
    "# точкой из списка\n",
    "# и вектор, соединяющий центры будет вектором нормали к данной 3х мерной грани\n",
    "\n",
    "\n",
    "dict_point_edge = {} # словарь: ключ - соседняя точка, значение - 3х мерная грань между соседней точкой и (0,0,0,0)\n",
    "index_point_edge = 0 # индекс грани в списке граней центрального многогранника (edge_central_coords[)\n",
    "list_ridge_edge = [] # список граней, в том же порядке, что и соседние точки (list_neigh_points)\n",
    "\n",
    "\n",
    "# перебираем все соседние центры\n",
    "\n",
    "for point in range(len(list_neigh_points)):\n",
    "    \n",
    "    min_dist_point_edge = 1000\n",
    "\n",
    "    # для каждой 3х мерной грани   \n",
    "    for edge in range(len(edge_central_coords)):\n",
    "        \n",
    "        dist_point_edge = 0\n",
    "        \n",
    "        # для каждой вершины их 3х мерной грани считаем растояние до соседнего центра и суммируем\n",
    "        for coord in edge_central_coords[edge]:\n",
    "            \n",
    "            dist_point_edge += distance.euclidean(coord, list_neigh_points[point])\n",
    "            \n",
    "        # если суммарное растояние меньше минимального, записываем новое суммарное растояние и индекс грани    \n",
    "        if min_dist_point_edge > dist_point_edge:\n",
    "            min_dist_point_edge = dist_point_edge\n",
    "            index_point_edge = edge\n",
    "            \n",
    "    dict_point_edge[tuple(list_neigh_points[point])] = edge_central_coords[index_point_edge]\n",
    "    list_ridge_edge.append(edge_central_coords[index_point_edge])\n",
    "    \n",
    "dict_point_edge"
   ]
  },
  {
   "cell_type": "code",
   "execution_count": null,
   "id": "d163dcda",
   "metadata": {},
   "outputs": [
    {
     "data": {
      "text/plain": [
       "([1.0, 0.0, 0.0, 1.0],\n",
       " array([[ 0.5, -0.5, -0.5,  0.5],\n",
       "        [ 0.5, -0.5,  0.5,  0.5],\n",
       "        [ 0. ,  0. ,  0. ,  1. ],\n",
       "        [ 0.5,  0.5,  0.5,  0.5],\n",
       "        [ 0.5,  0.5, -0.5,  0.5],\n",
       "        [ 1. ,  0. ,  0. ,  0. ]]))"
      ]
     },
     "execution_count": 22,
     "metadata": {},
     "output_type": "execute_result"
    }
   ],
   "source": [
    "list_neigh_points[10], list_ridge_edge[10]"
   ]
  },
  {
   "cell_type": "code",
   "execution_count": null,
   "id": "31c46254",
   "metadata": {},
   "outputs": [
    {
     "name": "stdout",
     "output_type": "stream",
     "text": [
      "0.0\n",
      "0.0\n",
      "0.0\n",
      "0.0\n",
      "0.0\n",
      "0.0\n",
      "0.0\n",
      "0.0\n",
      "0.0\n",
      "0.0\n",
      "0.0\n",
      "0.0\n",
      "0.0\n",
      "0.0\n",
      "0.0\n",
      "0.0\n",
      "0.0\n",
      "0.0\n",
      "0.0\n",
      "0.0\n",
      "0.0\n",
      "0.0\n",
      "0.0\n",
      "0.0\n",
      "0.0\n"
     ]
    }
   ],
   "source": [
    "# проверка на ортогональность\n",
    "\n",
    "for i in range(len(list_ridge_edge[10]) - 1):\n",
    "    for j in range (1, len(list_ridge_edge[10])):\n",
    "        print(np.array(list_neigh_points[10]).dot(np.array(list_ridge_edge[10][i] - list_ridge_edge[10][j])))\n",
    "         "
   ]
  },
  {
   "cell_type": "code",
   "execution_count": null,
   "id": "1113e23f",
   "metadata": {
    "scrolled": true
   },
   "outputs": [
    {
     "data": {
      "text/plain": [
       "[[7720, 7721, 7722, 7729, 7730, 7733],\n",
       " [6828, 7437, 7441, 7720, 7721, 7722],\n",
       " [3194, 5504, 6827, 7720, 7729, 7733],\n",
       " [3194, 3196, 6827, 6828, 7441, 7720],\n",
       " [3932, 6828, 7423, 7437, 7722, 7894],\n",
       " [3196, 3922, 3932, 6827, 6828, 7894],\n",
       " [7422, 7423, 7722, 7729, 7730, 7894],\n",
       " [3922, 5504, 6827, 7422, 7729, 7894],\n",
       " [6827, 6828, 7720, 7722, 7729, 7894],\n",
       " [8159, 8164, 8165, 8166, 8167, 8174],\n",
       " [3196, 3922, 3932, 8159, 8164, 8165],\n",
       " [3922, 5504, 7422, 8159, 8165, 8166],\n",
       " [3194, 3196, 3922, 5504, 6827, 8165],\n",
       " [3922, 3932, 7422, 7423, 7894, 8159],\n",
       " [3194, 3196, 7441, 8164, 8165, 8167],\n",
       " [3194, 7441, 7720, 7721, 7733, 8167],\n",
       " [3194, 5504, 7733, 8165, 8166, 8167],\n",
       " [3196, 3932, 6828, 7437, 7441, 8164],\n",
       " [5504, 7422, 7729, 7730, 7733, 8166],\n",
       " [3932, 7423, 7437, 8159, 8164, 8174],\n",
       " [7422, 7423, 7730, 8159, 8166, 8174],\n",
       " [7423, 7437, 7721, 7722, 7730, 8174],\n",
       " [7437, 7441, 7721, 8164, 8167, 8174],\n",
       " [7721, 7730, 7733, 8166, 8167, 8174]]"
      ]
     },
     "execution_count": 24,
     "metadata": {},
     "output_type": "execute_result"
    }
   ],
   "source": [
    "# список координат каждой 3х мерной грани (координаты даны индексами)\n",
    "\n",
    "edge_central"
   ]
  },
  {
   "cell_type": "code",
   "execution_count": null,
   "id": "23d369d8",
   "metadata": {},
   "outputs": [
    {
     "data": {
      "text/plain": [
       "24"
      ]
     },
     "execution_count": 25,
     "metadata": {},
     "output_type": "execute_result"
    }
   ],
   "source": [
    "#длина списока координат каждой 3х мерной грани\n",
    "\n",
    "len(edge_central_coords)"
   ]
  },
  {
   "cell_type": "code",
   "execution_count": null,
   "id": "de2785f8",
   "metadata": {},
   "outputs": [
    {
     "data": {
      "text/plain": [
       "array([[-0.5, -0.5, -0.5, -0.5],\n",
       "       [-0.5,  0.5, -0.5, -0.5],\n",
       "       [-1. ,  0. ,  0. ,  0. ],\n",
       "       [-0.5, -0.5,  0.5, -0.5],\n",
       "       [-0.5,  0.5,  0.5, -0.5],\n",
       "       [ 0. ,  0. ,  0. , -1. ]])"
      ]
     },
     "execution_count": 26,
     "metadata": {},
     "output_type": "execute_result"
    }
   ],
   "source": [
    "edge_central_coords[0]"
   ]
  },
  {
   "cell_type": "code",
   "execution_count": null,
   "id": "e88e941b",
   "metadata": {
    "scrolled": true
   },
   "outputs": [
    {
     "name": "stdout",
     "output_type": "stream",
     "text": [
      "количество граней в одном зх мерном многограннике = 8\n"
     ]
    }
   ],
   "source": [
    "# составляем список граней многогранника\n",
    "\n",
    "list_faces = []\n",
    "\n",
    "# берем каждый 3х мерный многогранник\n",
    "for m in edge_central_coords:\n",
    "    \n",
    "    # составляем список ребер (расстояние между вершинами, соединенными ребрами = 1)\n",
    "    list_edges = []\n",
    "    for i in range(len(m)-1):\n",
    "        for j in range(i+1, len(m)):\n",
    "            k = []\n",
    "            d = distance.euclidean(m[i], m[j])\n",
    "            if d == 1:\n",
    "                k.append(i)\n",
    "                k.append(j)\n",
    "                list_edges.append(k)\n",
    "    # перебираем все комбинации ребер и ищем грани (если количество задействованных вершин в комбинации из 3х\n",
    "    #  ребер = 3, то это грань)                       \n",
    "    digits = list_edges\n",
    "    list_faces_one = []  \n",
    "    for var in itertools.combinations(digits, r=3):\n",
    "        set_vet = set(var[0] + var[1] + var[2])\n",
    "        set_vet_coord = []\n",
    "        if len(set_vet) == 3:\n",
    "            for i in range(len(set_vet)):\n",
    "                set_vet_coord.append(m[list(set_vet)[i]])\n",
    "            list_faces_one.append(set_vet_coord)\n",
    "               \n",
    "    list_faces.append(list_faces_one)\n",
    "    \n",
    "print('количество граней в одном зх мерном многограннике =', len(list_faces[1]))"
   ]
  },
  {
   "cell_type": "code",
   "execution_count": null,
   "id": "82025c2b",
   "metadata": {
    "scrolled": true
   },
   "outputs": [
    {
     "data": {
      "text/plain": [
       "[[array([-0.5, -0.5, -0.5, -0.5]),\n",
       "  array([-0.5,  0.5, -0.5, -0.5]),\n",
       "  array([-1.,  0.,  0.,  0.])],\n",
       " [array([-0.5, -0.5, -0.5, -0.5]),\n",
       "  array([-0.5,  0.5, -0.5, -0.5]),\n",
       "  array([ 0.,  0.,  0., -1.])],\n",
       " [array([-0.5, -0.5, -0.5, -0.5]),\n",
       "  array([-1.,  0.,  0.,  0.]),\n",
       "  array([-0.5, -0.5,  0.5, -0.5])],\n",
       " [array([-0.5, -0.5, -0.5, -0.5]),\n",
       "  array([-0.5, -0.5,  0.5, -0.5]),\n",
       "  array([ 0.,  0.,  0., -1.])],\n",
       " [array([-0.5,  0.5, -0.5, -0.5]),\n",
       "  array([-1.,  0.,  0.,  0.]),\n",
       "  array([-0.5,  0.5,  0.5, -0.5])],\n",
       " [array([-0.5,  0.5, -0.5, -0.5]),\n",
       "  array([-0.5,  0.5,  0.5, -0.5]),\n",
       "  array([ 0.,  0.,  0., -1.])],\n",
       " [array([-1.,  0.,  0.,  0.]),\n",
       "  array([-0.5, -0.5,  0.5, -0.5]),\n",
       "  array([-0.5,  0.5,  0.5, -0.5])],\n",
       " [array([-0.5, -0.5,  0.5, -0.5]),\n",
       "  array([-0.5,  0.5,  0.5, -0.5]),\n",
       "  array([ 0.,  0.,  0., -1.])]]"
      ]
     },
     "execution_count": 28,
     "metadata": {},
     "output_type": "execute_result"
    }
   ],
   "source": [
    "# список трехмерных граней со списком 2х мерных граней\n",
    "\n",
    "list_faces[0]"
   ]
  },
  {
   "cell_type": "code",
   "execution_count": null,
   "id": "b44ac4b5",
   "metadata": {},
   "outputs": [
    {
     "data": {
      "text/plain": [
       "2.0"
      ]
     },
     "execution_count": 29,
     "metadata": {},
     "output_type": "execute_result"
    }
   ],
   "source": [
    "# диаметр многогранника (ищем максимальное расстояние между вершинами) - 2\n",
    "\n",
    "max_len = 2 * distance.euclidean(np.array([0, 0, 0, 0]), central[1])\n",
    "max_len"
   ]
  },
  {
   "cell_type": "code",
   "execution_count": null,
   "id": "a4225ff3",
   "metadata": {
    "scrolled": true
   },
   "outputs": [
    {
     "data": {
      "text/plain": [
       "array([[ 0.5, -0.5, -0.5, -0.5],\n",
       "       [ 0.5, -0.5, -0.5,  0.5],\n",
       "       [ 0.5, -0.5,  0.5,  0.5],\n",
       "       [ 0. ,  0. ,  0. ,  1. ],\n",
       "       [ 0.5, -0.5,  0.5, -0.5],\n",
       "       [ 0. , -1. ,  0. ,  0. ],\n",
       "       [-0.5, -0.5, -0.5,  0.5],\n",
       "       [ 0. ,  0. ,  1. ,  0. ],\n",
       "       [-0.5,  0.5,  0.5,  0.5],\n",
       "       [-0.5,  0.5, -0.5,  0.5],\n",
       "       [ 0. ,  0. , -1. ,  0. ],\n",
       "       [-0.5, -0.5, -0.5, -0.5],\n",
       "       [-0.5,  0.5, -0.5, -0.5],\n",
       "       [-1. ,  0. ,  0. ,  0. ],\n",
       "       [-0.5, -0.5,  0.5, -0.5],\n",
       "       [-0.5,  0.5,  0.5, -0.5],\n",
       "       [ 0. ,  0. ,  0. , -1. ],\n",
       "       [-0.5, -0.5,  0.5,  0.5],\n",
       "       [ 0.5,  0.5,  0.5,  0.5],\n",
       "       [ 0.5,  0.5, -0.5,  0.5],\n",
       "       [ 1. ,  0. ,  0. ,  0. ],\n",
       "       [ 0.5,  0.5,  0.5, -0.5],\n",
       "       [ 0.5,  0.5, -0.5, -0.5],\n",
       "       [ 0. ,  1. ,  0. ,  0. ]])"
      ]
     },
     "execution_count": 30,
     "metadata": {},
     "output_type": "execute_result"
    }
   ],
   "source": [
    "# список вершин центрального многогранника\n",
    "central"
   ]
  },
  {
   "cell_type": "code",
   "execution_count": null,
   "id": "2367abf9",
   "metadata": {},
   "outputs": [
    {
     "data": {
      "text/plain": [
       "[array([-0.70710678,  0.        ,  0.        , -0.70710678]),\n",
       " array([-0.70710678,  0.        , -0.70710678,  0.        ]),\n",
       " array([ 0.        , -0.70710678,  0.        , -0.70710678]),\n",
       " array([ 0.        , -0.70710678, -0.70710678,  0.        ]),\n",
       " array([-0.70710678,  0.        ,  0.        ,  0.70710678]),\n",
       " array([ 0.        , -0.70710678,  0.        ,  0.70710678]),\n",
       " array([-0.70710678,  0.        ,  0.70710678,  0.        ]),\n",
       " array([ 0.        , -0.70710678,  0.70710678,  0.        ]),\n",
       " array([-0.70710678, -0.70710678,  0.        ,  0.        ]),\n",
       " array([0.70710678, 0.70710678, 0.        , 0.        ]),\n",
       " array([0.70710678, 0.        , 0.        , 0.70710678]),\n",
       " array([0.70710678, 0.        , 0.70710678, 0.        ]),\n",
       " array([ 0.70710678, -0.70710678,  0.        ,  0.        ]),\n",
       " array([0.        , 0.        , 0.70710678, 0.70710678]),\n",
       " array([ 0.70710678,  0.        , -0.70710678,  0.        ]),\n",
       " array([ 0.        ,  0.        , -0.70710678, -0.70710678]),\n",
       " array([ 0.70710678,  0.        ,  0.        , -0.70710678]),\n",
       " array([ 0.        ,  0.        , -0.70710678,  0.70710678]),\n",
       " array([ 0.        ,  0.        ,  0.70710678, -0.70710678]),\n",
       " array([0.        , 0.70710678, 0.        , 0.70710678]),\n",
       " array([0.        , 0.70710678, 0.70710678, 0.        ]),\n",
       " array([-0.70710678,  0.70710678,  0.        ,  0.        ]),\n",
       " array([ 0.        ,  0.70710678, -0.70710678,  0.        ]),\n",
       " array([ 0.        ,  0.70710678,  0.        , -0.70710678])]"
      ]
     },
     "execution_count": 31,
     "metadata": {},
     "output_type": "execute_result"
    }
   ],
   "source": [
    "# нормируем вектора нормали\n",
    "# ищем точки, принадлежащие граням и находящиеся на векторах нормали\n",
    "\n",
    "v_norm = [] # здесь будем хранить нормированные вектора нормали\n",
    "point_face_norm = [] #точки, принадлежащие граням и находящиеся на векторах нормали\n",
    "\n",
    "for vec in list_neigh_points:\n",
    "    v_norm.append(np.array(vec / np.linalg.norm(vec)))\n",
    "    point_face_norm = np.array(vec) / 2\n",
    "        \n",
    "v_norm"
   ]
  },
  {
   "cell_type": "code",
   "execution_count": null,
   "id": "5aecd457",
   "metadata": {},
   "outputs": [
    {
     "data": {
      "text/plain": [
       "[[2, 3, 12, 14, 15, 16],\n",
       " [3, 5, 10, 12, 14, 17],\n",
       " [5, 7, 10, 11, 12, 13],\n",
       " [4, 5, 10, 13, 17, 19],\n",
       " [2, 7, 11, 12, 16, 18],\n",
       " [2, 3, 5, 7, 8, 12],\n",
       " [1, 3, 4, 5, 8, 17],\n",
       " [6, 7, 11, 13, 18, 20],\n",
       " [4, 6, 13, 19, 20, 21],\n",
       " [1, 4, 17, 19, 21, 22],\n",
       " [1, 3, 14, 15, 17, 22],\n",
       " [0, 1, 2, 3, 8, 15],\n",
       " [0, 1, 15, 21, 22, 23],\n",
       " [0, 1, 4, 6, 8, 21],\n",
       " [0, 2, 6, 7, 8, 18],\n",
       " [0, 6, 18, 20, 21, 23],\n",
       " [0, 2, 15, 16, 18, 23],\n",
       " [4, 5, 6, 7, 8, 13],\n",
       " [9, 10, 11, 13, 19, 20],\n",
       " [9, 10, 14, 17, 19, 22],\n",
       " [9, 10, 11, 12, 14, 16],\n",
       " [9, 11, 16, 18, 20, 23],\n",
       " [9, 14, 15, 16, 22, 23],\n",
       " [9, 19, 20, 21, 22, 23]]"
      ]
     },
     "execution_count": 32,
     "metadata": {},
     "output_type": "execute_result"
    }
   ],
   "source": [
    "vertex_to_faces = [] # собой список списков 3D-граней для каждой вершины \n",
    "                        # (где индексы граней берутся из edge_central_coords)\n",
    "\n",
    "for vertex in central:\n",
    "    \n",
    "    tamp_list = [] # список граней для текущей вершины\n",
    "    \n",
    "    for face in range(len(edge_central_coords)):\n",
    "\n",
    "        if np.any(np.all(edge_central_coords[face] == vertex, axis=1)):\n",
    "            tamp_list.append(face)\n",
    "            \n",
    "    vertex_to_faces.append(tamp_list)\n",
    "\n",
    "vertex_to_faces"
   ]
  },
  {
   "cell_type": "code",
   "execution_count": null,
   "id": "d5cf4bbf",
   "metadata": {},
   "outputs": [],
   "source": [
    "# строим триангуляцию\n",
    "\n",
    "delaunay = Delaunay(central)"
   ]
  },
  {
   "cell_type": "markdown",
   "id": "9636b9b9",
   "metadata": {},
   "source": [
    "### 5. Создание классов граней и ребер центрального многогранника"
   ]
  },
  {
   "cell_type": "code",
   "execution_count": null,
   "id": "4f5b267d",
   "metadata": {},
   "outputs": [],
   "source": [
    "class Edge2D:\n",
    "    def __init__(self, vertex1, vertex2, face_center):\n",
    "        '''\n",
    "        Инициализация ребра.\n",
    "        :vertex1: Координаты первой вершины ребра.\n",
    "        :vertex2: Координаты второй вершины ребра.\n",
    "        :face_center: Координаты центра грани.\n",
    "        '''\n",
    "        self.vertex1 = np.array(vertex1)\n",
    "        self.vertex2 = np.array(vertex2)\n",
    "        self.face_center = np.array(face_center)\n",
    "\n",
    "        # Вычисляем середину ребра\n",
    "        self.center = (self.vertex1 + self.vertex2) / 2\n",
    "\n",
    "        # Вычисляем нормаль к ребру\n",
    "        #edge_vector = self.vertex2 - self.vertex1\n",
    "        self.normal = self.center - self.face_center  # Перпендикулярный вектор\n",
    "        self.normal = self.normal / np.linalg.norm(self.normal)  # Нормализация\n",
    "        \n",
    "        self.bias = self.normal @ vertex1\n",
    "\n",
    "        # Проверяем направление нормали (она должна быть направлена от центра грани)\n",
    "        vector_to_center = self.face_center - self.center\n",
    "        if np.dot(self.normal, vector_to_center) > 0:\n",
    "            self.normal = -self.normal  # Меняем направление нормали\n",
    "\n",
    "    def __repr__(self):\n",
    "        return f\"Edge2D(vertex1={self.vertex1}, vertex2={self.vertex2}, normal={self.normal}, \\\n",
    "                midpoint={self.center})\""
   ]
  },
  {
   "cell_type": "code",
   "execution_count": null,
   "id": "039f9334",
   "metadata": {},
   "outputs": [],
   "source": [
    "class Face2D:\n",
    "    def __init__(self, vertices, polyhedron_center):\n",
    "        '''\n",
    "        Инициализация 2D грани многогранника.\n",
    "        '''\n",
    "        self.vertices = vertices  # Координаты вершин грани\n",
    "        self.parent_center = polyhedron_center # центр 3х мерной грани\n",
    "        self.center = self._calculate_center()  # Центр грани\n",
    "        self.normal = self._calculate_normal()  # Нормаль к грани\n",
    "        self.edges = self._calculate_edges()  # ребра в 2х мерном многограннике\n",
    "        self.bias = self.normal @ vertices[0]\n",
    "\n",
    "    def _calculate_center(self):\n",
    "        '''\n",
    "        Вычисляет центр грани как среднее арифметическое координат вершин.\n",
    "        '''\n",
    "        return tuple(np.mean(self.vertices, axis=0))\n",
    "\n",
    "    def _calculate_normal(self):\n",
    "\n",
    "        # Вычисляем нормаль к грани как вектор из центра 3х мерного многогранника в центр 2х мерной грани\n",
    "        normal_3d = np.array(self.center) - np.array(self.parent_center)\n",
    "\n",
    "        # Нормализуем нормаль\n",
    "        normal_3d = normal_3d / np.linalg.norm(normal_3d)\n",
    "\n",
    "        return normal_3d\n",
    "\n",
    "    def _calculate_edges(self):\n",
    "        \n",
    "        # составляем список ребер (расстояние между вершинами, соединенными ребрами = 1)\n",
    "        list_edges = []\n",
    "        \n",
    "        for i in range(len(self.vertices)-1):\n",
    "            for j in range(i+1, len(self.vertices)):\n",
    "                \n",
    "                d = distance.euclidean(self.vertices[i], self.vertices[j])\n",
    "                \n",
    "                if d == 1:\n",
    "                    vertex1 = self.vertices[i]\n",
    "                    vertex2 = self.vertices[j]  \n",
    "                    edge = Edge2D(vertex1, vertex2, self.center)\n",
    "                    list_edges.append(edge)\n",
    "        \n",
    "        return list_edges\n",
    "\n",
    "    \n",
    "    def __repr__(self):\n",
    "        '''\n",
    "        Возвращает строковое представление грани.\n",
    "        '''\n",
    "        return (f\"Face2D(vertices={self.vertices}), center={self.center}, \"\n",
    "                f\"normal={self.normal}\")"
   ]
  },
  {
   "cell_type": "code",
   "execution_count": null,
   "id": "3f323143",
   "metadata": {},
   "outputs": [],
   "source": [
    "class Polyhedron4D:\n",
    "    def __init__(self, vertices, faces_list, normal):\n",
    "        '''\n",
    "        Инициализация многогранника в 4-мерном пространстве.\n",
    "        :vertices: Список координат вершин многогранника .\n",
    "        :normal: Вектор нормали к многограннику.\n",
    "        '''\n",
    "        self.vertices = vertices  # Координаты вершин\n",
    "        self.normal = normal  # Нормаль к многограннику\n",
    "        self.faces_list = faces_list  # Грани многогранника\n",
    "        self.center = self._calculate_center()  # Центр многогранника\n",
    "        self.faces = self._find_faces() # грани многогранника (как экземпляр класса)\n",
    "        self.bias = normal @ vertices[0] # смещение\n",
    "\n",
    "    def _calculate_center(self):\n",
    "        '''\n",
    "        Вычисляет центр многогранника как среднее арифметическое координат вершин.\n",
    "        :return: Координаты центра.\n",
    "        '''\n",
    "        return tuple(np.mean(self.vertices, axis=0))\n",
    "\n",
    "    \n",
    "    def _find_faces(self):\n",
    "        '''\n",
    "        Находит грани многогранника и создаёт объекты Face2D.\n",
    "        :return: Список объектов Face2D.\n",
    "        '''\n",
    "        \n",
    "        faces = []\n",
    "\n",
    "        for face_vertices in self.faces_list:\n",
    "            face = Face2D(face_vertices, self.center)\n",
    "            faces.append(face)\n",
    "\n",
    "        return faces\n",
    "    \n",
    "\n",
    "    def __repr__(self):\n",
    "        '''\n",
    "        Возвращает строковое представление многогранника.\n",
    "        '''\n",
    "        return (f\"Polyhedron4D(vertices={self.vertices}, normal={self.normal}, \"\n",
    "                f\"center={self.center}, faces={self.faces})\")\n"
   ]
  },
  {
   "cell_type": "code",
   "execution_count": null,
   "id": "d352f2db",
   "metadata": {},
   "outputs": [],
   "source": [
    "# расчитываем все грани центрального многогранника\n",
    "\n",
    "polyhedrons = []  # Список для хранения всех объектов\n",
    "\n",
    "for face_index in range(len(edge_central_coords)):\n",
    "    polyhedron = Polyhedron4D(edge_central_coords[face_index], list_faces[face_index], v_norm[face_index])\n",
    "    polyhedrons.append(polyhedron)\n",
    "    "
   ]
  },
  {
   "cell_type": "code",
   "execution_count": null,
   "id": "47c75fe5",
   "metadata": {},
   "outputs": [
    {
     "data": {
      "text/plain": [
       "Polyhedron4D(vertices=[[-0.5 -0.5 -0.5 -0.5]\n",
       " [-0.5  0.5 -0.5 -0.5]\n",
       " [-1.   0.   0.   0. ]\n",
       " [-0.5 -0.5  0.5 -0.5]\n",
       " [-0.5  0.5  0.5 -0.5]\n",
       " [ 0.   0.   0.  -1. ]], normal=[-0.70710678  0.          0.         -0.70710678], center=(-0.5, 0.0, 0.0, -0.5), faces=[Face2D(vertices=[array([-0.5, -0.5, -0.5, -0.5]), array([-0.5,  0.5, -0.5, -0.5]), array([-1.,  0.,  0.,  0.])]), center=(-0.6666666666666666, 0.0, -0.3333333333333333, -0.3333333333333333), normal=[-0.40824829  0.         -0.81649658  0.40824829], Face2D(vertices=[array([-0.5, -0.5, -0.5, -0.5]), array([-0.5,  0.5, -0.5, -0.5]), array([ 0.,  0.,  0., -1.])]), center=(-0.3333333333333333, 0.0, -0.3333333333333333, -0.6666666666666666), normal=[ 0.40824829  0.         -0.81649658 -0.40824829], Face2D(vertices=[array([-0.5, -0.5, -0.5, -0.5]), array([-1.,  0.,  0.,  0.]), array([-0.5, -0.5,  0.5, -0.5])]), center=(-0.6666666666666666, -0.3333333333333333, 0.0, -0.3333333333333333), normal=[-0.40824829 -0.81649658  0.          0.40824829], Face2D(vertices=[array([-0.5, -0.5, -0.5, -0.5]), array([-0.5, -0.5,  0.5, -0.5]), array([ 0.,  0.,  0., -1.])]), center=(-0.3333333333333333, -0.3333333333333333, 0.0, -0.6666666666666666), normal=[ 0.40824829 -0.81649658  0.         -0.40824829], Face2D(vertices=[array([-0.5,  0.5, -0.5, -0.5]), array([-1.,  0.,  0.,  0.]), array([-0.5,  0.5,  0.5, -0.5])]), center=(-0.6666666666666666, 0.3333333333333333, 0.0, -0.3333333333333333), normal=[-0.40824829  0.81649658  0.          0.40824829], Face2D(vertices=[array([-0.5,  0.5, -0.5, -0.5]), array([-0.5,  0.5,  0.5, -0.5]), array([ 0.,  0.,  0., -1.])]), center=(-0.3333333333333333, 0.3333333333333333, 0.0, -0.6666666666666666), normal=[ 0.40824829  0.81649658  0.         -0.40824829], Face2D(vertices=[array([-1.,  0.,  0.,  0.]), array([-0.5, -0.5,  0.5, -0.5]), array([-0.5,  0.5,  0.5, -0.5])]), center=(-0.6666666666666666, 0.0, 0.3333333333333333, -0.3333333333333333), normal=[-0.40824829  0.          0.81649658  0.40824829], Face2D(vertices=[array([-0.5, -0.5,  0.5, -0.5]), array([-0.5,  0.5,  0.5, -0.5]), array([ 0.,  0.,  0., -1.])]), center=(-0.3333333333333333, 0.0, 0.3333333333333333, -0.6666666666666666), normal=[ 0.40824829  0.          0.81649658 -0.40824829]])"
      ]
     },
     "execution_count": 55,
     "metadata": {},
     "output_type": "execute_result"
    }
   ],
   "source": [
    "polyhedrons[0]"
   ]
  },
  {
   "cell_type": "markdown",
   "id": "26a1145a",
   "metadata": {},
   "source": [
    "### 6. Расстояние от точки s до центрального многогранника"
   ]
  },
  {
   "cell_type": "code",
   "execution_count": null,
   "id": "9dcedf6b",
   "metadata": {},
   "outputs": [],
   "source": [
    "# через минимальное расстояние до вершины\n",
    "\n",
    "def dist_to_s(polyhedrons, s):\n",
    "    \n",
    "    min_dist_to_pol = float('inf')\n",
    "    index_proj = -1\n",
    "    min_dist_vert_to_s = float('inf')\n",
    "    min_vert = -1\n",
    "\n",
    "    # находим ближайшую вершину к точке s\n",
    "    \n",
    "    for index in range(24):\n",
    "\n",
    "        dist_vert_to_s = distance.euclidean(s, central[index])\n",
    "\n",
    "        if dist_vert_to_s < min_dist_vert_to_s:\n",
    "            min_dist_vert_to_s = dist_vert_to_s\n",
    "            min_vert = index\n",
    "\n",
    "    # находим расстояние и проекцию на центральный многогранник\n",
    "    \n",
    "    for i in vertex_to_faces[min_vert]: # рассматриваем только грани,которым принадлежит ближайшая в точке s вершина\n",
    "\n",
    "        d0 = polyhedrons[i].normal @ (s - polyhedrons[i].center)\n",
    "        coord0 = s - (d0 + polyhedrons[i].bias)* polyhedrons[i].normal\n",
    "        simplex = delaunay.find_simplex(coord0)\n",
    "        \n",
    "        if simplex != -1: # если проекция принадлежит центральному многораннику\n",
    "\n",
    "            dist = abs(d0)\n",
    "            coords_to_central = coord0\n",
    "\n",
    "        else:\n",
    "            for face2d in polyhedrons[i].faces: #cycle\n",
    "\n",
    "                d1 = face2d.normal @ (coord0 - face2d.center)\n",
    "                coord1 = coord0 - (d1 + face2d.bias)* polyhedrons[i].normal\n",
    "                simplex = delaunay.find_simplex(coord0)\n",
    "\n",
    "                if simplex != -1: # если проекция принадлежит центральному многораннику\n",
    "                    dist = distance.euclidean(s, coord1, dtype = 'float')\n",
    "                    coords_to_central = coord1\n",
    "\n",
    "                else:\n",
    "                    for edge in face2d.edges:\n",
    "                        d2 = edge.normal @ (coord1 - edge.center)\n",
    "                        coord2 = coord1 - (d2 + edge.bias) * edge.normal\n",
    "                        simplex = delaunay.find_simplex(coord0)\n",
    "\n",
    "                        if simplex != -1: # если проекция принадлежит центральному многораннику\n",
    "                            dist = distance.euclidean(s, coord2, dtype = 'float')\n",
    "                            coords_to_central = coord2\n",
    "\n",
    "                        else:\n",
    "                            d3 = distance.euclidean(s, edge.vertex1)\n",
    "                            d4 = distance.euclidean(s, edge.vertex2)\n",
    "\n",
    "                            if d3 < d4:\n",
    "                                dist = d3\n",
    "                                coords_to_central = edge.vertex1\n",
    "                            else:\n",
    "                                dist = d4\n",
    "                                coords_to_central = edge.vertex2\n",
    "\n",
    "        if min_dist_to_pol > dist:\n",
    "            \n",
    "            min_dist_to_pol = dist\n",
    "            coords_proj = coords_to_central\n",
    "            index_proj = i\n",
    "        \n",
    "        # если расстояние до какой-либо грани < 1, то дальше не считаем\n",
    "        if  min_dist_to_pol < 1:\n",
    "\n",
    "            return min_dist_to_pol, coords_proj, index_proj\n",
    "\n",
    "        \n",
    "    return min_dist_to_pol, coords_proj, index_proj"
   ]
  },
  {
   "cell_type": "code",
   "execution_count": null,
   "id": "59aea635",
   "metadata": {},
   "outputs": [],
   "source": [
    "# через сумму растояний до вершин грани\n",
    "\n",
    "def dist_to_s(polyhedrons, s):\n",
    "    \n",
    "    min_dist_to_pol = float('inf')\n",
    "    index_proj = -1\n",
    "    min_dist_vert_to_s = float('inf')\n",
    "    \n",
    "    # ищем ближайшую 3х мерную грань к точке s, находя сумму растояний до всех вершин грани\n",
    "\n",
    "    min_sum_dist = float('inf') # минимальное суммарное растояние до вершин грани\n",
    "\n",
    "    for index in range(len(list_ridge_edge)): # перебираем все 3-мерные грани\n",
    "        sum_dist = 0\n",
    "\n",
    "        for index_vert in range(6): # пребираем все вершины каждой 3-мерной грани\n",
    "            sum_dist += distance.euclidean(s, np.array(list_ridge_edge[index][index_vert], dtype = 'float'))\n",
    "\n",
    "        if sum_dist < min_sum_dist:\n",
    "            min_sum_dist = sum_dist\n",
    "            index_face = index\n",
    "\n",
    "\n",
    "    # находим расстояние и проекцию на центральный многогранник\n",
    "\n",
    "    i = index_face\n",
    "    d0 = polyhedrons[i].normal @ (s - polyhedrons[i].center)\n",
    "    coord0 = s - (d0 + polyhedrons[i].bias)* polyhedrons[i].normal\n",
    "    simplex = delaunay.find_simplex(coord0)\n",
    "\n",
    "    if simplex != -1: # если проекция принадлежит центральному многораннику\n",
    "\n",
    "        dist = abs(d0)\n",
    "        coords_to_central = coord0\n",
    "\n",
    "    else:\n",
    "        for j in range(8):\n",
    "\n",
    "            d1 = polyhedrons[i].faces[j].normal @ (coord0 - polyhedrons[i].faces[j].center)\n",
    "            coord1 = coord0 - (d1 + polyhedrons[i].faces[j].bias)* polyhedrons[i].normal\n",
    "            simplex = delaunay.find_simplex(coord0)\n",
    "\n",
    "            if simplex != -1: # если проекция принадлежит центральному многораннику\n",
    "                dist = distance.euclidean(s, coord1, dtype = 'float')\n",
    "                coords_to_central = coord1\n",
    "\n",
    "            else:\n",
    "                for k in range(3):\n",
    "                    d2 = polyhedrons[i].faces[j].edges[k].normal @ (coord1 - \\\n",
    "                                                             polyhedrons[i].faces[j].edges[k].center)\n",
    "                    coord2 = coord1 - (d2 + polyhedrons[i].faces[j].edges[k].bias) * \\\n",
    "                                polyhedrons[i].faces[j].edges[k].normal\n",
    "                    simplex = delaunay.find_simplex(coord0)\n",
    "\n",
    "                    if simplex != -1: # если проекция принадлежит центральному многораннику\n",
    "                        dist = distance.euclidean(s, coord2, dtype = 'float')\n",
    "                        coords_to_central = coord2\n",
    "\n",
    "                    else:\n",
    "                        d3 = distance.euclidean(s, polyhedrons[i].faces[j].edges[k].vertex1)\n",
    "                        d4 = distance.euclidean(s, polyhedrons[i].faces[j].edges[k].vertex2)\n",
    "\n",
    "                        if d3 < d4:\n",
    "                            dist = d3\n",
    "                            coords_to_central = polyhedrons[i].faces[j].edges[k].vertex1\n",
    "                        else:\n",
    "                            dist = d4\n",
    "                            coords_to_central = polyhedrons[i].faces[j].edges[k].vertex2\n",
    "\n",
    "    if min_dist_to_pol > dist:\n",
    "\n",
    "        min_dist_to_pol = dist\n",
    "        coords_proj = coords_to_central\n",
    "        index_proj = i\n",
    "\n",
    "    # если расстояние до какой-либо грани < 1, то дальше не считаем\n",
    "    if  min_dist_to_pol < 1:\n",
    "\n",
    "        return min_dist_to_pol, coords_proj, index_proj\n",
    "\n",
    "        \n",
    "    return min_dist_to_pol, coords_proj, index_proj"
   ]
  },
  {
   "cell_type": "code",
   "execution_count": null,
   "id": "8abaf5a5",
   "metadata": {
    "scrolled": true
   },
   "outputs": [
    {
     "data": {
      "text/plain": [
       "(0.35355339059327373, array([ 0.  , -0.25,  0.25,  0.5 ]), 3)"
      ]
     },
     "execution_count": 40,
     "metadata": {},
     "output_type": "execute_result"
    }
   ],
   "source": [
    "s = np.array([ 0.,  -1.,  -0.5,  0.5])\n",
    "dist_to_s(polyhedrons, s)"
   ]
  },
  {
   "cell_type": "code",
   "execution_count": null,
   "id": "5ef1f50f",
   "metadata": {
    "scrolled": true
   },
   "outputs": [
    {
     "data": {
      "text/plain": [
       "array([0.5, 0.5, 0. , 0.5])"
      ]
     },
     "execution_count": 41,
     "metadata": {},
     "output_type": "execute_result"
    }
   ],
   "source": [
    "polyhedrons[9].faces[0].edges[0].center"
   ]
  },
  {
   "cell_type": "code",
   "execution_count": null,
   "id": "88616495",
   "metadata": {},
   "outputs": [],
   "source": [
    "min_d = 1.5"
   ]
  },
  {
   "cell_type": "markdown",
   "id": "f51dd639",
   "metadata": {},
   "source": [
    "### 7. LLL-базис (функция)"
   ]
  },
  {
   "cell_type": "code",
   "execution_count": null,
   "id": "5dc1de18",
   "metadata": {
    "scrolled": true
   },
   "outputs": [],
   "source": [
    "def gram_schmidt(v):\n",
    "\n",
    "    w_1 = copy.deepcopy(v[0])\n",
    "    w_n = copy.deepcopy(w_1)\n",
    "    w_array = [deepcopy(w_n)]\n",
    "    \n",
    "    for n in range(1, len(v)):\n",
    "        v_n = copy.deepcopy(v[n])\n",
    "        w_n = copy.deepcopy(v_n)\n",
    "\n",
    "        for j in range(n):\n",
    "            w_j = deepcopy(w_array[j])\n",
    "            if not any(w_j):\n",
    "                continue\n",
    "            w_n -= np.dot(v_n, w_j) / np.dot(w_j, w_j) * w_j\n",
    "        \n",
    "        w_array += [w_n]\n",
    "          \n",
    "    return w_array"
   ]
  },
  {
   "cell_type": "code",
   "execution_count": null,
   "id": "a96cbe54",
   "metadata": {
    "scrolled": true
   },
   "outputs": [],
   "source": [
    "d = 0.75\n",
    "\n",
    "def mu(b_i, b_j):\n",
    "    return np.dot(b_i, b_j) / np.dot(b_j, b_j) if np.dot(b_j, b_j) != 0 else 0\n",
    "\n",
    "\n",
    "def LLL(l_basis):\n",
    "\n",
    "    ortho = gram_schmidt(l_basis)\n",
    "\n",
    "    k = 1\n",
    "    n = len(ortho)\n",
    "\n",
    "    while k < n:\n",
    "        for j in range(k - 1, -1, -1):\n",
    "            proj = mu(l_basis[k], ortho[j])\n",
    "            if abs(proj) > 1/2:\n",
    "                l_basis[k] -= l_basis[j] * round(proj)\n",
    "                ortho = copy.deepcopy(gram_schmidt(l_basis))\n",
    "            #print(l_basis, 111)\n",
    "\n",
    "        if np.dot(ortho[k], ortho[k]) >= (d - (mu(l_basis[k], ortho[k-1]))**2) * (np.dot(ortho[k-1], ortho[k-1])):\n",
    "            #print(l_basis, 222)\n",
    "            k += 1\n",
    "\n",
    "        else:\n",
    "            s = copy.deepcopy(l_basis[k-1])\n",
    "            l_basis[k-1] = copy.deepcopy(l_basis[k])\n",
    "            l_basis[k] = copy.deepcopy(s)\n",
    "            ortho = gram_schmidt(l_basis)\n",
    "            k = max(k-1, 1)\n",
    "            #print(l_basis, 333)\n",
    "\n",
    "    return l_basis"
   ]
  },
  {
   "cell_type": "markdown",
   "id": "9ad21358",
   "metadata": {},
   "source": [
    "### 8. Поиск подрешеток"
   ]
  },
  {
   "cell_type": "code",
   "execution_count": null,
   "id": "affa356e",
   "metadata": {},
   "outputs": [],
   "source": [
    "# генерация комбинаций\n",
    "\n",
    "def generate_factor_combinations(factors):\n",
    "    if not factors:\n",
    "        return [[]]\n",
    "    \n",
    "    first, *rest = factors\n",
    "    rest_combinations = generate_factor_combinations(rest)\n",
    "    \n",
    "    result = []\n",
    "    for comb in rest_combinations:\n",
    "        result.append([first] + comb)\n",
    "        result.append([first * (comb[0] if comb else 1)] + (comb[1:] if len(comb) > 1 else []))\n",
    "    \n",
    "    return result"
   ]
  },
  {
   "cell_type": "code",
   "execution_count": null,
   "id": "e4eaa8f2",
   "metadata": {},
   "outputs": [],
   "source": [
    "# находит все возможные разложения числа на простые множители\n",
    "\n",
    "def compute_factorizations(n):\n",
    "    \n",
    "    # находим простые множители числа\n",
    "    \n",
    "    factors = [] # список простых множителей\n",
    "    \n",
    "    for prime, exp in factorint(n).items():\n",
    "        factors.extend([prime] * exp)\n",
    "    \n",
    "    combinations = []\n",
    "    combinations = generate_factor_combinations(factors) # генерируем список всех возможных комбинаций\n",
    "    \n",
    "    unique = set(tuple(sorted(comb)) for comb in combinations) # убираем дубликаты и сортируем\n",
    "    unique_combinations = [list(comb) for comb in sorted(unique)]\n",
    "    \n",
    "    return unique_combinations\n",
    "    \n"
   ]
  },
  {
   "cell_type": "code",
   "execution_count": null,
   "id": "ba2a4f87",
   "metadata": {},
   "outputs": [
    {
     "data": {
      "text/plain": [
       "[[2, 3, 3, 3], [2, 3, 9], [2, 27], [3, 3, 6], [3, 18], [6, 9], [54]]"
      ]
     },
     "execution_count": 50,
     "metadata": {},
     "output_type": "execute_result"
    }
   ],
   "source": [
    "list_all_factorizations = compute_factorizations(54)\n",
    "list_all_factorizations"
   ]
  },
  {
   "cell_type": "code",
   "execution_count": null,
   "id": "fd284b32",
   "metadata": {},
   "outputs": [
    {
     "data": {
      "text/plain": [
       "{2: 1, 3: 3}"
      ]
     },
     "execution_count": 51,
     "metadata": {},
     "output_type": "execute_result"
    }
   ],
   "source": [
    "factorint(54)"
   ]
  },
  {
   "cell_type": "code",
   "execution_count": null,
   "id": "ab4069e5",
   "metadata": {},
   "outputs": [],
   "source": [
    "def pad_lists_with_ones(list_of_lists):\n",
    "    # Проходим по каждому списку в основном списке\n",
    "    for i in range(len(list_of_lists)):\n",
    "        # Если длина списка меньше 4\n",
    "        if len(list_of_lists[i]) < 4:\n",
    "            # Добавляем в начало столько единиц, сколько не хватает до 4\n",
    "            list_of_lists[i] = [1] * (4 - len(list_of_lists[i])) + list_of_lists[i]\n",
    "    return list_of_lists\n"
   ]
  },
  {
   "cell_type": "code",
   "execution_count": 2,
   "id": "3db87a88",
   "metadata": {},
   "outputs": [
    {
     "name": "stdout",
     "output_type": "stream",
     "text": [
      "55\n"
     ]
    },
    {
     "ename": "NameError",
     "evalue": "name 'compute_factorizations' is not defined",
     "output_type": "error",
     "traceback": [
      "\u001b[0;31m---------------------------------------------------------------------------\u001b[0m",
      "\u001b[0;31mNameError\u001b[0m                                 Traceback (most recent call last)",
      "Cell \u001b[0;32mIn[2], line 10\u001b[0m\n\u001b[1;32m      6\u001b[0m \u001b[38;5;28;01mfor\u001b[39;00m det_mat \u001b[38;5;129;01min\u001b[39;00m \u001b[38;5;28mrange\u001b[39m(\u001b[38;5;241m55\u001b[39m, \u001b[38;5;241m56\u001b[39m):\n\u001b[1;32m      8\u001b[0m     \u001b[38;5;28mprint\u001b[39m(det_mat)\n\u001b[0;32m---> 10\u001b[0m     list_all_factorizations \u001b[38;5;241m=\u001b[39m compute_factorizations(det_mat)\n\u001b[1;32m     11\u001b[0m     list_diag_el \u001b[38;5;241m=\u001b[39m pad_lists_with_ones(list_all_factorizations)\n\u001b[1;32m     13\u001b[0m     \u001b[38;5;28;01mfor\u001b[39;00m diag_el \u001b[38;5;129;01min\u001b[39;00m list_diag_el:\n",
      "\u001b[0;31mNameError\u001b[0m: name 'compute_factorizations' is not defined"
     ]
    }
   ],
   "source": [
    "list_mat = []\n",
    "list_lll = []\n",
    "list_s1 = []\n",
    "list_dist = []\n",
    "\n",
    "for det_mat in range(55, 56):\n",
    "\n",
    "    print(det_mat)\n",
    "\n",
    "    list_all_factorizations = compute_factorizations(det_mat)\n",
    "    list_diag_el = pad_lists_with_ones(list_all_factorizations)\n",
    "\n",
    "    for diag_el in list_diag_el:\n",
    "        mat = np.array([[diag_el[0], 0, 0, 0], \n",
    "                        [0, diag_el[1], 0, 0], \n",
    "                        [0, 0, diag_el[2], 0], \n",
    "                        [0, 0, 0, diag_el[3]]], float)\n",
    "        max_num_col3 = diag_el[3]\n",
    "        max_num_col2 = diag_el[2]\n",
    "        max_num_col1 = diag_el[1]\n",
    "        #max_num_col0 = diag_el[0]\n",
    "        print(max_num_col1, max_num_col2, max_num_col3)\n",
    "\n",
    "        for i1 in range(max_num_col3):\n",
    "            mat[2][3] = i1\n",
    "            print(i1)\n",
    "            for i2 in range(max_num_col3):\n",
    "                mat[1][3] = i2\n",
    "                for i3 in range(max_num_col2):\n",
    "                    mat[1][2] = i3\n",
    "                    for i4 in range(max_num_col3):\n",
    "                        mat[0][3] = i4\n",
    "                        for i5 in range(max_num_col2):\n",
    "                            mat[0][2] = i5\n",
    "                            for i6 in range(max_num_col1):\n",
    "                                mat[0][1] = i6\n",
    "                                \n",
    "                                sub_grid = np.dot(mat, grid)\n",
    "                                basis = LLL(sub_grid)\n",
    "\n",
    "                                # ищем самый короткий вектор\n",
    "                                min_dist = 100\n",
    "                                index = 0\n",
    "                                for i in range(4):\n",
    "                                    d_vec = np.linalg.norm(basis[i])\n",
    "                                    if d_vec < min_dist:\n",
    "                                        min_dist = d_vec\n",
    "                                        index = i\n",
    "\n",
    "                                # определяем точку s как половину длины самого короткого базисного вектора\n",
    "                                if min_dist > min_d:\n",
    "                                    s1 = basis[index] * 0.5\n",
    "                                    #print(mat, s1)\n",
    "                                    dist_s1, coords_proj_s, index_pol = dist_to_s(polyhedrons, s1)\n",
    "                                    \n",
    "                                    if dist_s1 > 1:\n",
    "                                        print(dist_s1, s1, mat)\n",
    "                                        list_dist.append(dist_s1)\n",
    "                                        list_mat.append(mat)\n",
    "                                        list_lll.append(basis)\n",
    "                                        list_s1.append(s1)"
   ]
  },
  {
   "cell_type": "code",
   "execution_count": null,
   "id": "383a82bb",
   "metadata": {},
   "outputs": [
    {
     "name": "stdout",
     "output_type": "stream",
     "text": [
      "54\n",
      "3 3 3\n",
      "0\n",
      "1\n",
      "2\n",
      "2 3 9\n",
      "0\n",
      "1.0606601717798212 [1.5 1.  0.  0.5] [[1. 1. 0. 6.]\n",
      " [0. 2. 0. 1.]\n",
      " [0. 0. 3. 0.]\n",
      " [0. 0. 0. 9.]]\n",
      "1\n",
      "2\n",
      "3\n",
      "4\n",
      "5\n",
      "6\n",
      "7\n",
      "8\n",
      "1 2 27\n",
      "0\n",
      "1\n",
      "2\n",
      "3\n",
      "4\n",
      "5\n",
      "6\n",
      "7\n",
      "8\n",
      "9\n",
      "10\n",
      "11\n",
      "12\n",
      "13\n",
      "14\n",
      "15\n",
      "1.0606601717798212 [ 1.5 -0.5  1.   0. ] [[ 1.  0.  1.  9.]\n",
      " [ 0.  1.  1. 24.]\n",
      " [ 0.  0.  2. 15.]\n",
      " [ 0.  0.  0. 27.]]\n",
      "16\n",
      "17\n",
      "18\n",
      "19\n",
      "20\n",
      "21\n",
      "22\n",
      "23\n",
      "24\n",
      "25\n",
      "26\n",
      "3 3 6\n",
      "0\n",
      "1\n",
      "2\n",
      "3\n",
      "4\n",
      "5\n",
      "1.0606601717798212 [-1.  -1.5  0.   0.5] [[1. 2. 2. 0.]\n",
      " [0. 3. 0. 5.]\n",
      " [0. 0. 3. 5.]\n",
      " [0. 0. 0. 6.]]\n",
      "1 3 18\n",
      "0\n",
      "1.0606601717798212 [1.5 0.5 0.  1. ] [[ 1.  0.  2. 12.]\n",
      " [ 0.  1.  0.  2.]\n",
      " [ 0.  0.  3.  0.]\n",
      " [ 0.  0.  0. 18.]]\n",
      "1.0606601717798212 [1.  0.  0.5 1.5] [[ 1.  0.  2. 15.]\n",
      " [ 0.  1.  2.  4.]\n",
      " [ 0.  0.  3.  0.]\n",
      " [ 0.  0.  0. 18.]]\n",
      "1.0606601717798212 [-1.5  0.5  0.  -1. ] [[ 1.  0.  2. 12.]\n",
      " [ 0.  1.  2. 10.]\n",
      " [ 0.  0.  3.  0.]\n",
      " [ 0.  0.  0. 18.]]\n",
      "1.0606601717798212 [1.  0.  0.5 1.5] [[ 1.  0.  2. 15.]\n",
      " [ 0.  1.  0. 11.]\n",
      " [ 0.  0.  3.  0.]\n",
      " [ 0.  0.  0. 18.]]\n",
      "1\n",
      "2\n",
      "3\n",
      "4\n",
      "5\n",
      "6\n",
      "7\n",
      "8\n",
      "9\n",
      "10\n",
      "11\n",
      "12\n",
      "1.0606601717798212 [ 0.5 -1.5  0.   1. ] [[ 1.  0.  0. 14.]\n",
      " [ 0.  1.  1.  8.]\n",
      " [ 0.  0.  3. 12.]\n",
      " [ 0.  0.  0. 18.]]\n",
      "13\n",
      "14\n",
      "15\n",
      "16\n",
      "17\n",
      "1 6 9\n",
      "0\n",
      "1\n",
      "1.0606601717798212 [-1.5 -1.   0.  -0.5] [[1. 0. 3. 6.]\n",
      " [0. 1. 3. 1.]\n",
      " [0. 0. 6. 1.]\n",
      " [0. 0. 0. 9.]]\n",
      "1.0606601717798212 [-1.5  1.   0.  -0.5] [[1. 0. 3. 6.]\n",
      " [0. 1. 0. 5.]\n",
      " [0. 0. 6. 1.]\n",
      " [0. 0. 0. 9.]]\n",
      "2\n",
      "3\n",
      "4\n",
      "5\n",
      "6\n",
      "7\n",
      "8\n",
      "1 1 54\n",
      "0\n",
      "1\n",
      "2\n",
      "3\n",
      "4\n",
      "5\n",
      "6\n",
      "7\n",
      "8\n",
      "9\n",
      "10\n",
      "11\n",
      "12\n",
      "13\n",
      "14\n",
      "15\n",
      "16\n",
      "17\n",
      "18\n",
      "19\n",
      "20\n",
      "21\n",
      "22\n",
      "23\n",
      "24\n",
      "25\n",
      "26\n",
      "27\n",
      "28\n",
      "29\n",
      "30\n",
      "31\n",
      "32\n",
      "33\n",
      "34\n",
      "35\n",
      "36\n",
      "37\n",
      "38\n",
      "39\n",
      "40\n",
      "41\n",
      "42\n",
      "43\n",
      "44\n",
      "45\n",
      "46\n",
      "47\n",
      "48\n",
      "49\n",
      "50\n",
      "51\n",
      "52\n",
      "53\n"
     ]
    }
   ],
   "source": [
    "# вариант 1 - считаем s - считаем как середина самого короткого вектора lll-базиса\n",
    "\n",
    "list_mat = []\n",
    "list_lll = []\n",
    "list_s1 = []\n",
    "list_dist = []\n",
    "\n",
    "\n",
    "# задаю величину определителя\n",
    "\n",
    "det_mat = 54\n",
    "print(det_mat)\n",
    "\n",
    "list_all_factorizations = compute_factorizations(det_mat)\n",
    "list_diag_el = pad_lists_with_ones(list_all_factorizations)\n",
    "\n",
    "for diag_el in list_diag_el:\n",
    "    mat = np.array([[diag_el[0], 0, 0, 0], \n",
    "                    [0, diag_el[1], 0, 0], \n",
    "                    [0, 0, diag_el[2], 0], \n",
    "                    [0, 0, 0, diag_el[3]]], float)\n",
    "    max_num_col3 = diag_el[3]\n",
    "    max_num_col2 = diag_el[2]\n",
    "    max_num_col1 = diag_el[1]\n",
    "    #max_num_col0 = diag_el[0]\n",
    "    print(max_num_col1, max_num_col2, max_num_col3)\n",
    "\n",
    "    for i1 in range(max_num_col3):\n",
    "        mat[2][3] = i1\n",
    "        print(i1)\n",
    "        for i2 in range(max_num_col3):\n",
    "            mat[1][3] = i2\n",
    "            for i3 in range(max_num_col2):\n",
    "                mat[1][2] = i3\n",
    "                for i4 in range(max_num_col3):\n",
    "                    mat[0][3] = i4\n",
    "                    for i5 in range(max_num_col2):\n",
    "                        mat[0][2] = i5\n",
    "                        for i6 in range(max_num_col1):\n",
    "                            mat[0][1] = i6\n",
    "                            \n",
    "                            sub_grid = np.dot(mat, grid)\n",
    "                            basis = LLL(sub_grid)\n",
    "\n",
    "                            # ищем самый короткий вектор\n",
    "                            min_dist = 100\n",
    "                            index = 0\n",
    "                            for i in range(4):\n",
    "                                d_vec = np.linalg.norm(basis[i])\n",
    "                                if d_vec < min_dist:\n",
    "                                    min_dist = d_vec\n",
    "                                    index = i\n",
    "\n",
    "                            # определяем точку s как половину длины самого короткого базисного вектора\n",
    "                            if min_dist > min_d:\n",
    "                                s1 = basis[index] * 0.5\n",
    "                                #print(mat, s1)\n",
    "                                dist_s1, coords_proj_s, index_pol = dist_to_s(polyhedrons, s1)\n",
    "                                \n",
    "                                if dist_s1 > 1:\n",
    "                                    print(dist_s1, s1, mat)\n",
    "                                    list_dist.append(dist_s1)\n",
    "                                    list_mat.append(mat)\n",
    "                                    list_lll.append(basis)\n",
    "                                    list_s1.append(s1)"
   ]
  },
  {
   "cell_type": "code",
   "execution_count": null,
   "id": "d8b78bcb",
   "metadata": {},
   "outputs": [],
   "source": [
    "list_mat = []\n",
    "list_lll = []\n",
    "list_s1 = []\n",
    "list_dist = []\n",
    "\n",
    "\n",
    "# задаю величину определителя\n",
    "\n",
    "det_mat = 44\n",
    "print(det_mat)\n",
    "\n",
    "\n",
    "list_all_factorizations = compute_factorizations(det_mat)\n",
    "list_diag_el = pad_lists_with_ones(list_all_factorizations)\n",
    "\n",
    "for diag_el in list_diag_el:\n",
    "    mat = np.array([[diag_el[0], 0, 0, 0], \n",
    "                    [0, diag_el[1], 0, 0], \n",
    "                    [0, 0, diag_el[2], 0], \n",
    "                    [0, 0, 0, diag_el[3]]], float)\n",
    "    max_num_col3 = diag_el[3]\n",
    "    max_num_col2 = diag_el[2]\n",
    "    max_num_col1 = diag_el[1]\n",
    "    #max_num_col0 = diag_el[0]\n",
    "    print(max_num_col1, max_num_col2, max_num_col3)\n",
    "\n",
    "    for i1 in range(max_num_col3):\n",
    "        mat[2][3] = i1\n",
    "        print(i1)\n",
    "        for i2 in range(max_num_col3):\n",
    "            mat[1][3] = i2\n",
    "            for i3 in range(max_num_col2):\n",
    "                mat[1][2] = i3\n",
    "                for i4 in range(max_num_col3):\n",
    "                    mat[0][3] = i4\n",
    "                    for i5 in range(max_num_col2):\n",
    "                        mat[0][2] = i5\n",
    "                        for i6 in range(max_num_col1):\n",
    "                            mat[0][1] = i6\n",
    "                            \n",
    "                            sub_grid = np.dot(mat, grid)\n",
    "                            basis = LLL(sub_grid)\n",
    "\n",
    "                            # ищем самый короткий вектор\n",
    "                            min_dist = 100\n",
    "                            index = 0\n",
    "                            for i in range(4):\n",
    "                                d_vec = np.linalg.norm(basis[i])\n",
    "                                if d_vec < min_dist:\n",
    "                                    min_dist = d_vec\n",
    "                                    index = i\n",
    "\n",
    "                            # определяем точку s как половину длины самого короткого базисного вектора\n",
    "                            if min_dist > min_d:\n",
    "                                s1 = basis[index] * 0.5\n",
    "                                #print(mat, s1)\n",
    "                                dist_s1, coords_proj_s, index_pol = dist_to_s(polyhedrons, s1)\n",
    "                                \n",
    "                                if dist_s1 > 1:\n",
    "                                    print(dist_s1, s1, mat)\n",
    "                                    list_dist.append(dist_s1)\n",
    "                                    list_mat.append(mat)\n",
    "                                    list_lll.append(basis)\n",
    "                                    list_s1.append(s1)"
   ]
  },
  {
   "cell_type": "code",
   "execution_count": null,
   "id": "8d4fb3bf",
   "metadata": {},
   "outputs": [],
   "source": []
  },
  {
   "cell_type": "code",
   "execution_count": null,
   "id": "ec0249cc",
   "metadata": {},
   "outputs": [],
   "source": [
    "import time"
   ]
  },
  {
   "cell_type": "code",
   "execution_count": null,
   "id": "3512b5d3",
   "metadata": {
    "scrolled": false
   },
   "outputs": [],
   "source": [
    "# с проверкой, есть ли точка в списке и с переводом s в положительные координаты\n",
    "\n",
    "start = time.time()\n",
    "\n",
    "list_mat = []\n",
    "list_lll = []\n",
    "list_s1 = []\n",
    "list_dist = []\n",
    "\n",
    "\n",
    "# задаю величину определителя\n",
    "det_mat = 54\n",
    "print(det_mat)\n",
    "\n",
    "\n",
    "list_all_factorizations = compute_factorizations(det_mat)\n",
    "list_diag_el = pad_lists_with_ones(list_all_factorizations)\n",
    "\n",
    "for diag_el in list_diag_el:\n",
    "    mat = np.array([[diag_el[0], 0, 0, 0], \n",
    "                    [0, diag_el[1], 0, 0], \n",
    "                    [0, 0, diag_el[2], 0], \n",
    "                    [0, 0, 0, diag_el[3]]], float)\n",
    "    max_num_col3 = diag_el[3]\n",
    "    max_num_col2 = diag_el[2]\n",
    "    max_num_col1 = diag_el[1]\n",
    "    \n",
    "    print(max_num_col1, max_num_col2, max_num_col3)\n",
    "\n",
    "    for i1 in range(max_num_col3):\n",
    "        mat[2][3] = i1\n",
    "        print(i1)\n",
    "        for i2 in range(max_num_col3):\n",
    "            mat[1][3] = i2\n",
    "            for i3 in range(max_num_col2):\n",
    "                mat[1][2] = i3\n",
    "                for i4 in range(max_num_col3):\n",
    "                    mat[0][3] = i4\n",
    "                    for i5 in range(max_num_col2):\n",
    "                        mat[0][2] = i5\n",
    "                        for i6 in range(max_num_col1):\n",
    "                            mat[0][1] = i6\n",
    "                            \n",
    "                            sub_grid = np.dot(mat, grid)\n",
    "                            basis = LLL(sub_grid)\n",
    "\n",
    "                            # ищем самый короткий вектор\n",
    "                            min_dist = 100\n",
    "                            index = 0\n",
    "                            for i in range(4):\n",
    "                                d_vec = np.linalg.norm(basis[i])\n",
    "                                if d_vec < min_dist:\n",
    "                                    min_dist = d_vec\n",
    "                                    index = i\n",
    "\n",
    "                            # определяем точку s как половину длины самого короткого базисного вектора\n",
    "                            if min_dist > min_d:\n",
    "                                s1 = basis[index] * 0.5\n",
    "                                \n",
    "                                s1_positive = np.abs(s1) # делаем все координаты положительными \n",
    "                                \n",
    "                                # проверяем есть ли данная точка уже в списке проверенных точек\n",
    "                                if not any(np.array_equal(s1_positive, arr) for arr in list_s1):\n",
    "                                    dist_s1, coords_proj_s, index_pol = dist_to_s(polyhedrons, s1_positive)\n",
    "\n",
    "                                    if dist_s1 > 1:\n",
    "                                        print(dist_s1, s1_positive, mat)\n",
    "                                        list_dist.append(dist_s1)\n",
    "                                        list_mat.append(mat)\n",
    "                                        list_lll.append(basis)\n",
    "                                        list_s1.append(s1_positive)\n",
    "                                        \n",
    "end = time.time()\n",
    "start - end"
   ]
  },
  {
   "cell_type": "code",
   "execution_count": null,
   "id": "a11c7a1d",
   "metadata": {},
   "outputs": [],
   "source": [
    "# с проверкой, есть ли точка в списке и с переводом s в положительные координаты\n",
    "\n",
    "start = time.time()\n",
    "\n",
    "list_mat = []\n",
    "list_lll = []\n",
    "list_s1 = []\n",
    "list_dist = []\n",
    "\n",
    "\n",
    "# задаю величину определителя\n",
    "det_mat = 50\n",
    "print(det_mat)\n",
    "\n",
    "\n",
    "list_all_factorizations = compute_factorizations(det_mat)\n",
    "list_diag_el = pad_lists_with_ones(list_all_factorizations)\n",
    "\n",
    "for diag_el in list_diag_el:\n",
    "    mat = np.array([[diag_el[0], 0, 0, 0], \n",
    "                    [0, diag_el[1], 0, 0], \n",
    "                    [0, 0, diag_el[2], 0], \n",
    "                    [0, 0, 0, diag_el[3]]], float)\n",
    "    max_num_col3 = diag_el[3]\n",
    "    max_num_col2 = diag_el[2]\n",
    "    max_num_col1 = diag_el[1]\n",
    "    \n",
    "    print(max_num_col1, max_num_col2, max_num_col3)\n",
    "\n",
    "    for i1 in range(max_num_col3):\n",
    "        mat[2][3] = i1\n",
    "        print(i1)\n",
    "        for i2 in range(max_num_col3):\n",
    "            mat[1][3] = i2\n",
    "            for i3 in range(max_num_col2):\n",
    "                mat[1][2] = i3\n",
    "                for i4 in range(max_num_col3):\n",
    "                    mat[0][3] = i4\n",
    "                    for i5 in range(max_num_col2):\n",
    "                        mat[0][2] = i5\n",
    "                        for i6 in range(max_num_col1):\n",
    "                            mat[0][1] = i6\n",
    "                            \n",
    "                            sub_grid = np.dot(mat, grid)\n",
    "                            basis = LLL(sub_grid)\n",
    "\n",
    "                            # ищем самый короткий вектор\n",
    "                            min_dist = 100\n",
    "                            index = 0\n",
    "                            for i in range(4):\n",
    "                                d_vec = np.linalg.norm(basis[i])\n",
    "                                if d_vec < min_dist:\n",
    "                                    min_dist = d_vec\n",
    "                                    index = i\n",
    "\n",
    "                            # определяем точку s как половину длины самого короткого базисного вектора\n",
    "                            if min_dist > min_d:\n",
    "                                s1 = basis[index] * 0.5\n",
    "                                \n",
    "                                s1_positive = np.abs(s1) # делаем все координаты положительными \n",
    "                                \n",
    "                                # проверяем есть ли данная точка уже в списке проверенных точек\n",
    "                                if not any(np.array_equal(s1_positive, arr) for arr in list_s1):\n",
    "                                    dist_s1, coords_proj_s, index_pol = dist_to_s(polyhedrons, s1_positive)\n",
    "\n",
    "                                    if dist_s1 > 1:\n",
    "                                        print(dist_s1, s1_positive, mat)\n",
    "                                        list_dist.append(dist_s1)\n",
    "                                        list_mat.append(mat)\n",
    "                                        list_lll.append(basis)\n",
    "                                        list_s1.append(s1_positive)\n",
    "                                        \n",
    "end = time.time()\n",
    "start - end"
   ]
  },
  {
   "cell_type": "code",
   "execution_count": null,
   "id": "e14ccd6a",
   "metadata": {},
   "outputs": [],
   "source": [
    "# с проверкой, есть ли точка в списке и с переводом s в положительные координаты\n",
    "\n",
    "start = time.time()\n",
    "\n",
    "list_mat = []\n",
    "list_lll = []\n",
    "list_s1 = []\n",
    "list_dist = []\n",
    "\n",
    "\n",
    "# задаю величину определителя\n",
    "det_mat = 52\n",
    "print(det_mat)\n",
    "\n",
    "\n",
    "list_all_factorizations = compute_factorizations(det_mat)\n",
    "list_diag_el = pad_lists_with_ones(list_all_factorizations)\n",
    "\n",
    "for diag_el in list_diag_el:\n",
    "    mat = np.array([[diag_el[0], 0, 0, 0], \n",
    "                    [0, diag_el[1], 0, 0], \n",
    "                    [0, 0, diag_el[2], 0], \n",
    "                    [0, 0, 0, diag_el[3]]], float)\n",
    "    max_num_col3 = diag_el[3]\n",
    "    max_num_col2 = diag_el[2]\n",
    "    max_num_col1 = diag_el[1]\n",
    "    \n",
    "    print(max_num_col1, max_num_col2, max_num_col3)\n",
    "\n",
    "    for i1 in range(max_num_col3):\n",
    "        mat[2][3] = i1\n",
    "        print(i1)\n",
    "        for i2 in range(max_num_col3):\n",
    "            mat[1][3] = i2\n",
    "            for i3 in range(max_num_col2):\n",
    "                mat[1][2] = i3\n",
    "                for i4 in range(max_num_col3):\n",
    "                    mat[0][3] = i4\n",
    "                    for i5 in range(max_num_col2):\n",
    "                        mat[0][2] = i5\n",
    "                        for i6 in range(max_num_col1):\n",
    "                            mat[0][1] = i6\n",
    "                            \n",
    "                            sub_grid = np.dot(mat, grid)\n",
    "                            basis = LLL(sub_grid)\n",
    "\n",
    "                            # ищем самый короткий вектор\n",
    "                            min_dist = 100\n",
    "                            index = 0\n",
    "                            for i in range(4):\n",
    "                                d_vec = np.linalg.norm(basis[i])\n",
    "                                if d_vec < min_dist:\n",
    "                                    min_dist = d_vec\n",
    "                                    index = i\n",
    "\n",
    "                            # определяем точку s как половину длины самого короткого базисного вектора\n",
    "                            if min_dist > min_d:\n",
    "                                s1 = basis[index] * 0.5\n",
    "                                \n",
    "                                s1_positive = np.abs(s1) # делаем все координаты положительными \n",
    "                                \n",
    "                                # проверяем есть ли данная точка уже в списке проверенных точек\n",
    "                                if not any(np.array_equal(s1_positive, arr) for arr in list_s1):\n",
    "                                    dist_s1, coords_proj_s, index_pol = dist_to_s(polyhedrons, s1_positive)\n",
    "\n",
    "                                    if dist_s1 > 1:\n",
    "                                        print(dist_s1, s1_positive, mat)\n",
    "                                        list_dist.append(dist_s1)\n",
    "                                        list_mat.append(mat)\n",
    "                                        list_lll.append(basis)\n",
    "                                        list_s1.append(s1_positive)\n",
    "                                        \n",
    "end = time.time()\n",
    "-start + end"
   ]
  },
  {
   "cell_type": "code",
   "execution_count": null,
   "id": "f49dc4c2",
   "metadata": {},
   "outputs": [],
   "source": [
    "# с проверкой, есть ли точка в списке и с переводом s в положительные координаты\n",
    "\n",
    "start = time.time()\n",
    "\n",
    "list_mat = []\n",
    "list_lll = []\n",
    "list_s1 = []\n",
    "list_dist = []\n",
    "\n",
    "\n",
    "# задаю величину определителя\n",
    "det_mat = 49\n",
    "print(det_mat)\n",
    "\n",
    "\n",
    "list_all_factorizations = compute_factorizations(det_mat)\n",
    "list_diag_el = pad_lists_with_ones(list_all_factorizations)\n",
    "\n",
    "for diag_el in list_diag_el:\n",
    "    mat = np.array([[diag_el[0], 0, 0, 0], \n",
    "                    [0, diag_el[1], 0, 0], \n",
    "                    [0, 0, diag_el[2], 0], \n",
    "                    [0, 0, 0, diag_el[3]]], float)\n",
    "    max_num_col3 = diag_el[3]\n",
    "    max_num_col2 = diag_el[2]\n",
    "    max_num_col1 = diag_el[1]\n",
    "    \n",
    "    print(max_num_col1, max_num_col2, max_num_col3)\n",
    "\n",
    "    for i1 in range(max_num_col3):\n",
    "        mat[2][3] = i1\n",
    "        print(i1)\n",
    "        for i2 in range(max_num_col3):\n",
    "            mat[1][3] = i2\n",
    "            for i3 in range(max_num_col2):\n",
    "                mat[1][2] = i3\n",
    "                for i4 in range(max_num_col3):\n",
    "                    mat[0][3] = i4\n",
    "                    for i5 in range(max_num_col2):\n",
    "                        mat[0][2] = i5\n",
    "                        for i6 in range(max_num_col1):\n",
    "                            mat[0][1] = i6\n",
    "                            \n",
    "                            sub_grid = np.dot(mat, grid)\n",
    "                            basis = LLL(sub_grid)\n",
    "\n",
    "                            # ищем самый короткий вектор\n",
    "                            min_dist = 100\n",
    "                            index = 0\n",
    "                            for i in range(4):\n",
    "                                d_vec = np.linalg.norm(basis[i])\n",
    "                                if d_vec < min_dist:\n",
    "                                    min_dist = d_vec\n",
    "                                    index = i\n",
    "\n",
    "                            # определяем точку s как половину длины самого короткого базисного вектора\n",
    "                            if min_dist > min_d:\n",
    "                                s1 = basis[index] * 0.5\n",
    "                                \n",
    "                                s1_positive = np.abs(s1) # делаем все координаты положительными \n",
    "                                \n",
    "                                # проверяем есть ли данная точка уже в списке проверенных точек\n",
    "                                if not any(np.array_equal(s1_positive, arr) for arr in list_s1):\n",
    "                                    dist_s1, coords_proj_s, index_pol = dist_to_s(polyhedrons, s1_positive)\n",
    "\n",
    "                                    if dist_s1 > 1:\n",
    "                                        print(dist_s1, s1_positive, mat)\n",
    "                                        list_dist.append(dist_s1)\n",
    "                                        list_mat.append(mat)\n",
    "                                        list_lll.append(basis)\n",
    "                                        list_s1.append(s1_positive)\n",
    "                                        \n",
    "end = time.time()\n",
    "start - end"
   ]
  },
  {
   "cell_type": "code",
   "execution_count": null,
   "id": "2cecc3a8",
   "metadata": {},
   "outputs": [],
   "source": [
    "# с проверкой, есть ли точка в списке и с переводом s в положительные координаты\n",
    "\n",
    "start = time.time()\n",
    "\n",
    "list_mat = []\n",
    "list_lll = []\n",
    "list_s1 = []\n",
    "list_dist = []\n",
    "\n",
    "\n",
    "# задаю величину определителя\n",
    "det_mat = 40\n",
    "print(det_mat)\n",
    "\n",
    "\n",
    "list_all_factorizations = compute_factorizations(det_mat)\n",
    "list_diag_el = pad_lists_with_ones(list_all_factorizations)\n",
    "\n",
    "for diag_el in list_diag_el:\n",
    "    mat = np.array([[diag_el[0], 0, 0, 0], \n",
    "                    [0, diag_el[1], 0, 0], \n",
    "                    [0, 0, diag_el[2], 0], \n",
    "                    [0, 0, 0, diag_el[3]]], float)\n",
    "    max_num_col3 = diag_el[3]\n",
    "    max_num_col2 = diag_el[2]\n",
    "    max_num_col1 = diag_el[1]\n",
    "    \n",
    "    print(max_num_col1, max_num_col2, max_num_col3)\n",
    "\n",
    "    for i1 in range(max_num_col3):\n",
    "        mat[2][3] = i1\n",
    "        print(i1)\n",
    "        for i2 in range(max_num_col3):\n",
    "            mat[1][3] = i2\n",
    "            for i3 in range(max_num_col2):\n",
    "                mat[1][2] = i3\n",
    "                for i4 in range(max_num_col3):\n",
    "                    mat[0][3] = i4\n",
    "                    for i5 in range(max_num_col2):\n",
    "                        mat[0][2] = i5\n",
    "                        for i6 in range(max_num_col1):\n",
    "                            mat[0][1] = i6\n",
    "                            \n",
    "                            sub_grid = np.dot(mat, grid)\n",
    "                            basis = LLL(sub_grid)\n",
    "\n",
    "                            # ищем самый короткий вектор\n",
    "                            min_dist = 100\n",
    "                            index = 0\n",
    "                            for i in range(4):\n",
    "                                d_vec = np.linalg.norm(basis[i])\n",
    "                                if d_vec < min_dist:\n",
    "                                    min_dist = d_vec\n",
    "                                    index = i\n",
    "\n",
    "                            # определяем точку s как половину длины самого короткого базисного вектора\n",
    "                            if min_dist > min_d:\n",
    "                                s1 = basis[index] * 0.5\n",
    "                                \n",
    "                                s1_positive = np.abs(s1) # делаем все координаты положительными \n",
    "                                \n",
    "                                # проверяем есть ли данная точка уже в списке проверенных точек\n",
    "                                if not any(np.array_equal(s1_positive, arr) for arr in list_s1):\n",
    "                                    dist_s1, coords_proj_s, index_pol = dist_to_s(polyhedrons, s1_positive)\n",
    "\n",
    "                                    if dist_s1 > 1:\n",
    "                                        print(dist_s1, s1_positive, mat)\n",
    "                                        list_dist.append(dist_s1)\n",
    "                                        list_mat.append(mat)\n",
    "                                        list_lll.append(basis)\n",
    "                                        list_s1.append(s1_positive)\n",
    "                                        \n",
    "end = time.time()\n",
    "start - end"
   ]
  },
  {
   "cell_type": "code",
   "execution_count": null,
   "id": "7bca91e8",
   "metadata": {},
   "outputs": [],
   "source": []
  }
 ],
 "metadata": {
  "celltoolbar": "Tags",
  "kernelspec": {
   "display_name": "base",
   "language": "python",
   "name": "python3"
  },
  "language_info": {
   "codemirror_mode": {
    "name": "ipython",
    "version": 3
   },
   "file_extension": ".py",
   "mimetype": "text/x-python",
   "name": "python",
   "nbconvert_exporter": "python",
   "pygments_lexer": "ipython3",
   "version": "3.11.5"
  }
 },
 "nbformat": 4,
 "nbformat_minor": 5
}
