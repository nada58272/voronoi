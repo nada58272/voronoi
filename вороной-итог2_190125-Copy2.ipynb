{
 "cells": [
  {
   "cell_type": "markdown",
   "id": "34a20266",
   "metadata": {},
   "source": [
    "Алгоритм:\n",
    "\n",
    "- строим решетку (grid) и соответствующее ей разбиение Вороного (vor4)\n",
    "- Ищем все многогранники центрального региона и его диаметр\n",
    "- составляем список граней центрального многогранника (list_faces)\n",
    "- перебираю различные подрешетки для каждой ищу приведенный базис, нахожу длину минимального вектора и минимальное расстояние между векторами и их комбинациями:\n",
    "- Ищем точку s (середина расстояния между точкой (0, 0, 0, 0) и центром ближайшего многогранника\n",
    "- Нахожу расстояние от точки s до центрального многоранника\n",
    "- Умножаю это расстояние на 2 и получаю расстояние между многранниками (центральным и ближайшим к нему многогранником из подрешетки)\n",
    "- составляем словари, ключами которых являются координаты точек s, а значениями - минимальное хроматическое число (dict_det), максимальное запрещенное расстоянием (dict_dist), список матриц (dict_s), соответствующих данной точке s, хроматическому числу и запрещенному расстоянию\n",
    "- составляем датафрейм (df), обьединяя все эти словари\n",
    "- составляем список матриц для каждого подходящего хроматического числа (если запрещенное расстояние больше 1)"
   ]
  },
  {
   "cell_type": "code",
   "execution_count": 1,
   "id": "e6b6500f",
   "metadata": {
    "scrolled": true
   },
   "outputs": [
    {
     "name": "stdout",
     "output_type": "stream",
     "text": [
      "Intel MKL WARNING: Support of Intel(R) Streaming SIMD Extensions 4.2 (Intel(R) SSE4.2) enabled only processors has been deprecated. Intel oneAPI Math Kernel Library 2025.0 will require Intel(R) Advanced Vector Extensions (Intel(R) AVX) instructions.\n",
      "Intel MKL WARNING: Support of Intel(R) Streaming SIMD Extensions 4.2 (Intel(R) SSE4.2) enabled only processors has been deprecated. Intel oneAPI Math Kernel Library 2025.0 will require Intel(R) Advanced Vector Extensions (Intel(R) AVX) instructions.\n"
     ]
    }
   ],
   "source": [
    "import numpy as np\n",
    "from scipy.spatial import Voronoi\n",
    "from scipy.spatial import distance\n",
    "from sympy import symbols, Eq, solve\n",
    "import math\n",
    "import itertools\n",
    "import copy\n",
    "from scipy.spatial import Delaunay\n",
    "import pandas as pd\n",
    "import sys\n",
    "from numpy import linalg as la\n",
    "from itertools import *\n",
    "from copy import deepcopy\n",
    "from collections import defaultdict"
   ]
  },
  {
   "cell_type": "code",
   "execution_count": 2,
   "id": "563c1607",
   "metadata": {
    "scrolled": true
   },
   "outputs": [],
   "source": [
    "grid = np.array([\n",
    "    [2, 0, 0, 0],\n",
    "    [1, 1, 0, 0],\n",
    "    [1, 0, 1, 0],\n",
    "    [1, 0, 0, 1]\n",
    "], dtype = float)"
   ]
  },
  {
   "cell_type": "code",
   "execution_count": 3,
   "id": "d27e05ab",
   "metadata": {
    "scrolled": true
   },
   "outputs": [],
   "source": [
    "points_count = 8\n",
    "\n",
    "coords4 = []\n",
    "digits = range(- (points_count // 4), points_count - (points_count // 4))\n",
    "\n",
    "for var in itertools.product(digits, repeat=4):\n",
    "    coords4.append((grid.T).dot(var).tolist())\n",
    "    \n",
    "#coords4 # координаты центров"
   ]
  },
  {
   "cell_type": "code",
   "execution_count": 4,
   "id": "5e4afa80",
   "metadata": {
    "scrolled": true
   },
   "outputs": [],
   "source": [
    "# строим диаграмму Вороного\n",
    "\n",
    "vor4 = Voronoi(coords4)"
   ]
  },
  {
   "cell_type": "code",
   "execution_count": null,
   "id": "42e7553f",
   "metadata": {},
   "outputs": [],
   "source": [
    "# вершины диаграммы Вороного\n",
    "\n",
    "vor4.vertices"
   ]
  },
  {
   "cell_type": "code",
   "execution_count": null,
   "id": "69821a29",
   "metadata": {},
   "outputs": [],
   "source": [
    "# регионы\n",
    "\n",
    "vor4.regions"
   ]
  },
  {
   "cell_type": "code",
   "execution_count": 5,
   "id": "6ebd9bbb",
   "metadata": {
    "scrolled": true
   },
   "outputs": [
    {
     "name": "stdout",
     "output_type": "stream",
     "text": [
      "1297\n"
     ]
    }
   ],
   "source": [
    "# список конечных областей Вороного (-1 в координатах означает, что область бесконечна)\n",
    "\n",
    "count = 0\n",
    "vor4.regions_finite = []\n",
    "for i in vor4.regions:\n",
    "    if -1 not in i:\n",
    "        vor4.regions_finite.append(i)\n",
    "        count += 1\n",
    "        \n",
    "print(count)"
   ]
  },
  {
   "cell_type": "code",
   "execution_count": 6,
   "id": "69f64feb",
   "metadata": {
    "scrolled": true
   },
   "outputs": [
    {
     "name": "stdout",
     "output_type": "stream",
     "text": [
      "количество вершин = 24 количество = 1297\n"
     ]
    }
   ],
   "source": [
    "# максимальный размер региона (по числу вершин)\n",
    "\n",
    "len_r_max = 0 # размер максимального региона\n",
    "count_r = 0 # количество таких регионов\n",
    "\n",
    "for i in range(len(vor4.regions)):\n",
    "    len_r = len(vor4.regions[i])\n",
    "    \n",
    "    if len_r >= len_r_max:\n",
    "        len_r_max = len_r\n",
    "        count_r += 1 # считаем количество таких регионов\n",
    "        \n",
    "print('количество вершин =', len_r_max, 'количество =', count_r)"
   ]
  },
  {
   "cell_type": "code",
   "execution_count": 7,
   "id": "4993e035",
   "metadata": {
    "scrolled": true
   },
   "outputs": [
    {
     "name": "stdout",
     "output_type": "stream",
     "text": [
      "суммарное расстояние = 24.0 индекс центрального региона = 1320\n"
     ]
    }
   ],
   "source": [
    "# находим суммарные расстояния от вершин многогранников до (0, 0, 0, 0) (sum_dist), затем находим минимальное \n",
    "# значение. Таким образом находим ближайший центральный многогранник\n",
    "\n",
    "sum_dist_min = 1000\n",
    "\n",
    "for i in range(1, len(vor4.regions)):\n",
    "    len_r = len(vor4.regions[i])\n",
    "\n",
    "    if -1 not in vor4.regions[i]: # регион должен быть конечным\n",
    "        l = 0\n",
    "        \n",
    "        # для i региона перебираем все его вершины и для каждой ищем расстояние до [0.0, 0.0, 0.0, 0.0]\n",
    "        for j in range(len_r):\n",
    "            l += distance.euclidean(vor4.vertices[vor4.regions[i][j]], [0.0, 0.0, 0.0, 0.0])\n",
    "\n",
    "        if l < sum_dist_min:\n",
    "            sum_dist_min = l\n",
    "            v_min = i\n",
    "\n",
    "        \n",
    "print ('суммарное расстояние =', sum_dist_min, 'индекс центрального региона =', v_min)"
   ]
  },
  {
   "cell_type": "code",
   "execution_count": 8,
   "id": "18bcb203",
   "metadata": {
    "scrolled": true
   },
   "outputs": [],
   "source": [
    "# центральный регион\n",
    "\n",
    "central = vor4.vertices[vor4.regions[v_min]]\n",
    "#central"
   ]
  },
  {
   "cell_type": "code",
   "execution_count": 9,
   "id": "26b71478",
   "metadata": {
    "scrolled": true
   },
   "outputs": [
    {
     "data": {
      "text/plain": [
       "(1.0, 96)"
      ]
     },
     "execution_count": 9,
     "metadata": {},
     "output_type": "execute_result"
    }
   ],
   "source": [
    "# нахожу длину ребра центрального политопа\n",
    "d_edge_min = 100\n",
    "count = 0\n",
    "for i in range(0, len(central)-1):\n",
    "    for j in range(i + 1, len(central)):\n",
    "        d_edge = distance.euclidean(central[i], central[j])\n",
    "        if d_edge_min >= d_edge:\n",
    "            d_edge_min = d_edge\n",
    "            count += 1\n",
    "            \n",
    "d_edge_min, count\n",
    "                           "
   ]
  },
  {
   "cell_type": "code",
   "execution_count": null,
   "id": "e5c33c5f",
   "metadata": {},
   "outputs": [],
   "source": [
    "# индексы вершин центрального региона\n",
    "\n",
    "vor4.regions[v_min]"
   ]
  },
  {
   "cell_type": "code",
   "execution_count": null,
   "id": "8ca30a66",
   "metadata": {},
   "outputs": [],
   "source": [
    "# список многоугольников\n",
    "\n",
    "vor4.ridge_vertices"
   ]
  },
  {
   "cell_type": "code",
   "execution_count": 10,
   "id": "802b0e60",
   "metadata": {
    "scrolled": true
   },
   "outputs": [
    {
     "data": {
      "text/plain": [
       "[499, 500, 501, 508, 512, 514]"
      ]
     },
     "execution_count": 10,
     "metadata": {},
     "output_type": "execute_result"
    }
   ],
   "source": [
    "\n",
    "vor4.ridge_vertices[1]"
   ]
  },
  {
   "cell_type": "code",
   "execution_count": 11,
   "id": "59c28505",
   "metadata": {
    "scrolled": false
   },
   "outputs": [
    {
     "data": {
      "text/plain": [
       "array([[-0.5, -0.5, -0.5, -0.5],\n",
       "       [-0.5,  0.5, -0.5, -0.5],\n",
       "       [-1. ,  0. ,  0. ,  0. ],\n",
       "       [-0.5, -0.5,  0.5, -0.5],\n",
       "       [-0.5,  0.5,  0.5, -0.5],\n",
       "       [ 0. ,  0. ,  0. , -1. ]])"
      ]
     },
     "execution_count": 11,
     "metadata": {},
     "output_type": "execute_result"
    }
   ],
   "source": [
    "# трехмерные ячейки \n",
    "edge_central = []\n",
    "for i in range(len(vor4.ridge_vertices)):\n",
    "    count = 0\n",
    "\n",
    "    for j in range(len(vor4.ridge_vertices[i])):\n",
    "        if vor4.ridge_vertices[i][j] in vor4.regions[v_min]:\n",
    "            count += 1 \n",
    "\n",
    "    if count == len(vor4.ridge_vertices[i]):\n",
    "        edge_central.append(vor4.ridge_vertices[i])\n",
    "        \n",
    "# перевожу индексы вершин в координаты\n",
    "edge_central_coords = []\n",
    "for i in range(len(edge_central)):\n",
    "    r = []\n",
    "    for j in range(len(edge_central[i])):\n",
    "        r.append(vor4.vertices[edge_central[i][j]])\n",
    "    edge_central_coords.append(np.array(r))\n",
    "    \n",
    "edge_central_coords[0]"
   ]
  },
  {
   "cell_type": "code",
   "execution_count": 12,
   "id": "8e7fdba5",
   "metadata": {
    "scrolled": true
   },
   "outputs": [
    {
     "data": {
      "text/plain": [
       "24"
      ]
     },
     "execution_count": 12,
     "metadata": {},
     "output_type": "execute_result"
    }
   ],
   "source": [
    "#количество трехмерных ячеек\n",
    "len(edge_central_coords)"
   ]
  },
  {
   "cell_type": "code",
   "execution_count": 13,
   "id": "e88e941b",
   "metadata": {
    "scrolled": true
   },
   "outputs": [
    {
     "name": "stdout",
     "output_type": "stream",
     "text": [
      "количество граней в одном зх мерном многограннике = 8\n"
     ]
    }
   ],
   "source": [
    "# составляем список граней многогранника\n",
    "\n",
    "list_faces = []\n",
    "\n",
    "# берем каждый 3х мерный многогранник\n",
    "for m in edge_central_coords:\n",
    "    \n",
    "    # составляем список ребер (расстояние между вершинами, соединенными ребрами = 1)\n",
    "    list_edges = []\n",
    "    for i in range(len(m)-1):\n",
    "        for j in range(i+1, len(m)):\n",
    "            k = []\n",
    "            d = distance.euclidean(m[i], m[j])\n",
    "            if d == 1:\n",
    "                k.append(i)\n",
    "                k.append(j)\n",
    "                list_edges.append(k)\n",
    "    # перебираем все комбинации ребер и ищем грани (если количество задействованных вершин в комбинации из 3х\n",
    "    #  ребер = 3, то это грань)                       \n",
    "    digits = list_edges\n",
    "    list_faces_one = []  \n",
    "    for var in itertools.combinations(digits, r=3):\n",
    "        set_vet = set(var[0] + var[1] + var[2])\n",
    "        set_vet_coord = []\n",
    "        if len(set_vet) == 3:\n",
    "            for i in range(len(set_vet)):\n",
    "                set_vet_coord.append(m[list(set_vet)[i]])\n",
    "            list_faces_one.append(set_vet_coord)\n",
    "               \n",
    "    list_faces.append(list_faces_one)\n",
    "    \n",
    "print('количество граней в одном зх мерном многограннике =', len(list_faces[1]))"
   ]
  },
  {
   "cell_type": "code",
   "execution_count": 14,
   "id": "82025c2b",
   "metadata": {
    "scrolled": true
   },
   "outputs": [
    {
     "data": {
      "text/plain": [
       "array([ 0.5, -0.5, -0.5, -0.5])"
      ]
     },
     "execution_count": 14,
     "metadata": {},
     "output_type": "execute_result"
    }
   ],
   "source": [
    "central[0]"
   ]
  },
  {
   "cell_type": "code",
   "execution_count": 15,
   "id": "8f42c85d",
   "metadata": {
    "scrolled": true
   },
   "outputs": [
    {
     "name": "stdout",
     "output_type": "stream",
     "text": [
      "диаметр = 2.0 индексы вершин: 0 , 8\n"
     ]
    }
   ],
   "source": [
    "# диаметр многогранника (ищем максимальное расстояние между вершинами)\n",
    "\n",
    "max_len = 0\n",
    "\n",
    "for i in range(len(central) - 1):\n",
    "    for j in range(i+1, len(central)):\n",
    "        len_v = distance.euclidean(central[i], central[j])\n",
    "        if len_v > max_len:\n",
    "            max_len = len_v\n",
    "            u1 = i\n",
    "            u2 = j\n",
    "               \n",
    "print('диаметр =', max_len, 'индексы вершин:', u1, ',',  u2) \n",
    "# u1, u2 - индексы вершин, расстояние между которыми максимально"
   ]
  },
  {
   "cell_type": "code",
   "execution_count": 26,
   "id": "4406e10d",
   "metadata": {
    "scrolled": true
   },
   "outputs": [],
   "source": [
    "# координаты проекции\n",
    "\n",
    "# coord1, coord2, coord3 - координаты 3 точек, d - точка, проекцию которой надо найти\n",
    "\n",
    "def coords_proj(coord1, coord2, coord3, d):\n",
    "    \n",
    "    M = []        \n",
    "    M.append(coord1)\n",
    "    \n",
    "    l1 = []\n",
    "    l2 = []\n",
    "    coords_proj\n",
    "    for i in range(4):\n",
    "        l1.append(coord2[i] - coord1[i])\n",
    "        l2.append(coord3[i] - coord1[i])\n",
    "        \n",
    "    M.append(l1)\n",
    "    M.append(l2)\n",
    "    H1 = (np.array(M[1])).dot((np.array(M).T))\n",
    "    K1 = np.array(l1).dot(d)\n",
    "    H2 = (np.array(M[2])).dot((np.array(M).T))\n",
    "    K2 = np.array(l2).dot(d)\n",
    "\n",
    "    # Определение переменных\n",
    "    x1, x2 = symbols('x1 x2')\n",
    "\n",
    "    # Определение системы уравнений\n",
    "    equations = [\n",
    "        Eq(H1[0] + H1[1]*x1 + H1[2]*x2, K1),\n",
    "        Eq(H2[0] + H2[1]*x1 + H2[2]*x2, K2)\n",
    "    ]\n",
    "\n",
    "    # Решение системы\n",
    "    symbolic_solution = solve(equations, (x1, x2))\n",
    "\n",
    "    # Вывод решения\n",
    "    symbolic_solution\n",
    "    \n",
    "    coords = [1]\n",
    "    coords.append(symbolic_solution[x1])\n",
    "    coords.append(symbolic_solution[x2])\n",
    "    \n",
    "    \n",
    "    return np.array(M).T.dot(coords)"
   ]
  },
  {
   "cell_type": "code",
   "execution_count": 27,
   "id": "10d874fd",
   "metadata": {
    "scrolled": true
   },
   "outputs": [],
   "source": [
    "# расстояние от точки до отрезка\n",
    "\n",
    "import math\n",
    "\n",
    "def distance_point_to_edge(p, a, b):\n",
    "    \n",
    "    # скалярное умножение 2х векторов\n",
    "    def dot_product(v, w):\n",
    "        sum_coord = 0\n",
    "        for i in range(len(v)):\n",
    "            sum_coord += v[i]*w[i]\n",
    "        return sum_coord\n",
    "    \n",
    "    # разность 2х векторов\n",
    "    def vector(v, w):\n",
    "        list_dif = []\n",
    "        for i in range(len(v)):\n",
    "            k = w[i] - v[i]\n",
    "            list_dif.append(k)\n",
    "        return list_dif\n",
    "    \n",
    "    # длина вектора\n",
    "    def magnitude(v):\n",
    "        sum_sqr = 0\n",
    "        for i in range(len(v)):\n",
    "            sum_sqr += v[i]*v[i]\n",
    "        return math.sqrt(sum_sqr)\n",
    "    \n",
    "    # умножение вектора на константу\n",
    "    def scale(v, const):\n",
    "        list_const = []\n",
    "        for i in range(len(v)):\n",
    "            list_const.append(v[i]*const)\n",
    "        return list_const\n",
    "\n",
    "    # сумма 2х векторов\n",
    "    def add(v, w):\n",
    "        sum_add = []\n",
    "        for i in range(len(v)):\n",
    "            sum_add.append(v[i]+w[i])\n",
    "        return sum_add\n",
    "\n",
    "    ab = vector(a, b)\n",
    "    ap = vector(a, p)\n",
    "\n",
    "    ab_magnitude = magnitude(ab)\n",
    "    ap_dot_ab = dot_product(ap, ab)\n",
    "\n",
    "    if ap_dot_ab <= 0:\n",
    "        \n",
    "        # Проекция точки на отрезок находится вне отрезка и ближе к точке a\n",
    "        return magnitude(ap)\n",
    "    \n",
    "    if ap_dot_ab >= ab_magnitude*ab_magnitude:\n",
    "        \n",
    "        # Проекция точки на отрезок находится вне отрезка и ближе к точке b\n",
    "        dist_b = 0\n",
    "        for i in range(len(b)):\n",
    "            dist_b += ((p[i] - b[i])**2)\n",
    "        return math.sqrt(dist_b)\n",
    "\n",
    "    # Проекция точки на отрезок находится внутри отрезка\n",
    "    projection = add(a, scale(ab, ap_dot_ab/ab_magnitude**2))\n",
    "    return magnitude(vector(p, projection))"
   ]
  },
  {
   "cell_type": "code",
   "execution_count": 28,
   "id": "e5a6617b",
   "metadata": {
    "scrolled": true
   },
   "outputs": [],
   "source": [
    "# строим триангуляцию Делоне, используя ее, будем определять находится ли проекция внутри многогранника\n",
    "\n",
    "delaunay = Delaunay(central)"
   ]
  },
  {
   "cell_type": "code",
   "execution_count": 29,
   "id": "813555b7",
   "metadata": {
    "scrolled": true
   },
   "outputs": [
    {
     "data": {
      "text/plain": [
       "2.0"
      ]
     },
     "execution_count": 29,
     "metadata": {},
     "output_type": "execute_result"
    }
   ],
   "source": [
    "max_len"
   ]
  },
  {
   "cell_type": "code",
   "execution_count": 30,
   "id": "1f40454f",
   "metadata": {
    "scrolled": true
   },
   "outputs": [
    {
     "data": {
      "text/plain": [
       "3.414213562373095"
      ]
     },
     "execution_count": 30,
     "metadata": {},
     "output_type": "execute_result"
    }
   ],
   "source": [
    "min_d = 2 + np.sqrt(2)\n",
    "min_d\n"
   ]
  },
  {
   "cell_type": "code",
   "execution_count": 31,
   "id": "b698f5c7",
   "metadata": {
    "scrolled": true
   },
   "outputs": [],
   "source": [
    "min_d = 2.4"
   ]
  },
  {
   "cell_type": "code",
   "execution_count": 32,
   "id": "5d1bce4d",
   "metadata": {
    "scrolled": true
   },
   "outputs": [],
   "source": [
    "# ищет для подрешетки точку s\n",
    "def s_point(sub_grid):\n",
    "\n",
    "    coords4_1 = []\n",
    "    digits = range(- 2, 2)\n",
    "    coef = []\n",
    "    \n",
    "    # все возможные сочтания из чисел в диапазоне от -2 до 2\n",
    "    for var in itertools.product(digits, repeat=4):\n",
    "        coords4_1.append(np.dot(sub_grid.T, var).tolist())\n",
    "        coef.append(var)\n",
    "    \n",
    "    min_dist = 100\n",
    "    coords4_1.remove([0, 0, 0, 0]) #удаляю, чтобы не сравнивать с нулем\n",
    "    \n",
    "    # считаю все возмоожные расстояния между точками подрешетки и беру минимальное\n",
    "    for i in range(len(coords4_1) - 1):\n",
    "        for j in range(i + 1, len(coords4_1)):\n",
    "            d_xy = distance.euclidean(coords4_1[i], coords4_1[j])\n",
    "            \n",
    "            if d_xy  >= min_d:\n",
    "                continue\n",
    "                #if d_xy < min_dist:\n",
    "                    #min_dist = d_xy\n",
    "                    #print(min_dist, coords4_1[i], coords4_1[j], c[i], c[j])\n",
    "            else:\n",
    "         \n",
    "                return np.array([0, 0, 0, 0])\n",
    "   # if ((min_dist - max_len) / max_len) > 1:\n",
    "\n",
    "        \n",
    "    # ищем координаты, которые есть в решетке и подрешетке   \n",
    "    common_coord = []\n",
    "    min_dist_i = 20\n",
    "    for i in coords4:\n",
    "        if i in coords4_1:\n",
    "            common_coord.append(i)\n",
    "\n",
    "    # расчитывам расстояние от [0.0, 0.0, 0.0, 0.0] до остальных точек и ищем минимальное расстояние\n",
    "    min_dist = float('inf')\n",
    "    for i in range(len(common_coord)):\n",
    "        dist_centr = distance.euclidean(common_coord[i], [0.0, 0.0, 0.0, 0.0])\n",
    "\n",
    "        if dist_centr < min_dist:\n",
    "\n",
    "            min_dist = dist_centr \n",
    "            min_dist_i = i #расстояние от [0.0, 0.0, 0.0, 0.0] до ближайшего другого центра\n",
    "\n",
    "    # находим точку s (середину между центрами многограников)\n",
    "    if min_dist_i != 20:\n",
    "        s = np.array(common_coord[min_dist_i], float) * 0.5\n",
    "        #print(common_coord[min_dist_i])\n",
    "        #for k in range(len(coords4_1)):\n",
    "           # if coords4_1[k] == common_coord[min_dist_i]:\n",
    "                #print(coef[k])\n",
    "        \n",
    "\n",
    "        return s\n",
    "        #else:\n",
    "    return np.array([0, 0, 0, 0])\n",
    "\n",
    "\n"
   ]
  },
  {
   "cell_type": "code",
   "execution_count": 33,
   "id": "45230e19",
   "metadata": {
    "scrolled": true
   },
   "outputs": [],
   "source": [
    "# ищет для подрешетки запрещенное расстояние\n",
    "\n",
    "def dist(s):\n",
    "    min_dist_s = float('inf') #минимальное расстояние до точки s \n",
    "    \n",
    "    \n",
    "    # перебирем все грани\n",
    "    for i in range(len(list_faces)):\n",
    "\n",
    "        for j in range(len(list_faces[i])):\n",
    "\n",
    "            # находим координаты проекции на грань и расстояние от точки до проекции\n",
    "            f_coords = coords_proj(list_faces[i][j][0], list_faces[i][j][1], list_faces[i][j][2], s)\n",
    "            f = distance.euclidean(s, np.array(f_coords, dtype = 'float'))\n",
    "            \n",
    "\n",
    "            # если расстояние меньше, то проверяем находится ли точка проекции в триангуляции\n",
    "            # если да, то приравниваем минимальное расстояние к расстоянию между точкой и ее проекцией\n",
    "            if f < min_dist_s:            \n",
    "                simplex = delaunay.find_simplex(f_coords)\n",
    "                \n",
    "                if simplex != -1:                    \n",
    "                    min_dist_s = f\n",
    "  \n",
    "              \n",
    "                \n",
    "    # ищем расстояние до каждого ребра через функцию distance_point_to_edge \n",
    "    #for i in range(len(edge_central_coords)):\n",
    "       # digits = edge_central_coords[i]\n",
    "        #for var in itertools.combinations(digits, r=2):\n",
    "           # dist_point = distance_point_to_edge(s, var[0], var[1])\n",
    "\n",
    "            # если полученное расстояние меньше минимального, то меняем значение минимального расстояния\n",
    "           # if dist_point < min_dist_s:\n",
    "             #   min_dist_s = dist_point\n",
    "\n",
    "                \n",
    "    return (min_dist_s * 2)/ max_len\n"
   ]
  },
  {
   "cell_type": "code",
   "execution_count": 34,
   "id": "f60c4c2a",
   "metadata": {
    "scrolled": true
   },
   "outputs": [
    {
     "data": {
      "text/plain": [
       "0.816496580927726"
      ]
     },
     "execution_count": 34,
     "metadata": {},
     "output_type": "execute_result"
    }
   ],
   "source": [
    "dist(np.array((0, 1, 0, 1)))"
   ]
  },
  {
   "cell_type": "code",
   "execution_count": 35,
   "id": "f6dce503",
   "metadata": {
    "scrolled": true
   },
   "outputs": [
    {
     "data": {
      "text/plain": [
       "24"
      ]
     },
     "execution_count": 35,
     "metadata": {},
     "output_type": "execute_result"
    }
   ],
   "source": [
    "len(list_faces)"
   ]
  },
  {
   "cell_type": "code",
   "execution_count": 36,
   "id": "26ce929a",
   "metadata": {
    "scrolled": false
   },
   "outputs": [
    {
     "data": {
      "text/plain": [
       "[[array([-0.5, -0.5, -0.5, -0.5]),\n",
       "  array([-0.5,  0.5, -0.5, -0.5]),\n",
       "  array([-1.,  0.,  0.,  0.])],\n",
       " [array([-0.5, -0.5, -0.5, -0.5]),\n",
       "  array([-0.5,  0.5, -0.5, -0.5]),\n",
       "  array([ 0.,  0.,  0., -1.])],\n",
       " [array([-0.5, -0.5, -0.5, -0.5]),\n",
       "  array([-1.,  0.,  0.,  0.]),\n",
       "  array([-0.5, -0.5,  0.5, -0.5])],\n",
       " [array([-0.5, -0.5, -0.5, -0.5]),\n",
       "  array([-0.5, -0.5,  0.5, -0.5]),\n",
       "  array([ 0.,  0.,  0., -1.])],\n",
       " [array([-0.5,  0.5, -0.5, -0.5]),\n",
       "  array([-1.,  0.,  0.,  0.]),\n",
       "  array([-0.5,  0.5,  0.5, -0.5])],\n",
       " [array([-0.5,  0.5, -0.5, -0.5]),\n",
       "  array([-0.5,  0.5,  0.5, -0.5]),\n",
       "  array([ 0.,  0.,  0., -1.])],\n",
       " [array([-1.,  0.,  0.,  0.]),\n",
       "  array([-0.5, -0.5,  0.5, -0.5]),\n",
       "  array([-0.5,  0.5,  0.5, -0.5])],\n",
       " [array([-0.5, -0.5,  0.5, -0.5]),\n",
       "  array([-0.5,  0.5,  0.5, -0.5]),\n",
       "  array([ 0.,  0.,  0., -1.])]]"
      ]
     },
     "execution_count": 36,
     "metadata": {},
     "output_type": "execute_result"
    }
   ],
   "source": [
    "list_faces[0]"
   ]
  },
  {
   "cell_type": "code",
   "execution_count": 37,
   "id": "5dc1de18",
   "metadata": {
    "scrolled": true
   },
   "outputs": [],
   "source": [
    "def gram_schmidt(v):\n",
    "\n",
    "    w_1 = copy.deepcopy(v[0])\n",
    "    w_n = copy.deepcopy(w_1)\n",
    "    w_array = [deepcopy(w_n)]\n",
    "    \n",
    "    for n in range(1, len(v)):\n",
    "        v_n = copy.deepcopy(v[n])\n",
    "        w_n = copy.deepcopy(v_n)\n",
    "\n",
    "        for j in range(n):\n",
    "            w_j = deepcopy(w_array[j])\n",
    "            if not any(w_j):\n",
    "                continue\n",
    "            w_n -= np.dot(v_n, w_j) / np.dot(w_j, w_j) * w_j\n",
    "        \n",
    "        w_array += [w_n]\n",
    "          \n",
    "    return w_array"
   ]
  },
  {
   "cell_type": "code",
   "execution_count": 38,
   "id": "a96cbe54",
   "metadata": {
    "scrolled": true
   },
   "outputs": [],
   "source": [
    "d = 0.75\n",
    "\n",
    "def mu(b_i, b_j):\n",
    "    return np.dot(b_i, b_j) / np.dot(b_j, b_j) if np.dot(b_j, b_j) != 0 else 0\n",
    "\n",
    "\n",
    "def LLL(l_basis):\n",
    "\n",
    "    ortho = gram_schmidt(l_basis)\n",
    "\n",
    "    k = 1\n",
    "    n = len(ortho)\n",
    "\n",
    "    while k < n:\n",
    "        for j in range(k - 1, -1, -1):\n",
    "            proj = mu(l_basis[k], ortho[j])\n",
    "            if abs(proj) > 1/2:\n",
    "                l_basis[k] -= l_basis[j] * round(proj)\n",
    "                ortho = copy.deepcopy(gram_schmidt(l_basis))\n",
    "            #print(l_basis, 111)\n",
    "\n",
    "        if np.dot(ortho[k], ortho[k]) >= (d - (mu(l_basis[k], ortho[k-1]))**2) * (np.dot(ortho[k-1], ortho[k-1])):\n",
    "            #print(l_basis, 222)\n",
    "            k += 1\n",
    "\n",
    "        else:\n",
    "            s = copy.deepcopy(l_basis[k-1])\n",
    "            l_basis[k-1] = copy.deepcopy(l_basis[k])\n",
    "            l_basis[k] = copy.deepcopy(s)\n",
    "            ortho = gram_schmidt(l_basis)\n",
    "            k = max(k-1, 1)\n",
    "            #print(l_basis, 333)\n",
    "\n",
    "    return l_basis"
   ]
  },
  {
   "cell_type": "code",
   "execution_count": 39,
   "id": "4d495267",
   "metadata": {},
   "outputs": [
    {
     "name": "stdout",
     "output_type": "stream",
     "text": [
      "0\n",
      "[[1. 1. 1. 0.]\n",
      " [0. 3. 0. 0.]\n",
      " [0. 0. 3. 0.]\n",
      " [0. 0. 0. 6.]] [-0.5  1.  -0.5  0. ]\n",
      "[-1.   0.5  0.5  0. ]\n",
      "[[1. 2. 1. 0.]\n",
      " [0. 3. 0. 0.]\n",
      " [0. 0. 3. 0.]\n",
      " [0. 0. 0. 6.]] [-1.   0.5 -0.5  0. ]\n",
      "[-0.5  1.   0.5  0. ]\n",
      "[[1. 1. 2. 0.]\n",
      " [0. 3. 0. 0.]\n",
      " [0. 0. 3. 0.]\n",
      " [0. 0. 0. 6.]] [0.5 1.  0.5 0. ]\n",
      "[-0.5  0.5  1.   0. ]\n",
      "[[1. 0. 0. 1.]\n",
      " [0. 3. 0. 0.]\n",
      " [0. 0. 3. 0.]\n",
      " [0. 0. 0. 6.]] [1.5 0.  0.  0.5]\n"
     ]
    },
    {
     "ename": "KeyboardInterrupt",
     "evalue": "",
     "output_type": "error",
     "traceback": [
      "\u001b[0;31m---------------------------------------------------------------------------\u001b[0m",
      "\u001b[0;31mKeyboardInterrupt\u001b[0m                         Traceback (most recent call last)",
      "Cell \u001b[0;32mIn[39], line 52\u001b[0m\n\u001b[1;32m     50\u001b[0m list_mat\u001b[38;5;241m.\u001b[39mappend(mat)\n\u001b[1;32m     51\u001b[0m list_lll\u001b[38;5;241m.\u001b[39mappend(basis)\n\u001b[0;32m---> 52\u001b[0m s1_2 \u001b[38;5;241m=\u001b[39m \u001b[43ms_point\u001b[49m\u001b[43m(\u001b[49m\u001b[43msub_grid\u001b[49m\u001b[43m)\u001b[49m\n\u001b[1;32m     53\u001b[0m \u001b[38;5;28mprint\u001b[39m(s1_2)\n\u001b[1;32m     54\u001b[0m list_s1\u001b[38;5;241m.\u001b[39mappend(s1)\n",
      "Cell \u001b[0;32mIn[32], line 19\u001b[0m, in \u001b[0;36ms_point\u001b[0;34m(sub_grid)\u001b[0m\n\u001b[1;32m     17\u001b[0m \u001b[38;5;28;01mfor\u001b[39;00m i \u001b[38;5;129;01min\u001b[39;00m \u001b[38;5;28mrange\u001b[39m(\u001b[38;5;28mlen\u001b[39m(coords4_1) \u001b[38;5;241m-\u001b[39m \u001b[38;5;241m1\u001b[39m):\n\u001b[1;32m     18\u001b[0m     \u001b[38;5;28;01mfor\u001b[39;00m j \u001b[38;5;129;01min\u001b[39;00m \u001b[38;5;28mrange\u001b[39m(i \u001b[38;5;241m+\u001b[39m \u001b[38;5;241m1\u001b[39m, \u001b[38;5;28mlen\u001b[39m(coords4_1)):\n\u001b[0;32m---> 19\u001b[0m         d_xy \u001b[38;5;241m=\u001b[39m \u001b[43mdistance\u001b[49m\u001b[38;5;241;43m.\u001b[39;49m\u001b[43meuclidean\u001b[49m\u001b[43m(\u001b[49m\u001b[43mcoords4_1\u001b[49m\u001b[43m[\u001b[49m\u001b[43mi\u001b[49m\u001b[43m]\u001b[49m\u001b[43m,\u001b[49m\u001b[43m \u001b[49m\u001b[43mcoords4_1\u001b[49m\u001b[43m[\u001b[49m\u001b[43mj\u001b[49m\u001b[43m]\u001b[49m\u001b[43m)\u001b[49m\n\u001b[1;32m     21\u001b[0m         \u001b[38;5;28;01mif\u001b[39;00m d_xy  \u001b[38;5;241m>\u001b[39m\u001b[38;5;241m=\u001b[39m min_d:\n\u001b[1;32m     22\u001b[0m             \u001b[38;5;28;01mcontinue\u001b[39;00m\n",
      "File \u001b[0;32m~/opt/anaconda3/lib/python3.9/site-packages/scipy/spatial/distance.py:536\u001b[0m, in \u001b[0;36meuclidean\u001b[0;34m(u, v, w)\u001b[0m\n\u001b[1;32m    500\u001b[0m \u001b[38;5;28;01mdef\u001b[39;00m \u001b[38;5;21meuclidean\u001b[39m(u, v, w\u001b[38;5;241m=\u001b[39m\u001b[38;5;28;01mNone\u001b[39;00m):\n\u001b[1;32m    501\u001b[0m \u001b[38;5;250m    \u001b[39m\u001b[38;5;124;03m\"\"\"\u001b[39;00m\n\u001b[1;32m    502\u001b[0m \u001b[38;5;124;03m    Computes the Euclidean distance between two 1-D arrays.\u001b[39;00m\n\u001b[1;32m    503\u001b[0m \n\u001b[0;32m   (...)\u001b[0m\n\u001b[1;32m    534\u001b[0m \n\u001b[1;32m    535\u001b[0m \u001b[38;5;124;03m    \"\"\"\u001b[39;00m\n\u001b[0;32m--> 536\u001b[0m     \u001b[38;5;28;01mreturn\u001b[39;00m \u001b[43mminkowski\u001b[49m\u001b[43m(\u001b[49m\u001b[43mu\u001b[49m\u001b[43m,\u001b[49m\u001b[43m \u001b[49m\u001b[43mv\u001b[49m\u001b[43m,\u001b[49m\u001b[43m \u001b[49m\u001b[43mp\u001b[49m\u001b[38;5;241;43m=\u001b[39;49m\u001b[38;5;241;43m2\u001b[39;49m\u001b[43m,\u001b[49m\u001b[43m \u001b[49m\u001b[43mw\u001b[49m\u001b[38;5;241;43m=\u001b[39;49m\u001b[43mw\u001b[49m\u001b[43m)\u001b[49m\n",
      "File \u001b[0;32m~/opt/anaconda3/lib/python3.9/site-packages/scipy/spatial/distance.py:496\u001b[0m, in \u001b[0;36mminkowski\u001b[0;34m(u, v, p, w)\u001b[0m\n\u001b[1;32m    494\u001b[0m         root_w \u001b[38;5;241m=\u001b[39m np\u001b[38;5;241m.\u001b[39mpower(w, \u001b[38;5;241m1\u001b[39m\u001b[38;5;241m/\u001b[39mp)\n\u001b[1;32m    495\u001b[0m     u_v \u001b[38;5;241m=\u001b[39m root_w \u001b[38;5;241m*\u001b[39m u_v\n\u001b[0;32m--> 496\u001b[0m dist \u001b[38;5;241m=\u001b[39m \u001b[43mnorm\u001b[49m\u001b[43m(\u001b[49m\u001b[43mu_v\u001b[49m\u001b[43m,\u001b[49m\u001b[43m \u001b[49m\u001b[38;5;28;43mord\u001b[39;49m\u001b[38;5;241;43m=\u001b[39;49m\u001b[43mp\u001b[49m\u001b[43m)\u001b[49m\n\u001b[1;32m    497\u001b[0m \u001b[38;5;28;01mreturn\u001b[39;00m dist\n",
      "File \u001b[0;32m~/opt/anaconda3/lib/python3.9/site-packages/scipy/linalg/_misc.py:146\u001b[0m, in \u001b[0;36mnorm\u001b[0;34m(a, ord, axis, keepdims, check_finite)\u001b[0m\n\u001b[1;32m    144\u001b[0m \u001b[38;5;66;03m# Differs from numpy only in non-finite handling and the use of blas.\u001b[39;00m\n\u001b[1;32m    145\u001b[0m \u001b[38;5;28;01mif\u001b[39;00m check_finite:\n\u001b[0;32m--> 146\u001b[0m     a \u001b[38;5;241m=\u001b[39m \u001b[43mnp\u001b[49m\u001b[38;5;241;43m.\u001b[39;49m\u001b[43masarray_chkfinite\u001b[49m\u001b[43m(\u001b[49m\u001b[43ma\u001b[49m\u001b[43m)\u001b[49m\n\u001b[1;32m    147\u001b[0m \u001b[38;5;28;01melse\u001b[39;00m:\n\u001b[1;32m    148\u001b[0m     a \u001b[38;5;241m=\u001b[39m np\u001b[38;5;241m.\u001b[39masarray(a)\n",
      "File \u001b[0;32m~/opt/anaconda3/lib/python3.9/site-packages/numpy/lib/function_base.py:627\u001b[0m, in \u001b[0;36masarray_chkfinite\u001b[0;34m(a, dtype, order)\u001b[0m\n\u001b[1;32m    564\u001b[0m \u001b[38;5;250m\u001b[39m\u001b[38;5;124;03m\"\"\"Convert the input to an array, checking for NaNs or Infs.\u001b[39;00m\n\u001b[1;32m    565\u001b[0m \n\u001b[1;32m    566\u001b[0m \u001b[38;5;124;03mParameters\u001b[39;00m\n\u001b[0;32m   (...)\u001b[0m\n\u001b[1;32m    624\u001b[0m \n\u001b[1;32m    625\u001b[0m \u001b[38;5;124;03m\"\"\"\u001b[39;00m\n\u001b[1;32m    626\u001b[0m a \u001b[38;5;241m=\u001b[39m asarray(a, dtype\u001b[38;5;241m=\u001b[39mdtype, order\u001b[38;5;241m=\u001b[39morder)\n\u001b[0;32m--> 627\u001b[0m \u001b[38;5;28;01mif\u001b[39;00m a\u001b[38;5;241m.\u001b[39mdtype\u001b[38;5;241m.\u001b[39mchar \u001b[38;5;129;01min\u001b[39;00m typecodes[\u001b[38;5;124m'\u001b[39m\u001b[38;5;124mAllFloat\u001b[39m\u001b[38;5;124m'\u001b[39m] \u001b[38;5;129;01mand\u001b[39;00m \u001b[38;5;129;01mnot\u001b[39;00m \u001b[43mnp\u001b[49m\u001b[38;5;241;43m.\u001b[39;49m\u001b[43misfinite\u001b[49m\u001b[43m(\u001b[49m\u001b[43ma\u001b[49m\u001b[43m)\u001b[49m\u001b[38;5;241;43m.\u001b[39;49m\u001b[43mall\u001b[49m\u001b[43m(\u001b[49m\u001b[43m)\u001b[49m:\n\u001b[1;32m    628\u001b[0m     \u001b[38;5;28;01mraise\u001b[39;00m \u001b[38;5;167;01mValueError\u001b[39;00m(\n\u001b[1;32m    629\u001b[0m         \u001b[38;5;124m\"\u001b[39m\u001b[38;5;124marray must not contain infs or NaNs\u001b[39m\u001b[38;5;124m\"\u001b[39m)\n\u001b[1;32m    630\u001b[0m \u001b[38;5;28;01mreturn\u001b[39;00m a\n",
      "File \u001b[0;32m~/opt/anaconda3/lib/python3.9/site-packages/numpy/core/_methods.py:64\u001b[0m, in \u001b[0;36m_all\u001b[0;34m(a, axis, dtype, out, keepdims, where)\u001b[0m\n\u001b[1;32m     61\u001b[0m \u001b[38;5;28;01mdef\u001b[39;00m \u001b[38;5;21m_all\u001b[39m(a, axis\u001b[38;5;241m=\u001b[39m\u001b[38;5;28;01mNone\u001b[39;00m, dtype\u001b[38;5;241m=\u001b[39m\u001b[38;5;28;01mNone\u001b[39;00m, out\u001b[38;5;241m=\u001b[39m\u001b[38;5;28;01mNone\u001b[39;00m, keepdims\u001b[38;5;241m=\u001b[39m\u001b[38;5;28;01mFalse\u001b[39;00m, \u001b[38;5;241m*\u001b[39m, where\u001b[38;5;241m=\u001b[39m\u001b[38;5;28;01mTrue\u001b[39;00m):\n\u001b[1;32m     62\u001b[0m     \u001b[38;5;66;03m# Parsing keyword arguments is currently fairly slow, so avoid it for now\u001b[39;00m\n\u001b[1;32m     63\u001b[0m     \u001b[38;5;28;01mif\u001b[39;00m where \u001b[38;5;129;01mis\u001b[39;00m \u001b[38;5;28;01mTrue\u001b[39;00m:\n\u001b[0;32m---> 64\u001b[0m         \u001b[38;5;28;01mreturn\u001b[39;00m \u001b[43mumr_all\u001b[49m\u001b[43m(\u001b[49m\u001b[43ma\u001b[49m\u001b[43m,\u001b[49m\u001b[43m \u001b[49m\u001b[43maxis\u001b[49m\u001b[43m,\u001b[49m\u001b[43m \u001b[49m\u001b[43mdtype\u001b[49m\u001b[43m,\u001b[49m\u001b[43m \u001b[49m\u001b[43mout\u001b[49m\u001b[43m,\u001b[49m\u001b[43m \u001b[49m\u001b[43mkeepdims\u001b[49m\u001b[43m)\u001b[49m\n\u001b[1;32m     65\u001b[0m     \u001b[38;5;28;01mreturn\u001b[39;00m umr_all(a, axis, dtype, out, keepdims, where\u001b[38;5;241m=\u001b[39mwhere)\n",
      "\u001b[0;31mKeyboardInterrupt\u001b[0m: "
     ]
    }
   ],
   "source": [
    "#list_mat_s = dict() # ключ - точка s, значение - списоок матриц\n",
    "\n",
    "dict_mat_s1_alg = {} # ключ - mat, значение - точка s1 по алгоритму s1\n",
    "dict_lll_s1 = {} # ключ - приведенный базис, значение - точка s1 как половина от кратчайшего вектора lll-базиса\n",
    "dict_lll_s1_alg = {} # ключ - приведенный базис, значение - точка s1 по алгоритму s1\n",
    "dict_mat_lll = {} #  ключ - mat, значение - lll\n",
    "#dict_dist = defaultdict(list)\n",
    "\n",
    "list_mat = []\n",
    "list_lll = []\n",
    "list_s1 = []\n",
    "list_s1_alg = []\n",
    "\n",
    "# задаю величину определителя\n",
    "det_mat = 54\n",
    "mat = np.array([[1, 0, 0, 0], [0, 3, 0, 0], [0, 0, 3, 0], [0, 0, 0, 6]], float)\n",
    "max_num_col3 = int(mat[3][3])\n",
    "max_num_col2 = int(mat[2][2])\n",
    "max_num_col1 = int(mat[1][1])\n",
    "\n",
    "\n",
    "for i1 in range(max_num_col3):\n",
    "    mat[2][3] = i1\n",
    "    print(i1)\n",
    "    for i2 in range(max_num_col3):\n",
    "        mat[1][3] = i2\n",
    "        for i3 in range(max_num_col2):\n",
    "            mat[1][2] = i3\n",
    "            for i4 in range(max_num_col3):\n",
    "                mat[0][3] = i4\n",
    "                for i5 in range(max_num_col2):\n",
    "                    mat[0][2] = i5\n",
    "                    for i6 in range(max_num_col1):\n",
    "                        mat[0][1] = i6\n",
    "                        sub_grid = np.dot(mat, grid)\n",
    "                        basis = LLL(sub_grid)\n",
    "   \n",
    "                        min_dist = 100\n",
    "                        index = 0\n",
    "                        for i in range(4):\n",
    "                            d_vec = np.linalg.norm(basis[i])\n",
    "                            if d_vec < min_dist:\n",
    "                                min_dist = d_vec\n",
    "                                index = i\n",
    "                        \n",
    "                        if min_dist > min_d:\n",
    "                            s1 = basis[index] * 0.5\n",
    "                            print(mat, s1)\n",
    "  \n",
    "                            list_mat.append(mat)\n",
    "                            list_lll.append(basis)\n",
    "                            s1_2 = s_point(sub_grid)\n",
    "                            print(s1_2)\n",
    "                            list_s1.append(s1)\n",
    "                            list_s1_alg.append(s1_2)\n"
   ]
  },
  {
   "cell_type": "code",
   "execution_count": 69,
   "id": "f6a0d495",
   "metadata": {
    "scrolled": true
   },
   "outputs": [
    {
     "name": "stdout",
     "output_type": "stream",
     "text": [
      "0\n",
      "[[ 2.  0.  0.  0.]\n",
      " [-1.  3.  0.  0.]\n",
      " [-1.  0.  3.  0.]\n",
      " [ 0.  0.  0.  6.]]\n",
      "[[ 0.  2.  0.  0.]\n",
      " [ 3.  1.  0.  0.]\n",
      " [ 0. -1.  3.  0.]\n",
      " [ 0.  0.  0.  6.]]\n",
      "[[-1.  1.  0.  0.]\n",
      " [ 3.  3.  0.  0.]\n",
      " [ 1.  2.  3.  0.]\n",
      " [ 0.  0.  0.  6.]]\n",
      "[[ 0.  0.  2.  0.]\n",
      " [ 3.  0.  1.  0.]\n",
      " [ 0.  3. -1.  0.]\n",
      " [ 0.  0.  0.  6.]]\n",
      "[[-1.  2. -1.  0.]\n",
      " [-1. -1.  2.  0.]\n",
      " [ 2.  2.  2.  0.]\n",
      " [ 0.  0.  0.  6.]]\n",
      "[[1. 1. 1. 0.]\n",
      " [0. 3. 0. 0.]\n",
      " [0. 0. 3. 0.]\n",
      " [0. 0. 0. 6.]] [-0.5  1.  -0.5  0. ]\n"
     ]
    },
    {
     "ename": "KeyboardInterrupt",
     "evalue": "",
     "output_type": "error",
     "traceback": [
      "\u001b[0;31m---------------------------------------------------------------------------\u001b[0m",
      "\u001b[0;31mKeyboardInterrupt\u001b[0m                         Traceback (most recent call last)",
      "Cell \u001b[0;32mIn[69], line 53\u001b[0m\n\u001b[1;32m     51\u001b[0m list_mat\u001b[38;5;241m.\u001b[39mappend(mat)\n\u001b[1;32m     52\u001b[0m list_lll\u001b[38;5;241m.\u001b[39mappend(basis)\n\u001b[0;32m---> 53\u001b[0m s1_2 \u001b[38;5;241m=\u001b[39m \u001b[43ms_point\u001b[49m\u001b[43m(\u001b[49m\u001b[43msub_grid\u001b[49m\u001b[43m)\u001b[49m\n\u001b[1;32m     54\u001b[0m \u001b[38;5;28mprint\u001b[39m(s1_2)\n\u001b[1;32m     55\u001b[0m list_s1\u001b[38;5;241m.\u001b[39mappend(s1)\n",
      "Cell \u001b[0;32mIn[57], line 19\u001b[0m, in \u001b[0;36ms_point\u001b[0;34m(sub_grid)\u001b[0m\n\u001b[1;32m     17\u001b[0m \u001b[38;5;28;01mfor\u001b[39;00m i \u001b[38;5;129;01min\u001b[39;00m \u001b[38;5;28mrange\u001b[39m(\u001b[38;5;28mlen\u001b[39m(coords4_1) \u001b[38;5;241m-\u001b[39m \u001b[38;5;241m1\u001b[39m):\n\u001b[1;32m     18\u001b[0m     \u001b[38;5;28;01mfor\u001b[39;00m j \u001b[38;5;129;01min\u001b[39;00m \u001b[38;5;28mrange\u001b[39m(i \u001b[38;5;241m+\u001b[39m \u001b[38;5;241m1\u001b[39m, \u001b[38;5;28mlen\u001b[39m(coords4_1)):\n\u001b[0;32m---> 19\u001b[0m         d_xy \u001b[38;5;241m=\u001b[39m \u001b[43mdistance\u001b[49m\u001b[38;5;241;43m.\u001b[39;49m\u001b[43meuclidean\u001b[49m\u001b[43m(\u001b[49m\u001b[43mcoords4_1\u001b[49m\u001b[43m[\u001b[49m\u001b[43mi\u001b[49m\u001b[43m]\u001b[49m\u001b[43m,\u001b[49m\u001b[43m \u001b[49m\u001b[43mcoords4_1\u001b[49m\u001b[43m[\u001b[49m\u001b[43mj\u001b[49m\u001b[43m]\u001b[49m\u001b[43m)\u001b[49m\n\u001b[1;32m     21\u001b[0m         \u001b[38;5;28;01mif\u001b[39;00m d_xy  \u001b[38;5;241m>\u001b[39m\u001b[38;5;241m=\u001b[39m min_d:\n\u001b[1;32m     22\u001b[0m             \u001b[38;5;28;01mcontinue\u001b[39;00m\n",
      "File \u001b[0;32m~/opt/anaconda3/lib/python3.9/site-packages/scipy/spatial/distance.py:536\u001b[0m, in \u001b[0;36meuclidean\u001b[0;34m(u, v, w)\u001b[0m\n\u001b[1;32m    500\u001b[0m \u001b[38;5;28;01mdef\u001b[39;00m \u001b[38;5;21meuclidean\u001b[39m(u, v, w\u001b[38;5;241m=\u001b[39m\u001b[38;5;28;01mNone\u001b[39;00m):\n\u001b[1;32m    501\u001b[0m \u001b[38;5;250m    \u001b[39m\u001b[38;5;124;03m\"\"\"\u001b[39;00m\n\u001b[1;32m    502\u001b[0m \u001b[38;5;124;03m    Computes the Euclidean distance between two 1-D arrays.\u001b[39;00m\n\u001b[1;32m    503\u001b[0m \n\u001b[0;32m   (...)\u001b[0m\n\u001b[1;32m    534\u001b[0m \n\u001b[1;32m    535\u001b[0m \u001b[38;5;124;03m    \"\"\"\u001b[39;00m\n\u001b[0;32m--> 536\u001b[0m     \u001b[38;5;28;01mreturn\u001b[39;00m \u001b[43mminkowski\u001b[49m\u001b[43m(\u001b[49m\u001b[43mu\u001b[49m\u001b[43m,\u001b[49m\u001b[43m \u001b[49m\u001b[43mv\u001b[49m\u001b[43m,\u001b[49m\u001b[43m \u001b[49m\u001b[43mp\u001b[49m\u001b[38;5;241;43m=\u001b[39;49m\u001b[38;5;241;43m2\u001b[39;49m\u001b[43m,\u001b[49m\u001b[43m \u001b[49m\u001b[43mw\u001b[49m\u001b[38;5;241;43m=\u001b[39;49m\u001b[43mw\u001b[49m\u001b[43m)\u001b[49m\n",
      "File \u001b[0;32m~/opt/anaconda3/lib/python3.9/site-packages/scipy/spatial/distance.py:480\u001b[0m, in \u001b[0;36mminkowski\u001b[0;34m(u, v, p, w)\u001b[0m\n\u001b[1;32m    430\u001b[0m \u001b[38;5;250m\u001b[39m\u001b[38;5;124;03m\"\"\"\u001b[39;00m\n\u001b[1;32m    431\u001b[0m \u001b[38;5;124;03mCompute the Minkowski distance between two 1-D arrays.\u001b[39;00m\n\u001b[1;32m    432\u001b[0m \n\u001b[0;32m   (...)\u001b[0m\n\u001b[1;32m    477\u001b[0m \n\u001b[1;32m    478\u001b[0m \u001b[38;5;124;03m\"\"\"\u001b[39;00m\n\u001b[1;32m    479\u001b[0m u \u001b[38;5;241m=\u001b[39m _validate_vector(u)\n\u001b[0;32m--> 480\u001b[0m v \u001b[38;5;241m=\u001b[39m \u001b[43m_validate_vector\u001b[49m\u001b[43m(\u001b[49m\u001b[43mv\u001b[49m\u001b[43m)\u001b[49m\n\u001b[1;32m    481\u001b[0m \u001b[38;5;28;01mif\u001b[39;00m p \u001b[38;5;241m<\u001b[39m\u001b[38;5;241m=\u001b[39m \u001b[38;5;241m0\u001b[39m:\n\u001b[1;32m    482\u001b[0m     \u001b[38;5;28;01mraise\u001b[39;00m \u001b[38;5;167;01mValueError\u001b[39;00m(\u001b[38;5;124m\"\u001b[39m\u001b[38;5;124mp must be greater than 0\u001b[39m\u001b[38;5;124m\"\u001b[39m)\n",
      "File \u001b[0;32m~/opt/anaconda3/lib/python3.9/site-packages/scipy/spatial/distance.py:315\u001b[0m, in \u001b[0;36m_validate_vector\u001b[0;34m(u, dtype)\u001b[0m\n\u001b[1;32m    313\u001b[0m \u001b[38;5;28;01mdef\u001b[39;00m \u001b[38;5;21m_validate_vector\u001b[39m(u, dtype\u001b[38;5;241m=\u001b[39m\u001b[38;5;28;01mNone\u001b[39;00m):\n\u001b[1;32m    314\u001b[0m     \u001b[38;5;66;03m# XXX Is order='c' really necessary?\u001b[39;00m\n\u001b[0;32m--> 315\u001b[0m     u \u001b[38;5;241m=\u001b[39m \u001b[43mnp\u001b[49m\u001b[38;5;241;43m.\u001b[39;49m\u001b[43masarray\u001b[49m\u001b[43m(\u001b[49m\u001b[43mu\u001b[49m\u001b[43m,\u001b[49m\u001b[43m \u001b[49m\u001b[43mdtype\u001b[49m\u001b[38;5;241;43m=\u001b[39;49m\u001b[43mdtype\u001b[49m\u001b[43m,\u001b[49m\u001b[43m \u001b[49m\u001b[43morder\u001b[49m\u001b[38;5;241;43m=\u001b[39;49m\u001b[38;5;124;43m'\u001b[39;49m\u001b[38;5;124;43mc\u001b[39;49m\u001b[38;5;124;43m'\u001b[39;49m\u001b[43m)\u001b[49m\n\u001b[1;32m    316\u001b[0m     \u001b[38;5;28;01mif\u001b[39;00m u\u001b[38;5;241m.\u001b[39mndim \u001b[38;5;241m==\u001b[39m \u001b[38;5;241m1\u001b[39m:\n\u001b[1;32m    317\u001b[0m         \u001b[38;5;28;01mreturn\u001b[39;00m u\n",
      "\u001b[0;31mKeyboardInterrupt\u001b[0m: "
     ]
    }
   ],
   "source": [
    "#list_mat_s = dict() # ключ - точка s, значение - списоок матриц\n",
    "\n",
    "dict_mat_s1_alg = {} # ключ - mat, значение - точка s1 по алгоритму s1\n",
    "dict_lll_s1 = {} # ключ - приведенный базис, значение - точка s1 как половина от кратчайшего вектора lll-базиса\n",
    "dict_lll_s1_alg = {} # ключ - приведенный базис, значение - точка s1 по алгоритму s1\n",
    "dict_mat_lll = {} #  ключ - mat, значение - lll\n",
    "#dict_dist = defaultdict(list)\n",
    "\n",
    "list_mat = []\n",
    "list_lll = []\n",
    "list_s1 = []\n",
    "list_s1_alg = []\n",
    "\n",
    "# задаю величину определителя\n",
    "det_mat = 54\n",
    "mat = np.array([[1, 0, 0, 0], [0, 3, 0, 0], [0, 0, 3, 0], [0, 0, 0, 6]], float)\n",
    "max_num_col3 = int(mat[3][3])\n",
    "max_num_col2 = int(mat[2][2])\n",
    "max_num_col1 = int(mat[1][1])\n",
    "\n",
    "\n",
    "for i1 in range(max_num_col3):\n",
    "    mat[2][3] = i1\n",
    "    print(i1)\n",
    "    for i2 in range(max_num_col3):\n",
    "        mat[1][3] = i2\n",
    "        for i3 in range(max_num_col2):\n",
    "            mat[1][2] = i3\n",
    "            for i4 in range(max_num_col3):\n",
    "                mat[0][3] = i4\n",
    "                for i5 in range(max_num_col2):\n",
    "                    mat[0][2] = i5\n",
    "                    for i6 in range(max_num_col1):\n",
    "                        mat[0][1] = i6\n",
    "                        sub_grid = np.dot(mat, grid)\n",
    "                        basis = LLL(sub_grid)\n",
    "                        print(basis)\n",
    "                        \n",
    "                        min_dist = 100\n",
    "                        index = 0\n",
    "                        for i in range(4):\n",
    "                            d_vec = np.linalg.norm(basis[i])\n",
    "                            if d_vec < min_dist:\n",
    "                                min_dist = d_vec\n",
    "                                index = i\n",
    "                        \n",
    "                        if min_dist > min_d:\n",
    "                            s1 = basis[index] * 0.5\n",
    "                            print(mat, s1)\n",
    "                            #dict_lll_s1[basis] = s1\n",
    "                            list_mat.append(mat)\n",
    "                            list_lll.append(basis)\n",
    "                            s1_2 = s_point(sub_grid)\n",
    "                            print(s1_2)\n",
    "                            list_s1.append(s1)\n",
    "                            list_s1_alg.append(s1_2)\n",
    "                            #dict_lll_s1_alg[basis] = s1_2\n",
    "                            #dict_mat_s1_alg[mat] = s1_2"
   ]
  },
  {
   "cell_type": "code",
   "execution_count": null,
   "id": "d4ca669c",
   "metadata": {
    "scrolled": true
   },
   "outputs": [],
   "source": []
  },
  {
   "cell_type": "code",
   "execution_count": null,
   "id": "5998ab39",
   "metadata": {
    "scrolled": true
   },
   "outputs": [],
   "source": []
  },
  {
   "cell_type": "code",
   "execution_count": null,
   "id": "99a4584e",
   "metadata": {
    "scrolled": true
   },
   "outputs": [],
   "source": []
  },
  {
   "cell_type": "code",
   "execution_count": null,
   "id": "74c78752",
   "metadata": {
    "scrolled": true
   },
   "outputs": [],
   "source": []
  },
  {
   "cell_type": "code",
   "execution_count": null,
   "id": "ce5a009a",
   "metadata": {
    "scrolled": true
   },
   "outputs": [],
   "source": []
  },
  {
   "cell_type": "code",
   "execution_count": null,
   "id": "4c5f9e56",
   "metadata": {
    "scrolled": true
   },
   "outputs": [],
   "source": []
  },
  {
   "cell_type": "code",
   "execution_count": null,
   "id": "fbeeeddd",
   "metadata": {
    "scrolled": true
   },
   "outputs": [],
   "source": []
  },
  {
   "cell_type": "markdown",
   "id": "9a7c6d68",
   "metadata": {},
   "source": [
    "list_mat_s = dict() # ключ - точка s, значение - списоок матриц\n",
    "list_val = [-5, -4, -3, -2, -1, 0, 1, 2, 3, 4, 5]\n",
    "#list_val = [0, 1, 2, 3, 4, 5]\n",
    "#det_list = [] # ключ - точка s1,  значение список подрешеток, соответствующих ютой точке \n",
    "lll_good = [] # хорошие приведенные базисы\n",
    "lll_bad = [] # плохие приведенные базисы\n",
    "dict_lll = {} # ключ - приведенный базис, значение - точка s1\n",
    "dict_dist = defaultdict(list)\n",
    "\n",
    "# задаю величину определителя\n",
    "det_mat = 54\n",
    "mat = np.array([[1, 0, 0, 0], [0, 3, 0, 0], [0, 0, 3, 0], [0, 0, 0, 6]], float)\n",
    "\n",
    "\n",
    "for i1 in list_val:\n",
    "    mat[2][3] = i1\n",
    "    print(i1)\n",
    "    for i2 in list_val:\n",
    "        mat[1][3] = i2\n",
    "        for i3 in list_val:\n",
    "            mat[1][2] = i3\n",
    "            for i4 in list_val:\n",
    "                mat[0][3] = i4\n",
    "                for i5 in list_val:\n",
    "                    mat[0][2] = i5\n",
    "                    for i6 in list_val:\n",
    "                        mat[0][1] = i6\n",
    "                        #print(mat)\n",
    "                        sub_grid = np.dot(mat, grid)\n",
    "                        #print(sub_grid, 66)\n",
    "                        #basis = gram_schmidt(sub_grid)\n",
    "                        basis = LLL(sub_grid)\n",
    "                        #print(basis)\n",
    "                        #if any(all(np.array_equal(datum, q) for datum, q in zip(data, basis)) for data in lll_good):   \n",
    "                            #print(1)\n",
    "                           # list_mat_s[tuple(list_ll_s1[basis.tobytes()])].append([copy.deepcopy(mat)])\n",
    "\n",
    "                       # else:\n",
    "                        min_dist = 100\n",
    "                        index = 0\n",
    "                        for i in range(4):\n",
    "                            d_vec = np.linalg.norm(basis[i])\n",
    "                            if d_vec < min_dist:\n",
    "                                min_dist = d_vec\n",
    "                                index = i\n",
    "\n",
    "                        #print(min_dist)\n",
    "                        if min_dist > min_d:\n",
    "                            s1 = basis[index] * 0.5\n",
    "                            #print(mat, s1)\n",
    "                            #s1 = s_point(basis)\n",
    "\n",
    "                            dist_s1 = dist(s1)\n",
    "                            #print(s1, mat, dist_s1)\n",
    "                            if dist_s1 > 1:\n",
    "                                print(s1, basis, min_dist, mat)\n",
    "                                #det_list.append(det_mat)\n",
    "\n",
    "                            lll_good.append(basis)\n",
    "                            dict_lll[basis.tobytes()] = copy.deepcopy(s1)\n",
    "                            dict_dist[dist_s1] = mat\n",
    "                            if tuple(s1) in list_mat_s:\n",
    "                                list_mat_s[tuple(s1)].append([copy.deepcopy(mat)])\n",
    "\n",
    "                            else:\n",
    "                                list_mat_s[tuple(s1)] = [copy.deepcopy(mat)]\n"
   ]
  },
  {
   "cell_type": "markdown",
   "id": "56dcab1f",
   "metadata": {},
   "source": [
    "list_mat_s = dict() # ключ - точка s, значение - списоок матриц\n",
    "list_val = [-5, -4, -3, -2, -1, 0, 1, 2, 3, 4, 5]\n",
    "#list_val = [0, 1, 2, 3, 4, 5]\n",
    "#det_list = [] # ключ - точка s1,  значение список подрешеток, соответствующих ютой точке \n",
    "lll_good = [] # хорошие приведенные базисы\n",
    "lll_bad = [] # плохие приведенные базисы\n",
    "dict_lll = {} # ключ - приведенный базис, значение - точка s1\n",
    "dict_dist = defaultdict(list)\n",
    "\n",
    "# задаю величину определителя\n",
    "det_mat = 32\n",
    "mat = np.array([[2, 0, 0, 0], [0, 2, 0, 0], [0, 0, 2, 0], [0, 0, 0, 4]], float)\n",
    "\n",
    "\n",
    "for i1 in list_val:\n",
    "    mat[2][3] = i1\n",
    "    print(i1)\n",
    "    for i2 in list_val:\n",
    "        mat[1][3] = i2\n",
    "        for i3 in list_val:\n",
    "            mat[1][2] = i3\n",
    "            for i4 in list_val:\n",
    "                mat[0][3] = i4\n",
    "                for i5 in list_val:\n",
    "                    mat[0][2] = i5\n",
    "                    for i6 in list_val:\n",
    "                        mat[0][1] = i6\n",
    "                        #print(mat)\n",
    "                        sub_grid = np.dot(mat, grid)\n",
    "                        #print(sub_grid, 66)\n",
    "                        #basis = gram_schmidt(sub_grid)\n",
    "                        basis = LLL(sub_grid)\n",
    "                        #print(basis)\n",
    "                        #if any(all(np.array_equal(datum, q) for datum, q in zip(data, basis)) for data in lll_good):   \n",
    "                            #print(1)\n",
    "                           # list_mat_s[tuple(list_ll_s1[basis.tobytes()])].append([copy.deepcopy(mat)])\n",
    "\n",
    "                       # else:\n",
    "                        min_dist = 100\n",
    "                        index = 0\n",
    "                        for i in range(4):\n",
    "                            d_vec = np.linalg.norm(basis[i])\n",
    "                            if d_vec < min_dist:\n",
    "                                min_dist = d_vec\n",
    "                                index = i\n",
    "\n",
    "                        #print(min_dist)\n",
    "                        if min_dist > min_d:\n",
    "                            s1 = basis[index] * 0.5\n",
    "                            print(mat, s1)\n",
    "                            #s1 = s_point(basis)\n",
    "\n",
    "                            dist_s1 = dist(s1)\n",
    "                            #print(s1, mat, dist_s1)\n",
    "                            if dist_s1 > 1:\n",
    "                                print(s1, basis, min_dist, mat)\n",
    "                                #det_list.append(det_mat)\n",
    "\n",
    "                            lll_good.append(basis)\n",
    "                            dict_lll[basis.tobytes()] = copy.deepcopy(s1)\n",
    "                            dict_dist[dist_s1] = mat\n",
    "                            if tuple(s1) in list_mat_s:\n",
    "                                list_mat_s[tuple(s1)].append([copy.deepcopy(mat)])\n",
    "\n",
    "                            else:\n",
    "                                list_mat_s[tuple(s1)] = [copy.deepcopy(mat)]\n"
   ]
  },
  {
   "cell_type": "code",
   "execution_count": null,
   "id": "3e048915",
   "metadata": {
    "scrolled": true
   },
   "outputs": [],
   "source": []
  },
  {
   "cell_type": "code",
   "execution_count": null,
   "id": "726d922a",
   "metadata": {
    "scrolled": true
   },
   "outputs": [],
   "source": [
    "# находим минимальный определитель для каждой точки s и матрицы, соответствующие данному хроматическому \n",
    "# числу для каждой точки s\n",
    "\n",
    "dict_det = {} # ключ - точка s, значение - минимальное хроматическое число среди всех матриц\n",
    "dict_s = {} # ключ - точка s, значение - матрицы, соответствующие минимальному хроматическому числу\n",
    "\n",
    "\n",
    "# перебираем все точки s и для каждой считаем определитель, находим минимальный и сооветствующие матрицы\n",
    "for j in list_mat_s:\n",
    "    best_mat = []\n",
    "    min_det = float('inf')\n",
    "    for i in list_mat_s[j]:\n",
    "\n",
    "        det = round(abs(float(np.linalg.det(i))), 0)\n",
    "\n",
    "\n",
    "        # если находим меньший подходящий определитель, то очищаем список матриц и записываем новое з\n",
    "        # начение минимального определителя\n",
    "        if det == min_det:\n",
    "            best_mat.append(i)\n",
    "        if det > 0 and det < min_det:\n",
    "\n",
    "            best_mat.clear()\n",
    "            best_mat.append(i)\n",
    "            min_det = det\n",
    "  \n",
    "    # если определитель меньше бесконечности, то добавляем полученные значения в словари\n",
    "    if min_det < 81:\n",
    "        dict_s[j] = best_mat\n",
    "        dict_det[j] = min_det\n",
    "\n",
    "print(len(dict_s), dict_s)"
   ]
  },
  {
   "cell_type": "code",
   "execution_count": null,
   "id": "a70fad86",
   "metadata": {
    "scrolled": true
   },
   "outputs": [],
   "source": [
    "# ищем расстояние для каждой точки s\n",
    "\n",
    "dict_dist = {}\n",
    "for key in dict_s:\n",
    "    d = dist(key)\n",
    "        \n",
    "    dict_dist[key] = d"
   ]
  },
  {
   "cell_type": "code",
   "execution_count": null,
   "id": "bc6c62a5",
   "metadata": {
    "scrolled": false
   },
   "outputs": [],
   "source": [
    "dict_dist"
   ]
  },
  {
   "cell_type": "code",
   "execution_count": null,
   "id": "08f6cd44",
   "metadata": {
    "scrolled": true
   },
   "outputs": [],
   "source": [
    "# меняем тип данных в словаре с хроматичекими числами\n",
    "\n",
    "dict_det = {k: int(v) for k, v in dict_det.items()}\n",
    "dict_det"
   ]
  },
  {
   "cell_type": "code",
   "execution_count": null,
   "id": "dc288aa0",
   "metadata": {
    "scrolled": true
   },
   "outputs": [],
   "source": [
    "# создаю датафрейм с колонками: 's' - координаты точки s, 'ch_n' - минимальное хроматическое число, \n",
    "# 'dist' - максимальное запрещенное расстояние, 'mats' - список соответствующих матриц\n",
    "\n",
    "df = pd.DataFrame(list(dict_det.items()), columns=['s', 'ch_n'])\n",
    "df['dist'] = df['s'].map(dict_dist)\n",
    "df['mats'] = df['s'].map(dict_s)\n",
    "df"
   ]
  },
  {
   "cell_type": "code",
   "execution_count": null,
   "id": "65577e99",
   "metadata": {
    "scrolled": true
   },
   "outputs": [],
   "source": [
    "df.loc[(df['dist'] > 1)]\n"
   ]
  }
 ],
 "metadata": {
  "kernelspec": {
   "display_name": "Python 3 (ipykernel)",
   "language": "python",
   "name": "python3"
  },
  "language_info": {
   "codemirror_mode": {
    "name": "ipython",
    "version": 3
   },
   "file_extension": ".py",
   "mimetype": "text/x-python",
   "name": "python",
   "nbconvert_exporter": "python",
   "pygments_lexer": "ipython3",
   "version": "3.9.18"
  }
 },
 "nbformat": 4,
 "nbformat_minor": 5
}
